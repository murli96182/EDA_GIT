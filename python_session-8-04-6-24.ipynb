{
 "cells": [
  {
   "cell_type": "markdown",
   "id": "8ca152c6-5f4a-4931-ab90-b225442003de",
   "metadata": {},
   "source": [
    "- we have 3 cases in conditions statement\n",
    "\n",
    "- case-1:if\n",
    "\n",
    "- case-2:if-else\n",
    "\n",
    "- case-3:if-elif-else\n",
    "\n",
    "- conditional statement mean we are asking a question\n",
    "\n",
    "- when we ask the question computer will give True and False\n",
    "\n",
    "- If True then we wants to execute statement\n",
    "\n",
    "- If False also we can execute statement"
   ]
  },
  {
   "cell_type": "code",
   "execution_count": null,
   "id": "cf3d6e4e-5aad-4ad4-a8f9-fd3e3fcb7e20",
   "metadata": {},
   "outputs": [],
   "source": [
    "# syntax\n",
    "# if the statement starts with any keyword\n",
    "# end of the statement : will be there \n",
    "# when : is there then we need to provide indentation\n",
    "# indentation means next lines has start with some space\n",
    "\n",
    "# if <condition>:\n",
    "#    <st1>\n",
    "#    <st2>\n",
    "#    -----\n",
    "#    <stn>\n",
    "\n",
    "# if the condition is true then only \n",
    "# it will go to the inside if block and run the cells"
   ]
  },
  {
   "cell_type": "code",
   "execution_count": null,
   "id": "9ccd0d5c-3e27-4da7-b6e4-17218c56b2fb",
   "metadata": {},
   "outputs": [],
   "source": [
    "a=10\n",
    "print(a)"
   ]
  },
  {
   "cell_type": "code",
   "execution_count": null,
   "id": "febce179-ee9c-42e6-82fa-3d8229e94534",
   "metadata": {},
   "outputs": [],
   "source": [
    "100>10"
   ]
  },
  {
   "cell_type": "code",
   "execution_count": null,
   "id": "6c95560e-d64a-45a0-b3d5-df6b4fa0b23e",
   "metadata": {},
   "outputs": [],
   "source": [
    "if 100>10:\n",
    "    print(\"murli\")"
   ]
  },
  {
   "cell_type": "code",
   "execution_count": null,
   "id": "98b6146e-6be9-4873-9e72-b69fe5430045",
   "metadata": {},
   "outputs": [],
   "source": [
    "**Error1: Indentation error"
   ]
  },
  {
   "cell_type": "code",
   "execution_count": null,
   "id": "5b358642-7ed9-4803-8395-71f115eea982",
   "metadata": {},
   "outputs": [],
   "source": [
    "if 100>10:\n",
    "print(\"murli\")"
   ]
  },
  {
   "cell_type": "markdown",
   "id": "7ef9cfaf-fb8f-4e73-9c75-85e6c5dbbe51",
   "metadata": {},
   "source": [
    "**Error2: miss the: end**"
   ]
  },
  {
   "cell_type": "code",
   "execution_count": null,
   "id": "24fb4754-d74f-4ec4-a5c2-608a8d14b40b",
   "metadata": {},
   "outputs": [],
   "source": [
    "if 100>10\n",
    "print(\"murli\")"
   ]
  },
  {
   "cell_type": "markdown",
   "id": "36d49e95-07b7-47a7-897c-ebe0495a02b9",
   "metadata": {},
   "source": [
    "Error3: no condition"
   ]
  },
  {
   "cell_type": "code",
   "execution_count": null,
   "id": "f83fb291-8571-46c1-ad74-785eb5e3c1e1",
   "metadata": {},
   "outputs": [],
   "source": [
    "100>10"
   ]
  },
  {
   "cell_type": "code",
   "execution_count": null,
   "id": "bec19e16-b619-4563-be73-e4ffc8f29d3e",
   "metadata": {},
   "outputs": [],
   "source": [
    "if 100<10:\n",
    "    print(\"python\")\n"
   ]
  },
  {
   "cell_type": "code",
   "execution_count": null,
   "id": "c3e8dcf8-6eeb-4df8-9035-c01b15866fd3",
   "metadata": {},
   "outputs": [],
   "source": [
    "100>10"
   ]
  },
  {
   "cell_type": "code",
   "execution_count": null,
   "id": "aaf121c0-de18-4694-9957-17c7753af389",
   "metadata": {},
   "outputs": [],
   "source": [
    "if True:\n",
    "    print(\"python\")"
   ]
  },
  {
   "cell_type": "code",
   "execution_count": null,
   "id": "abd19f94-e828-438e-b7be-1e6716096894",
   "metadata": {},
   "outputs": [],
   "source": [
    "if 100>10:\n",
    "    print(\"python\")"
   ]
  },
  {
   "cell_type": "code",
   "execution_count": null,
   "id": "be0bd1b5-7dd0-400a-9b1b-c08e9bb156c4",
   "metadata": {},
   "outputs": [],
   "source": [
    "print(1)\n",
    "print(2)\n",
    "########################### normal block\n",
    "if 100<10:    #False\n",
    "    print(\"murli\")\n",
    "    print(\"bye\")\n",
    "########################## if block\n",
    "print(\"hello\")      #hello\n",
    "print(\"python\")     #python\n",
    "if 1000>100:\n",
    "    print(\"good\")\n",
    "    print(\"day\")"
   ]
  },
  {
   "cell_type": "code",
   "execution_count": null,
   "id": "0cb3851a-9b2a-499d-9f0a-aca598be96fb",
   "metadata": {},
   "outputs": [],
   "source": [
    "**case-2: if-else**\n",
    "\n",
    "# syntax\n",
    "\n",
    "# if <condition>:\n",
    "    # st1\n",
    "    #st2\n",
    "# else:\n",
    "    #st1\n",
    "\n",
    "# if block required condition\n",
    "# if block condition fails\n",
    "# then automatically it goes to else block\n",
    "# so else block does no require condition"
   ]
  },
  {
   "cell_type": "code",
   "execution_count": null,
   "id": "6f7efb32-3c55-4dd6-bd3d-276ffcb20b00",
   "metadata": {},
   "outputs": [],
   "source": [
    "print(1)\n",
    "if 100>10:\n",
    "    print(\"good condition is correct\")\n",
    "    print(2)\n",
    "print(3)\n",
    "else:\n",
    "    print(\"bad condition is wrong\")   # these is not indantation is syntax\n",
    "    print(4)\n",
    "print(5)"
   ]
  },
  {
   "cell_type": "code",
   "execution_count": null,
   "id": "73a00428-2cf3-4c55-8cd5-bb5991eedb10",
   "metadata": {},
   "outputs": [],
   "source": [
    "if 100>10:\n",
    "    print(\"good condition is correct\")\n",
    "else:\n",
    "    print(\"bad condition is wrong\")  # these is indantation\n",
    "    "
   ]
  },
  {
   "cell_type": "code",
   "execution_count": null,
   "id": "7505fd6f-81a1-472a-b61c-cd08fa7e5e3e",
   "metadata": {},
   "outputs": [],
   "source": [
    "#### print(1)\n",
    "if 100>10:\n",
    "    print(\"good condition is correct\")\n",
    "    print(2/0)\n",
    "else:\n",
    "    print(\"bad condition is wrong\")\n",
    "    print(4)\n",
    "print(5)\n",
    "    "
   ]
  },
  {
   "cell_type": "code",
   "execution_count": null,
   "id": "25ae2b32-38da-4865-8002-6cb6d1806634",
   "metadata": {},
   "outputs": [],
   "source": [
    "4/5   # / :divison"
   ]
  },
  {
   "cell_type": "code",
   "execution_count": null,
   "id": "c9f2e2af-89c0-4cda-b31c-9580afe8c9ae",
   "metadata": {},
   "outputs": [],
   "source": [
    "5//4    #//: quotient"
   ]
  },
  {
   "cell_type": "code",
   "execution_count": null,
   "id": "7c1e5987-8633-4bf7-887b-df7b7b67e241",
   "metadata": {},
   "outputs": [],
   "source": [
    "4%5    # : modules : reminder"
   ]
  },
  {
   "cell_type": "code",
   "execution_count": null,
   "id": "ef16436f-e46a-4d1a-af98-cf70997e14a0",
   "metadata": {},
   "outputs": [],
   "source": [
    "#WAP ask the user enter a value from keyboard\n",
    "# Find whether the number is even or odd\n",
    "\n",
    "#hint: num%2==0\n",
    "#step-1: get the number from keyboard\n",
    "#step-2: if<condition>:\n",
    "#step-3:print(f\"the {num} is even\")\n",
    "#step-4:else:\n",
    "#step5:    print(f\"the {num} is odd\")"
   ]
  },
  {
   "cell_type": "code",
   "execution_count": null,
   "id": "3eece977-3f1a-41f5-9d8f-adc000244c93",
   "metadata": {},
   "outputs": [],
   "source": [
    "num=eval(input(\"enter the number:\"))\n",
    "if num%2==0:         # = means assingnimng a value\n",
    "   print(f\"the {num} is even\") #  == checking the condition\n",
    "else:\n",
    "    print(f\"the {num} is odd\")"
   ]
  },
  {
   "cell_type": "code",
   "execution_count": null,
   "id": "adc8c2bd-0c1a-4411-b08a-7c2e3e2522c7",
   "metadata": {},
   "outputs": [],
   "source": [
    "#\n",
    "# by taking number randomly between10,100\n",
    "import random\n",
    "num=random.randint(10,100)\n",
    "if num%2==0:\n",
    "    print(f\"the {num} is even\")\n",
    "else:\n",
    "    print(f\"the {num} is odd\")"
   ]
  },
  {
   "cell_type": "code",
   "execution_count": null,
   "id": "782b5fdc-fac0-427d-a057-44e0abc09c76",
   "metadata": {},
   "outputs": [],
   "source": [
    "# game program\n",
    "# there are two numbers\n",
    "# num1 comes from random\n",
    "# num2 is taking from thr keyboard\n",
    "# if both number are equal\n",
    "#    then print you won\n",
    "#else\n",
    "#     print you loss\n"
   ]
  },
  {
   "cell_type": "code",
   "execution_count": 8,
   "id": "f2a18396-b9b4-4cf1-bd68-ea060b1f9fae",
   "metadata": {},
   "outputs": [
    {
     "name": "stdin",
     "output_type": "stream",
     "text": [
      "enter the number: 5\n"
     ]
    },
    {
     "name": "stdout",
     "output_type": "stream",
     "text": [
      "loss\n"
     ]
    }
   ],
   "source": [
    "import random\n",
    "num1=random.randint(1,10)\n",
    "num2=eval(input(\"enter the number:\"))\n",
    "if num1==num2:\n",
    "          print(\"won\")\n",
    "else:\n",
    "    print(\"loss\")"
   ]
  },
  {
   "cell_type": "code",
   "execution_count": 11,
   "id": "bee15c32-3981-4f9e-8147-0430f0ba0ba3",
   "metadata": {},
   "outputs": [
    {
     "ename": "IndentationError",
     "evalue": "unexpected indent (3611092475.py, line 3)",
     "output_type": "error",
     "traceback": [
      "\u001b[1;36m  Cell \u001b[1;32mIn[11], line 3\u001b[1;36m\u001b[0m\n\u001b[1;33m    if add==a+b:\u001b[0m\n\u001b[1;37m    ^\u001b[0m\n\u001b[1;31mIndentationError\u001b[0m\u001b[1;31m:\u001b[0m unexpected indent\n"
     ]
    }
   ],
   "source": [
    "a=eval(input(\"enter a num1:\"))\n",
    "b=eval(input(\"enter a num2:\"))\n",
    "    if add==a+b:\n",
    "      print(f\"the addition of {a} and {b} is: {add}\")\n",
    "except:\n",
    "    print(\"error is there\")\n",
    "    print(\"check the code\")\n",
    "n1=30\n",
    "n2=10\n",
    "if n1>n2:"
   ]
  },
  {
   "cell_type": "code",
   "execution_count": 7,
   "id": "abe1c364-1ecd-4696-a6e6-59be2308c3dc",
   "metadata": {
    "scrolled": true
   },
   "outputs": [
    {
     "ename": "IndentationError",
     "evalue": "unexpected indent (2016471729.py, line 2)",
     "output_type": "error",
     "traceback": [
      "\u001b[1;36m  Cell \u001b[1;32mIn[7], line 2\u001b[1;36m\u001b[0m\n\u001b[1;33m    b=eval(input(\"enter a num2:\"))\u001b[0m\n\u001b[1;37m    ^\u001b[0m\n\u001b[1;31mIndentationError\u001b[0m\u001b[1;31m:\u001b[0m unexpected indent\n"
     ]
    }
   ],
   "source": [
    "a=eval(input(\"enter a num1:\"))\n",
    "    b=eval(input(\"enter a num2:\"))\n",
    "    add=a+b\n",
    "    print(f\"the addition of {a} and {b} is: {add}\")\n",
    "except:\n",
    "    print(\"error is there\")\n",
    "    print(\"check the code\")\n",
    "n1=30\n",
    "n2=10\n",
    "if n1>n2:dist=eval(input(\"how much distance need to travel:\"))\n",
    "charge=eval(input(\"enter charge per km:\"))\n",
    "if dist > 25:\n",
    "    print(f\"total charge :{dist*charge}\")\n",
    "else:\n",
    "    print(\"it is free ride\")\n",
    "    "
   ]
  },
  {
   "cell_type": "code",
   "execution_count": 1,
   "id": "03adf032-da86-41ae-b9e2-87e40288368d",
   "metadata": {},
   "outputs": [
    {
     "name": "stdin",
     "output_type": "stream",
     "text": [
      "how much distance needto travel : 10\n"
     ]
    },
    {
     "name": "stdout",
     "output_type": "stream",
     "text": [
      "it is free ride\n"
     ]
    }
   ],
   "source": [
    "# wap ask the user enter how much distance need to travel\n",
    "#     ask the user enter charge per km\n",
    "#     if the distance >25km km\n",
    "#         then print total charge \n",
    "#      otherwise \n",
    "#         print free ride\n",
    "dist = eval(input(\"how much distance needto travel :\"))\n",
    "if dist > 25:\n",
    "    charge=eval(input(\"enter charge per km:\"))\n",
    "    print(f\"total charge :{dist*charge}\")\n",
    "else:\n",
    "    print(\"it is free ride\")\n",
    "    "
   ]
  },
  {
   "cell_type": "markdown",
   "id": "6d471ed9-d90f-4ed0-9b19-494238248f29",
   "metadata": {},
   "source": [
    "**case-3: if-elif-else**"
   ]
  },
  {
   "cell_type": "code",
   "execution_count": null,
   "id": "8c50c8a4-aa87-478a-a37f-0b5d066865cd",
   "metadata": {},
   "outputs": [],
   "source": [
    "# I we have two conditions \n",
    "# one condition refer to if block\n",
    "# automatically second condition refer to else block\n",
    "\n",
    "# what happens if we have 3 conditions are there\n",
    "# then we will use elif\n",
    "\n",
    "# always first condition under if block\n",
    "# last condition under else block\n",
    "# remaining all other conditions under elif block\n",
    "\n",
    "# if <con1>:\n",
    "    # st1\n",
    "# elif <con2>:\n",
    "    #st2\n",
    "#else:\n",
    "    # st3\n",
    "\n",
    "c1    c2    c3    c4\n",
    "if   elif   elif  else\n",
    "\n",
    "c1    c2    c3    c4\n",
    "if    elif  elif  else"
   ]
  },
  {
   "cell_type": "code",
   "execution_count": null,
   "id": "8ae2915f-566c-42fc-b6f5-0279e5244190",
   "metadata": {},
   "outputs": [],
   "source": [
    "#wap ask the user enter a number\n",
    "# if number equal to 1 then print 1:if\n",
    "# if number equal to 2 then print 2:elif\n",
    "# if number equal to 3 then print 3:elif\n",
    "# if number equal to 4 then print 4:elif\n",
    "# other wise print bye: else "
   ]
  },
  {
   "cell_type": "code",
   "execution_count": 2,
   "id": "abc3574b-d169-4fb3-9515-cfc484ea5855",
   "metadata": {},
   "outputs": [
    {
     "name": "stdin",
     "output_type": "stream",
     "text": [
      "enter the number: 10\n"
     ]
    },
    {
     "name": "stdout",
     "output_type": "stream",
     "text": [
      "nuber not mach\n"
     ]
    }
   ],
   "source": [
    "num=eval(input(\"enter the number:\"))\n",
    "if num==1:\n",
    "    print(f\"{num} is mach\")\n",
    "elif num==2:\n",
    "    print(f\"{num} is mach\")\n",
    "elif num==3:\n",
    "    print(f\"{num} is mach\")\n",
    "elif num==4:\n",
    "    print(f\"{num} is mach\")\n",
    "else:\n",
    "    print(\"nuber not mach\")"
   ]
  },
  {
   "cell_type": "code",
   "execution_count": null,
   "id": "ffe5b91a-c933-4e26-970e-cf617348daf0",
   "metadata": {},
   "outputs": [],
   "source": [
    "#WAP ask the user \n",
    "# enter marks percentage \n",
    "# if percenatge greater then 90 then print A grade \n",
    "# if percentage between 70 and90 then print B grade\n",
    "# if percentage between 50 and 70 then print C grade\n",
    "# if percentage between 35 and 50 then print D grade \n",
    "# otherwise print fail"
   ]
  },
  {
   "cell_type": "code",
   "execution_count": 5,
   "id": "0c723a22-6f54-4834-919c-ac3b0a49fe6f",
   "metadata": {},
   "outputs": [
    {
     "name": "stdin",
     "output_type": "stream",
     "text": [
      "enter the percentage: 95\n"
     ]
    },
    {
     "name": "stdout",
     "output_type": "stream",
     "text": [
      "A grade\n"
     ]
    }
   ],
   "source": [
    "per=eval(input('enter the percentage:'))\n",
    "if per>=90:                          # if 99>==90 True\n",
    "    print('A grade')\n",
    "elif per>=70:\n",
    "    print('B grade')\n",
    "elif per>=50:\n",
    "    print('c grade')\n",
    "elif per>=35:\n",
    "    print('D grade')\n",
    "else:\n",
    "    print('fail')"
   ]
  },
  {
   "cell_type": "markdown",
   "id": "527161b7-41b3-4141-bb98-65e2e5ecb349",
   "metadata": {},
   "source": [
    "- when if conditions fails then it checks next condition i.e.elif\n",
    "\n",
    "- suppose elif also fails then it check next condition i.e.elif\n",
    "\n",
    "- this chain reaction keeps on continue bill the condition should satisfy"
   ]
  },
  {
   "cell_type": "code",
   "execution_count": null,
   "id": "02cc9df8-28b0-4b2b-929f-5c12b99714f2",
   "metadata": {},
   "outputs": [],
   "source": [
    "#WAP ask the user \n",
    "# enter age\n",
    "# if age greater then 90 then print lucky man\n",
    "# if age between 70 and90 then print old man\n",
    "# if age between 50 and 70 then print sc\n",
    "# if age between 35 and 50 then print middile aged\n",
    "# if age between 20 and 35 then print young\n",
    "# if age between 13 and 20 then print teen\n",
    "# otherwise print kid"
   ]
  },
  {
   "cell_type": "code",
   "execution_count": 8,
   "id": "0dee9950-2eed-46b0-8d2a-e2ae5f943510",
   "metadata": {},
   "outputs": [
    {
     "name": "stdin",
     "output_type": "stream",
     "text": [
      "enter the percentage 95\n"
     ]
    },
    {
     "name": "stdout",
     "output_type": "stream",
     "text": [
      "lucky man\n"
     ]
    }
   ],
   "source": [
    "age=eval(input('enter the percentage'))\n",
    "if age>=90:                          # if 99>==90 True\n",
    "    print('lucky man')\n",
    "elif age>=70:\n",
    "    print('old man')\n",
    "elif age>=50:\n",
    "    print('sc')\n",
    "elif age>=35:\n",
    "    print('middile aged')\n",
    "elif age>=20:\n",
    "    print('young')\n",
    "elif age>=13:\n",
    "    print('teen')\n",
    "else:\n",
    "    print('kid')"
   ]
  },
  {
   "cell_type": "code",
   "execution_count": null,
   "id": "8cf2a5b0-b668-48fc-ae6e-0d9177246ad2",
   "metadata": {},
   "outputs": [],
   "source": [
    "# add\n",
    "# mul\n",
    "# sub\n",
    "# div  based on conditions\n",
    "\n",
    "# take two numbers\n",
    "# num1 from keyboard \n",
    "# num2 from keyboard\n",
    "# enter the operation 1 for addition\n",
    "# enter the operation 2 for mul\n",
    "# enter the operation 3 for sub\n",
    "# enter the operation 4 for div\n",
    "\n",
    "# operation=ask the user enter operation from keyboard\n",
    "# if operation equal to 1\n",
    "#    perform the addition\n",
    "# if operation equal to 2\n",
    "#    perform the sub\n",
    "# if operation equal to 3\n",
    "#    perform the mul\n",
    "# if operation equal to 4\n",
    "#    perform the div"
   ]
  },
  {
   "cell_type": "code",
   "execution_count": 11,
   "id": "80f028db-7f66-4848-aad1-41c69c3c7893",
   "metadata": {},
   "outputs": [
    {
     "name": "stdin",
     "output_type": "stream",
     "text": [
      "enter the number: 8\n",
      "enter the number: 6\n"
     ]
    },
    {
     "name": "stdout",
     "output_type": "stream",
     "text": [
      "enter the operation 1 for addition\n",
      "enter the operation 2 for addition\n",
      "enter the operation 3 for addition\n",
      "enter the operation 4 for addition\n"
     ]
    },
    {
     "name": "stdin",
     "output_type": "stream",
     "text": [
      "enter the values between 1to4: 2\n"
     ]
    },
    {
     "name": "stdout",
     "output_type": "stream",
     "text": [
      " not valid operation:\n"
     ]
    }
   ],
   "source": [
    "num1=eval(input(\"enter the number:\"))\n",
    "num2=eval(input(\"enter the number:\"))\n",
    "print(\"enter the operation 1 for addition\")\n",
    "print(\"enter the operation 2 for addition\")\n",
    "print(\"enter the operation 3 for addition\")\n",
    "print(\"enter the operation 4 for addition\")\n",
    "\n",
    "operation=eval(input(\"enter the values between 1to4:\"))\n",
    "if operation=='1':\n",
    "    add=num1+num2\n",
    "    print (f\"the sum is {add}:\")\n",
    "elif operation=='2':\n",
    "    sub=num1-num2\n",
    "    print(f\"the sum is {sub}:\")\n",
    "elif operation=='3':\n",
    "    mul=num1*num2\n",
    "    print(f\"the sum is {mul}:\")\n",
    "elif operation=='4':\n",
    "    div=num1/num2\n",
    "    print(f\"the sum is {div}:\")\n",
    "else:\n",
    "    print(f\" not valid operation:\")\n",
    "\n"
   ]
  },
  {
   "cell_type": "code",
   "execution_count": null,
   "id": "ca3a31c1-3172-4989-a4b3-835ec8012bf6",
   "metadata": {},
   "outputs": [],
   "source": [
    "#Wap\n",
    "# ask the use enter gender\n",
    "# if gender equal to male\n",
    "#    ask the user enter age \n",
    "#    if age greater then 30 then print middilaged\n",
    "#    otherwise print boy\n",
    "# elif gender equal to female \n",
    "#    ask the user enter age \n",
    "#    if age greater then 30 then print middlaged woman\n",
    "#    other wise print girl\n",
    "#otherwise \n",
    "#    print enter valid gender"
   ]
  },
  {
   "cell_type": "code",
   "execution_count": 10,
   "id": "36b3bbda-e2d3-4c21-9449-6d0a3403f522",
   "metadata": {},
   "outputs": [
    {
     "name": "stdin",
     "output_type": "stream",
     "text": [
      "enter the gender: male\n",
      "enter the age: 25\n"
     ]
    },
    {
     "name": "stdout",
     "output_type": "stream",
     "text": [
      "boy\n"
     ]
    }
   ],
   "source": [
    "gender=input(\"enter the gender:\")\n",
    "if  gender=='male':\n",
    "    age=eval(input(\"enter the age:\"))\n",
    "    if age==30:\n",
    "        print(\" middilaged male:\")\n",
    "    else:\n",
    "         print(\"boy\")\n",
    "elif gender=='female':\n",
    "    age=eval(input(\"enter the age:\"))\n",
    "    if age>=30:\n",
    "        print(\"middilaged woman\")\n",
    "    else:\n",
    "        print(\"girl\")\n",
    "else:\n",
    "    print(\"valid gender\")"
   ]
  },
  {
   "cell_type": "code",
   "execution_count": null,
   "id": "b4698cff-49e8-499e-9600-a5e9b0c2de87",
   "metadata": {},
   "outputs": [],
   "source": [
    "#wap ask the user enter gender \n",
    "# if gender equal to female \n",
    "#    ask the user id card is there or not\n",
    "#    if id card is there \n",
    "#        print(\"enjoy the free ride\")\n",
    "#    else:\n",
    "#        ask the user how much distance need to travel\n",
    "#        ask the user enter charge per km\n",
    "#        print total charge\n",
    "# elif gender equal to male\n",
    "#        ask the user how muchdistance need to travel\n",
    "#        ask the user enter charge per km\n",
    "#        print totalcharge \n",
    "# else\n",
    "#    print valid gender "
   ]
  },
  {
   "cell_type": "code",
   "execution_count": 13,
   "id": "f2332b06-fd04-4dfd-90f8-927a3e951df6",
   "metadata": {},
   "outputs": [
    {
     "name": "stdin",
     "output_type": "stream",
     "text": [
      "enter gender female\n",
      "do you have id card? no\n",
      "how many kms you wantto travel? 25\n"
     ]
    },
    {
     "name": "stdout",
     "output_type": "stream",
     "text": [
      "amount to be paid for travel is 250:\n"
     ]
    }
   ],
   "source": [
    "gen=input(\"enter gender\")\n",
    "if gen==\"female\":\n",
    "    id=input(\"do you have id card?\")\n",
    "    if id==\"yes\":\n",
    "        print(\"enjoy free ride\")\n",
    "    else:\n",
    "        km=eval(input(\"how many kms you wantto travel?\"))\n",
    "        charge=10\n",
    "        print(f\"amount to be paid for travel is {km*charge}:\")\n"
   ]
  },
  {
   "cell_type": "code",
   "execution_count": 5,
   "id": "dee2a84f-edff-4370-9085-34e1df17d5f5",
   "metadata": {},
   "outputs": [
    {
     "name": "stdin",
     "output_type": "stream",
     "text": [
      "enter the 1st number: 91\n",
      "enter the 2nd number: 86\n",
      "enter the 3rd number: 40\n"
     ]
    },
    {
     "name": "stdout",
     "output_type": "stream",
     "text": [
      "91 is biggest\n"
     ]
    }
   ],
   "source": [
    "#wap ask the user enter 3 number\n",
    "# find the biggest number\n",
    "\n",
    "num1 = eval(input(\"enter the 1st number:\"))\n",
    "num2 = eval(input(\"enter the 2nd number:\"))\n",
    "num3 = eval(input(\"enter the 3rd number:\"))\n",
    "\n",
    "if num1>num2:\n",
    "    print(f\"{num1} is biggest\")\n",
    "elif num2>num3:\n",
    "    print(f\"{num2} is biggest\")\n",
    "else:\n",
    "    print(f\"{num3} is biggest\")                  "
   ]
  },
  {
   "cell_type": "code",
   "execution_count": null,
   "id": "954b38a0-2c2a-4bb3-a986-4cae7aa22335",
   "metadata": {},
   "outputs": [],
   "source": []
  }
 ],
 "metadata": {
  "kernelspec": {
   "display_name": "Python 3 (ipykernel)",
   "language": "python",
   "name": "python3"
  },
  "language_info": {
   "codemirror_mode": {
    "name": "ipython",
    "version": 3
   },
   "file_extension": ".py",
   "mimetype": "text/x-python",
   "name": "python",
   "nbconvert_exporter": "python",
   "pygments_lexer": "ipython3",
   "version": "3.11.7"
  }
 },
 "nbformat": 4,
 "nbformat_minor": 5
}
