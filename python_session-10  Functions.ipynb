{
 "cells": [
  {
   "cell_type": "markdown",
   "id": "9432f5ca-481a-48b8-bbd4-902b52b9f9a5",
   "metadata": {},
   "source": [
    "**Functions**\n",
    "\n",
    "- Reuse of the code\n",
    "\n",
    "- imagine you want to calculate tax of all tax payers\n",
    "\n",
    "- suppose there are 100 tax payers are there\n",
    "\n",
    "- in order to calculate tax it will required 500 lines\n",
    "\n",
    "- this is not goo approach\n",
    "\n",
    "- because 5 lines we are repeating for 100members\n",
    "\n",
    "- here functions wii help us how to use only there 5 lines to all 100tax payers"
   ]
  },
  {
   "cell_type": "code",
   "execution_count": 1,
   "id": "5386ea7b-7d7d-482a-af4b-50b67e12f582",
   "metadata": {},
   "outputs": [
    {
     "name": "stdin",
     "output_type": "stream",
     "text": [
      "enter the salary: 10000\n",
      "enter the tax per: 8\n"
     ]
    },
    {
     "name": "stdout",
     "output_type": "stream",
     "text": [
      "the amount of tax pay is 800.0\n"
     ]
    }
   ],
   "source": [
    "salary=eval(input(\"enter the salary:\"))\n",
    "tax_per=eval(input(\"enter the tax per:\"))\n",
    "tax_amount= salary*tax_per/100\n",
    "print(f\"the amount of tax pay is {tax_amount}\")"
   ]
  },
  {
   "cell_type": "code",
   "execution_count": null,
   "id": "aed40943-1d52-4cda-b5d2-940114287dfe",
   "metadata": {},
   "outputs": [],
   "source": [
    "#syntax\n",
    "\n",
    "# def <function_name>():\n",
    "#     <code start here>"
   ]
  },
  {
   "cell_type": "code",
   "execution_count": 2,
   "id": "a4aa62f0-52da-4cf9-81eb-5246024c9c54",
   "metadata": {},
   "outputs": [
    {
     "name": "stdout",
     "output_type": "stream",
     "text": [
      "30\n"
     ]
    }
   ],
   "source": [
    "n1=10\n",
    "n2=20\n",
    "add=n1+n2\n",
    "print(add)"
   ]
  },
  {
   "cell_type": "code",
   "execution_count": 8,
   "id": "b622d5af-285b-4292-a81b-bb3a4aba23cf",
   "metadata": {},
   "outputs": [],
   "source": [
    "def addition():\n",
    "    n1=10\n",
    "    n2=20\n",
    "    add=n1+n2\n",
    "    print(add)"
   ]
  },
  {
   "cell_type": "code",
   "execution_count": 9,
   "id": "3caaae32-d1da-4dc0-aefc-fa4c458aa184",
   "metadata": {},
   "outputs": [
    {
     "name": "stdout",
     "output_type": "stream",
     "text": [
      "30\n"
     ]
    }
   ],
   "source": [
    "addition()"
   ]
  },
  {
   "cell_type": "markdown",
   "id": "69518394-b286-48a4-a0b2-400daab9b87c",
   "metadata": {},
   "source": [
    "- first mistake you will forget the brackets while define functions\n",
    "      - synatax error\n",
    "\n",
    "- 2nd mistake you will forget colon\n",
    "      - syntax error\n",
    "\n",
    "- 3rd mistake you will not give indetation\n",
    "    - indentation error\n",
    "\n",
    "- 4th mistake you,you wii copy the code you will forget to make the allignment\n",
    "      - indentation error\n",
    "\n",
    "- 5th mistake: variable name and functions name must be different\n",
    "              - this error will get future,when we create app\n",
    "\n",
    "- 6th mistake:while calling the functions you will forget the brackets\n",
    " "
   ]
  },
  {
   "cell_type": "markdown",
   "id": "8775197f-e0bd-453a-af25-3232fb21be1e",
   "metadata": {},
   "source": [
    "**Functions also called a method**\n",
    "- **whenever function is there brackets must**"
   ]
  },
  {
   "cell_type": "code",
   "execution_count": 11,
   "id": "d30fde5e-c032-45c8-be55-b8517d38a8d8",
   "metadata": {},
   "outputs": [],
   "source": [
    "def add1():\n",
    "    n1=eval(input(\"enter the number1:\"))\n",
    "    n2=eval(input(\"enter the number2:\"))\n",
    "    add=n111+n2\n",
    "    print(add)"
   ]
  },
  {
   "cell_type": "code",
   "execution_count": 12,
   "id": "5a99b5c5-99c7-46cf-a5d2-797c9004e2c5",
   "metadata": {},
   "outputs": [
    {
     "name": "stdin",
     "output_type": "stream",
     "text": [
      "enter the number1: 10\n",
      "enter the number2: 20\n"
     ]
    },
    {
     "ename": "NameError",
     "evalue": "name 'n111' is not defined",
     "output_type": "error",
     "traceback": [
      "\u001b[1;31m---------------------------------------------------------------------------\u001b[0m",
      "\u001b[1;31mNameError\u001b[0m                                 Traceback (most recent call last)",
      "Cell \u001b[1;32mIn[12], line 1\u001b[0m\n\u001b[1;32m----> 1\u001b[0m add1()\n",
      "Cell \u001b[1;32mIn[11], line 4\u001b[0m, in \u001b[0;36madd1\u001b[1;34m()\u001b[0m\n\u001b[0;32m      2\u001b[0m n1\u001b[38;5;241m=\u001b[39m\u001b[38;5;28meval\u001b[39m(\u001b[38;5;28minput\u001b[39m(\u001b[38;5;124m\"\u001b[39m\u001b[38;5;124menter the number1:\u001b[39m\u001b[38;5;124m\"\u001b[39m))\n\u001b[0;32m      3\u001b[0m n2\u001b[38;5;241m=\u001b[39m\u001b[38;5;28meval\u001b[39m(\u001b[38;5;28minput\u001b[39m(\u001b[38;5;124m\"\u001b[39m\u001b[38;5;124menter the number2:\u001b[39m\u001b[38;5;124m\"\u001b[39m))\n\u001b[1;32m----> 4\u001b[0m add\u001b[38;5;241m=\u001b[39mn111\u001b[38;5;241m+\u001b[39mn2\n\u001b[0;32m      5\u001b[0m \u001b[38;5;28mprint\u001b[39m(add)\n",
      "\u001b[1;31mNameError\u001b[0m: name 'n111' is not defined"
     ]
    }
   ],
   "source": [
    "add1()"
   ]
  },
  {
   "cell_type": "markdown",
   "id": "a05d2d3a-8285-4ab0-b778-ca7cf3cae727",
   "metadata": {},
   "source": [
    "**note**\n",
    "\n",
    "  - define the function will not get the error\n",
    "  - error will display after calling the function only\n"
   ]
  },
  {
   "cell_type": "markdown",
   "id": "bcbaff16-89e8-4a58-881e-5b525e5f1150",
   "metadata": {},
   "source": [
    "## method-1\n",
    "\n",
    "**functions with out argument**\n",
    "\n",
    "- when we define function we will provide brackets \n",
    "\n",
    "- inside these brackets we can provide the values also\n",
    "\n",
    "- these values are called as arguments or parameters\n",
    "\n",
    "- if we dont provide arguments it is known as"
   ]
  },
  {
   "cell_type": "markdown",
   "id": "9d96640a-15fe-434c-aa37-d79e94ef0655",
   "metadata": {},
   "source": [
    "## method-2\n",
    "\n",
    "**functions with arguments**\n",
    "\n",
    "- how many variable are there in agiven function\n",
    "\n",
    "    - input variable : user will be provided\n",
    "    -  suppose n1 and n2 are two input variable \n",
    "\n",
    "**concentrate on input variable**"
   ]
  },
  {
   "cell_type": "code",
   "execution_count": null,
   "id": "30c1682c-70b8-4509-8b7a-cce4a9713ee9",
   "metadata": {},
   "outputs": [],
   "source": []
  },
  {
   "cell_type": "code",
   "execution_count": null,
   "id": "581f6e40-0440-440d-a6c4-775b935e121a",
   "metadata": {},
   "outputs": [],
   "source": [
    "# create a function \n",
    "# Q1)read three numbers find the average"
   ]
  },
  {
   "cell_type": "code",
   "execution_count": 38,
   "id": "09adc939-24e7-4fd8-a340-1c52f669fb11",
   "metadata": {},
   "outputs": [
    {
     "name": "stdout",
     "output_type": "stream",
     "text": [
      "the average of 20,25 and 15 is 20.0:\n"
     ]
    }
   ],
   "source": [
    "def average(n1,n2,n3):\n",
    "    avg=(n1+n2+n3)/3\n",
    "    print(f\"the average of {n1},{n2} and {n3} is {avg}:\")\n",
    "average(20,25,15)"
   ]
  },
  {
   "cell_type": "code",
   "execution_count": 1,
   "id": "11c0bf27-ab59-4be0-a26b-d772ebe986d1",
   "metadata": {},
   "outputs": [
    {
     "name": "stdin",
     "output_type": "stream",
     "text": [
      "enter the number of number1: 10\n",
      "enter the number of number2: 20\n",
      "enter the number of number3: 30\n"
     ]
    },
    {
     "name": "stdout",
     "output_type": "stream",
     "text": [
      "the average of 10,20 and 30 is 20.0:\n"
     ]
    }
   ],
   "source": [
    "def avg():\n",
    "    n1=eval(input(\"enter the number of number1:\"))\n",
    "    n2=eval(input(\"enter the number of number2:\"))\n",
    "    n3=eval(input(\"enter the number of number3:\"))\n",
    "    avg=(n1+n2+n3)/3\n",
    "    average1=round(avg,2)\n",
    "    print(f\"the average of {n1},{n2} and {n3} is {average1}:\")\n",
    "avg()\n"
   ]
  },
  {
   "cell_type": "code",
   "execution_count": 36,
   "id": "f1684c78-7e4c-46c1-b9cd-6bca8cbb4fa5",
   "metadata": {},
   "outputs": [],
   "source": [
    "# create a function \n",
    "# Q1)read three numbers find the average"
   ]
  },
  {
   "cell_type": "code",
   "execution_count": 20,
   "id": "144b18bb-5521-4b0f-920d-c482fcf8bff9",
   "metadata": {},
   "outputs": [
    {
     "name": "stdin",
     "output_type": "stream",
     "text": [
      "enter the number of n1: 20\n",
      "enter the number of n2: 25\n",
      "enter the number of n3: 15\n"
     ]
    },
    {
     "name": "stdout",
     "output_type": "stream",
     "text": [
      "the average of 20,25 and 15 is 20.0:\n"
     ]
    }
   ],
   "source": [
    "average()"
   ]
  },
  {
   "cell_type": "code",
   "execution_count": 17,
   "id": "977cc8b6-5367-4e17-b5c4-197568e4f998",
   "metadata": {},
   "outputs": [],
   "source": [
    "# Q2) create a function ask the user enter the bill amount\n",
    "      #enter the tip per\n",
    "      #calculate total bill pay"
   ]
  },
  {
   "cell_type": "code",
   "execution_count": 3,
   "id": "8e59c71d-b045-4f8c-ad1b-e9c135c79241",
   "metadata": {},
   "outputs": [
    {
     "name": "stdin",
     "output_type": "stream",
     "text": [
      "enter the bill amount: 50\n",
      "enter the tip percentage: 4\n"
     ]
    },
    {
     "name": "stdout",
     "output_type": "stream",
     "text": [
      "the calculate the total amount of billing: 2.0\n"
     ]
    }
   ],
   "source": [
    "def billing():\n",
    "    bill=eval(input(\"enter the bill amount:\"))\n",
    "    tip=eval(input(\"enter the tip percentage:\"))\n",
    "    tip_bill=bill*tip/100\n",
    "    \n",
    "    print(f\"the calculate the total amount of billing: {cal_totalbill}\")  \n",
    "billing()"
   ]
  },
  {
   "cell_type": "code",
   "execution_count": null,
   "id": "cb06cdc8-7c3b-49b0-b00f-17441640883a",
   "metadata": {},
   "outputs": [],
   "source": [
    "# Q3) create a function ask the user enter radius\n",
    "      #calculate the area of the circle"
   ]
  },
  {
   "cell_type": "code",
   "execution_count": 14,
   "id": "9f8bebd7-c974-40ab-8994-caecdc6071b5",
   "metadata": {},
   "outputs": [
    {
     "name": "stdin",
     "output_type": "stream",
     "text": [
      "enter the raius of cicle: 10\n"
     ]
    },
    {
     "name": "stdout",
     "output_type": "stream",
     "text": [
      "enter the area of the circle is:314.16\n"
     ]
    }
   ],
   "source": [
    "import math\n",
    "pi=math.pi\n",
    "def circle():\n",
    "    r=eval(input(\"enter the raius of cicle:\"))\n",
    "    area=round(pi*r*r,2)\n",
    "    print(f\"enter the area of the circle is:{area}\")\n",
    "circle()"
   ]
  },
  {
   "cell_type": "code",
   "execution_count": null,
   "id": "acd2aa20-48fc-4c09-996d-e2d51152ad54",
   "metadata": {},
   "outputs": [],
   "source": [
    "# Q4) create a function ask the user breadth and height\n",
    "      # calculate area of the traingle"
   ]
  },
  {
   "cell_type": "code",
   "execution_count": 16,
   "id": "d0794001-f1e9-4356-b0bd-80e5c452ee0e",
   "metadata": {},
   "outputs": [
    {
     "name": "stdin",
     "output_type": "stream",
     "text": [
      "enter the amount of breadth 12\n",
      "enter the amount of height 8\n"
     ]
    },
    {
     "name": "stdout",
     "output_type": "stream",
     "text": [
      "the area of triangle: 48\n"
     ]
    }
   ],
   "source": [
    "def triangle():\n",
    "    breadth=eval(input(\"enter the amount of breadth\"))\n",
    "    height=eval(input(\"enter the amount of height\"))\n",
    "    area=round(1/2*breadth*height)\n",
    "    print(f\"the area of triangle: {area}\")\n",
    "triangle()"
   ]
  },
  {
   "cell_type": "code",
   "execution_count": null,
   "id": "4f650e54-05fd-4064-b0b1-d2b71ae526e9",
   "metadata": {},
   "outputs": [],
   "source": [
    "# Q5) create a function ask the user enter a  number find it is even or odd"
   ]
  },
  {
   "cell_type": "code",
   "execution_count": 24,
   "id": "fea8736f-8119-4cb8-8433-4133688b1cef",
   "metadata": {},
   "outputs": [
    {
     "name": "stdin",
     "output_type": "stream",
     "text": [
      "enter the number 15\n"
     ]
    },
    {
     "name": "stdout",
     "output_type": "stream",
     "text": [
      "the number is odd:{num}\n"
     ]
    }
   ],
   "source": [
    "def even_odd():\n",
    "    num=eval(input(\"enter the number\"))\n",
    "    if(num%2==0):\n",
    "      print(\"the number is even:{num}\")\n",
    "    else:\n",
    "      print(\"the number is odd:{num}\")\n",
    "even_odd()"
   ]
  },
  {
   "cell_type": "code",
   "execution_count": null,
   "id": "1696a42f-5319-4f92-b660-7c24486694b0",
   "metadata": {},
   "outputs": [],
   "source": [
    "# Q6) create a function ask the user enter number find it is positive or nagative or zero"
   ]
  },
  {
   "cell_type": "code",
   "execution_count": 32,
   "id": "af7f1749-7c13-41c8-bfeb-122bdfbcff3b",
   "metadata": {},
   "outputs": [
    {
     "name": "stdin",
     "output_type": "stream",
     "text": [
      "enter the number -2\n"
     ]
    },
    {
     "name": "stdout",
     "output_type": "stream",
     "text": [
      "the number is negative: -2\n"
     ]
    }
   ],
   "source": [
    "def posi_neg():\n",
    "    num=eval(input(\"enter the number\"))\n",
    "    if(num>0):\n",
    "       print(f\"the number is positive: {num}\")\n",
    "    elif(num==0):\n",
    "        print(f\"the number is zero:\")\n",
    "    else:\n",
    "        print(f\"the number is negative: {num}\")\n",
    "posi_neg()"
   ]
  },
  {
   "cell_type": "code",
   "execution_count": 1,
   "id": "fdcd50a4-7e8e-4b25-9bd7-b1f99da3334b",
   "metadata": {},
   "outputs": [],
   "source": [
    "# Q7) create a function ask the user enter three numbers find the greatest number"
   ]
  },
  {
   "cell_type": "code",
   "execution_count": 34,
   "id": "e667657e-acd0-4d0d-a8ba-0b5d3fe0f34c",
   "metadata": {},
   "outputs": [
    {
     "name": "stdin",
     "output_type": "stream",
     "text": [
      "enter the number1 26\n",
      "enter the number2 18\n",
      "enter the number3 8\n"
     ]
    },
    {
     "name": "stdout",
     "output_type": "stream",
     "text": [
      "26 is greatest:\n"
     ]
    }
   ],
   "source": [
    "def greatest():\n",
    "    num1=eval(input(\"enter the number1\"))\n",
    "    num2=eval(input(\"enter the number2\"))\n",
    "    num3=eval(input(\"enter the number3\"))\n",
    "    if num1>num2 and num1>num3:\n",
    "        print(f\"{num1} is greatest:\")\n",
    "    elif num2>num3:\n",
    "        print(f\"{num2} is greatest:\")\n",
    "    else:\n",
    "        print(f\"{num3} is greatest:\")\n",
    "greatest()   "
   ]
  },
  {
   "cell_type": "markdown",
   "id": "02a7bfa8-0d3f-4126-b6ce-197c873ae751",
   "metadata": {},
   "source": [
    "- functions with out arguments\n",
    "- functions with arguments"
   ]
  },
  {
   "cell_type": "code",
   "execution_count": 3,
   "id": "2489031a-b9a8-4bef-80b5-2d836ccb16a0",
   "metadata": {},
   "outputs": [
    {
     "name": "stdout",
     "output_type": "stream",
     "text": [
      "the average of 10,20 and 30 is 20.0:\n"
     ]
    }
   ],
   "source": [
    "# create a function to get 3 members and print average \n",
    "# with out arguments\n",
    "def avg(num1,num2,num3):\n",
    "    avg=round((num1+num2+num3)/3,2)\n",
    "    print(f\"the average of {num1},{num2} and {num3} is {avg}:\")\n",
    "avg(10,20,30)"
   ]
  },
  {
   "cell_type": "code",
   "execution_count": 8,
   "id": "499e8ec8-e83a-4d12-a935-bc3f8a14139b",
   "metadata": {},
   "outputs": [
    {
     "name": "stdout",
     "output_type": "stream",
     "text": [
      "num1 10\n",
      "num2 20\n"
     ]
    },
    {
     "name": "stdin",
     "output_type": "stream",
     "text": [
      "enter the number of num3: 30\n"
     ]
    },
    {
     "name": "stdout",
     "output_type": "stream",
     "text": [
      "the average of 10,20 and 30 is 20.0:\n"
     ]
    }
   ],
   "source": [
    "def average(num1,num2):\n",
    "    print(\"num1\",num1)\n",
    "    print(\"num2\",num2)\n",
    "    num3=eval(input(\"enter the number of num3:\"))\n",
    "    avg=round((num1+num2+num3)/3,2)\n",
    "    print(f\"the average of {num1},{num2} and {num3} is {avg}:\")\n",
    "average(10,20)"
   ]
  },
  {
   "cell_type": "code",
   "execution_count": 10,
   "id": "ac3e5898-956a-4171-9771-0babf7c811fc",
   "metadata": {},
   "outputs": [
    {
     "name": "stdout",
     "output_type": "stream",
     "text": [
      "num1 10\n"
     ]
    },
    {
     "name": "stdin",
     "output_type": "stream",
     "text": [
      "enter the number of num2: 20\n",
      "enter the number of num3: 30\n"
     ]
    },
    {
     "name": "stdout",
     "output_type": "stream",
     "text": [
      "the average of 10,20 and 30 is 20.0:\n"
     ]
    }
   ],
   "source": [
    "def average(num1):\n",
    "    print(\"num1\",num1)\n",
    "    num2=eval(input(\"enter the number of num2:\"))\n",
    "    num3=eval(input(\"enter the number of num3:\"))\n",
    "    avg=round((num1+num2+num3)/3,2)\n",
    "    print(f\"the average of {num1},{num2} and {num3} is {avg}:\")\n",
    "average(10)"
   ]
  },
  {
   "cell_type": "code",
   "execution_count": 15,
   "id": "6529767c-9017-4316-b545-90db3d84c5af",
   "metadata": {},
   "outputs": [
    {
     "name": "stdin",
     "output_type": "stream",
     "text": [
      "enter the number of num1: 10\n"
     ]
    },
    {
     "name": "stdout",
     "output_type": "stream",
     "text": [
      "num1 10\n"
     ]
    },
    {
     "name": "stdin",
     "output_type": "stream",
     "text": [
      "enter the number of num2: 20\n",
      "enter the number of num3: 30\n"
     ]
    },
    {
     "name": "stdout",
     "output_type": "stream",
     "text": [
      "the average of 10,20 and 30 is 20.0:\n"
     ]
    }
   ],
   "source": [
    "def average(num1):\n",
    "    print(\"num1\",num1)\n",
    "    num2=eval(input(\"enter the number of num2:\"))\n",
    "    num3=eval(input(\"enter the number of num3:\"))\n",
    "    avg=round((num1+num2+num3)/3,2)\n",
    "    print(f\"the average of {num1},{num2} and {num3} is {avg}:\")\n",
    "average(eval(input(\"enter the number of num1:\")))"
   ]
  },
  {
   "cell_type": "markdown",
   "id": "0076709d-8734-4878-9d46-dab9daefb8f9",
   "metadata": {},
   "source": [
    "- hard coded \n",
    "\n",
    "- eval(input())\n",
    "\n",
    "- random.randint()"
   ]
  },
  {
   "cell_type": "code",
   "execution_count": 17,
   "id": "6b8d68f2-a2b7-4dcb-9ea2-1dec7dc474ce",
   "metadata": {},
   "outputs": [
    {
     "name": "stdout",
     "output_type": "stream",
     "text": [
      "num1 31\n"
     ]
    },
    {
     "name": "stdin",
     "output_type": "stream",
     "text": [
      "enter the number of num2: 100\n",
      "enter the number of num3: 20\n"
     ]
    },
    {
     "name": "stdout",
     "output_type": "stream",
     "text": [
      "the average of 31,100 and 20 is 50.33:\n"
     ]
    }
   ],
   "source": [
    "import random\n",
    "def average(num1):\n",
    "    print(\"num1\",num1)\n",
    "    num2=eval(input(\"enter the number of num2:\"))\n",
    "    num3=eval(input(\"enter the number of num3:\"))\n",
    "    avg=round((num1+num2+num3)/3,2)\n",
    "    print(f\"the average of {num1},{num2} and {num3} is {avg}:\")\n",
    "average(random.randint(1,100))"
   ]
  },
  {
   "cell_type": "code",
   "execution_count": null,
   "id": "e17adcac-389a-4bd2-81da-b06323a79156",
   "metadata": {},
   "outputs": [],
   "source": [
    "def avg(num1,num2,num3):\n",
    "    avg=round((num1+num2+num3)/3,2)\n",
    "    print(f\"the average of {num1},{num2} and {num3} is {avg}:\")\n",
    "avg(10,20,30)\n",
    "\n",
    "def average(num1):\n",
    "    print(\"num1\",num1)\n",
    "    num2=eval(input(\"enter the number of num2:\"))\n",
    "    num3=eval(input(\"enter the number of num3:\"))\n",
    "    avg=round((num1+num2+num3)/3,2)\n",
    "    print(f\"the average of {num1},{num2} and {num3} is {avg}:\")\n",
    "average(10)\n",
    "\n",
    "def average(num1):\n",
    "    print(\"num1\",num1)\n",
    "    num2=eval(input(\"enter the number of num2:\"))\n",
    "    num3=eval(input(\"enter the number of num3:\"))\n",
    "    avg=round((num1+num2+num3)/3,2)\n",
    "    print(f\"the average of {num1},{num2} and {num3} is {avg}:\")\n",
    "average(eval(input(\"enter the number of num1:\")))\n",
    "\n",
    "import random\n",
    "def average(num1):\n",
    "    print(\"num1\",num1)\n",
    "    num2=eval(input(\"enter the number of num2:\"))\n",
    "    num3=eval(input(\"enter the number of num3:\"))\n",
    "    avg=round((num1+num2+num3)/3,2)\n",
    "    print(f\"the average of {num1},{num2} and {num3} is {avg}:\")\n",
    "average(random.randint(1,100))\n"
   ]
  },
  {
   "cell_type": "code",
   "execution_count": null,
   "id": "8309f8f0-b525-434c-96c6-f0d3493ce86b",
   "metadata": {},
   "outputs": [],
   "source": [
    "average(10)\n",
    "average(eval(input(\"enter the number of num1:\")))\n",
    "average(random.randint(1,100))"
   ]
  },
  {
   "cell_type": "code",
   "execution_count": null,
   "id": "e95af319-54f4-415a-9f82-2b85ac4647f3",
   "metadata": {},
   "outputs": [],
   "source": [
    "def average(num1,num2,num3):\n",
    "    ave"
   ]
  },
  {
   "cell_type": "code",
   "execution_count": 23,
   "id": "bb233b18-996d-439a-915a-2a83f49b5f97",
   "metadata": {},
   "outputs": [
    {
     "name": "stdout",
     "output_type": "stream",
     "text": [
      "the calculate the total amount of billing: 1100.0\n"
     ]
    }
   ],
   "source": [
    "# try above things  for bill and tip per problem\n",
    "def billing(bill,tip):\n",
    "    tip_bill=bill*tip/100\n",
    "    cal_totalbill=tip_bill+bill\n",
    "    \n",
    "    print(f\"the calculate the total amount of billing: {cal_totalbill}\")  \n",
    "billing(1000,10)"
   ]
  },
  {
   "cell_type": "code",
   "execution_count": 29,
   "id": "0911b261-5fcd-469c-8c4b-6c36ddfccb78",
   "metadata": {},
   "outputs": [
    {
     "name": "stdin",
     "output_type": "stream",
     "text": [
      "enter bill1: 1000\n",
      "enter tip per: 10\n"
     ]
    },
    {
     "name": "stdout",
     "output_type": "stream",
     "text": [
      "1100.0\n"
     ]
    }
   ],
   "source": [
    "def billing(bill,tip):\n",
    "    tip=(bill*tip)/100\n",
    "    total=bill+tip\n",
    "    print(total)  \n",
    "billing(eval(input(\"enter bill1:\")),\n",
    "        eval(input(\"enter tip per:\")))"
   ]
  },
  {
   "cell_type": "code",
   "execution_count": 34,
   "id": "d3a903a3-2f43-4c9f-91fa-2ef309657e9a",
   "metadata": {},
   "outputs": [
    {
     "name": "stdout",
     "output_type": "stream",
     "text": [
      "the bill is: 1328\n",
      "the tip is: 17\n",
      "the calculate the total amount of billing: 1553.76\n"
     ]
    }
   ],
   "source": [
    "import random\n",
    "def billing(bill,tip):\n",
    "    print(\"the bill is:\",bill)\n",
    "    print(\"the tip is:\",tip)\n",
    "    tip_bill=bill*tip/100\n",
    "    total=tip_bill+bill\n",
    "    print(f\"the calculate the total amount of billing: {total}\")  \n",
    "billing(random.randint(1000,2000),\n",
    "        random.randint(10,20))"
   ]
  },
  {
   "cell_type": "code",
   "execution_count": 35,
   "id": "7b1d2d08-534e-4dcd-b92d-6f8b6b5468ab",
   "metadata": {},
   "outputs": [
    {
     "name": "stdout",
     "output_type": "stream",
     "text": [
      "the tip bill is: 1366\n",
      "the bill is: 12\n",
      "the calculate the total amount of billing: 175.92\n"
     ]
    }
   ],
   "source": [
    "def billing(tip,bill):\n",
    "    print(\"the tip bill is:\",tip)\n",
    "    print(\"the bill is:\",bill)\n",
    "    tip_bill=bill*tip/100\n",
    "    cal_totalbill=tip_bill+bill\n",
    "    \n",
    "    print(f\"the calculate the total amount of billing: {cal_totalbill}\")  \n",
    "billing(random.randint(1000,2000),\n",
    "        random.randint(10,20))"
   ]
  },
  {
   "cell_type": "code",
   "execution_count": 40,
   "id": "a116d927-e603-4ccc-8c6e-6e0c5dc9e9f8",
   "metadata": {},
   "outputs": [
    {
     "name": "stdout",
     "output_type": "stream",
     "text": [
      "the calculate the total amount of billing: 1346.24\n"
     ]
    }
   ],
   "source": [
    "import random\n",
    "def billing(bill,tip):\n",
    "    tip_bill=bill*tip/100\n",
    "    total=bill+tip_bill   \n",
    "    print(f\"the calculate the total amount of billing: {total}\")  \n",
    "billing(random.randint(1000,2000),\n",
    "        random.randint(10,20))"
   ]
  },
  {
   "cell_type": "markdown",
   "id": "96d48a34-8c5e-493c-b2d6-2f3e37a6fff4",
   "metadata": {},
   "source": [
    "**Default argument**\n",
    "- defalut argument are fixed"
   ]
  },
  {
   "cell_type": "code",
   "execution_count": 43,
   "id": "f68beb5b-4131-4f7a-a6e0-c7ed8595b39e",
   "metadata": {},
   "outputs": [
    {
     "name": "stdout",
     "output_type": "stream",
     "text": [
      "the bill is: 1000\n",
      "the tip is: 20\n",
      "1200.0\n"
     ]
    }
   ],
   "source": [
    "# try above things for bill and tip per problem\n",
    "def billing(bill,tip=20):\n",
    "    print(\"the bill is:\",bill)\n",
    "    print(\"the tip is:\",tip)\n",
    "    tip_bill=bill*tip/100\n",
    "    total=bill+tip_bill   \n",
    "    print(total)  \n",
    "billing(1000)"
   ]
  },
  {
   "cell_type": "code",
   "execution_count": 48,
   "id": "e89fdc25-9e33-40b5-bdee-c823b3d74eb9",
   "metadata": {},
   "outputs": [
    {
     "name": "stdout",
     "output_type": "stream",
     "text": [
      "1372.8\n"
     ]
    }
   ],
   "source": [
    "import random\n",
    "def billing(bill,tip=20):\n",
    "    tip_bill=(bill*tip)/100\n",
    "    total=bill+tip_bill\n",
    "    print(total) \n",
    "    \n",
    "billing(random.randint(1000,2000))"
   ]
  },
  {
   "cell_type": "markdown",
   "id": "1b09a364-78d8-4cdd-b4f1-3966b4bfcfc5",
   "metadata": {},
   "source": [
    "**case-1**: make all the arguments as default\n",
    "\n",
    "- all the arguements are default\n",
    "\n",
    "- so no need to pass the value while calling the functions"
   ]
  },
  {
   "cell_type": "code",
   "execution_count": 50,
   "id": "0071caaa-88b3-46ed-8586-70afb3a1d4e6",
   "metadata": {},
   "outputs": [
    {
     "ename": "SyntaxError",
     "evalue": "non-default argument follows default argument (3437314724.py, line 1)",
     "output_type": "error",
     "traceback": [
      "\u001b[1;36m  Cell \u001b[1;32mIn[50], line 1\u001b[1;36m\u001b[0m\n\u001b[1;33m    def billing(bill=1000,tip):\u001b[0m\n\u001b[1;37m                          ^\u001b[0m\n\u001b[1;31mSyntaxError\u001b[0m\u001b[1;31m:\u001b[0m non-default argument follows default argument\n"
     ]
    }
   ],
   "source": [
    "def billing(bill=1000,tip):\n",
    "    print(\"the bill is:\",bill)\n",
    "    print(\"the tip per is:\",tip)\n",
    "    tip_bill=(bill*tip)/100\n",
    "    total=bill+tip\n",
    "    print(total)  \n",
    "billing(1000,20)"
   ]
  },
  {
   "cell_type": "code",
   "execution_count": 49,
   "id": "8735c110-7ff5-4c4b-94d5-2f175430da01",
   "metadata": {},
   "outputs": [
    {
     "name": "stdout",
     "output_type": "stream",
     "text": [
      "the bill is: 1000\n",
      "the tip per is: 20\n",
      "1200.0\n"
     ]
    }
   ],
   "source": [
    "def billing(tip,bill=1000):\n",
    "    print(\"the bill is:\",bill)\n",
    "    print(\"the tip per is:\",tip)\n",
    "    tip=(bill*tip)/100\n",
    "    total=bill+tip\n",
    "    print(total)  \n",
    "billing(20)"
   ]
  },
  {
   "cell_type": "markdown",
   "id": "e13e4e75-28cb-48dd-88d2-03e068640e76",
   "metadata": {},
   "source": [
    "**case-2**: All default parameters should assign after non default arguments"
   ]
  },
  {
   "cell_type": "code",
   "execution_count": 52,
   "id": "de058c0a-34f2-44bb-b004-dda7051534ba",
   "metadata": {},
   "outputs": [
    {
     "name": "stdout",
     "output_type": "stream",
     "text": [
      "the bill is: 1000\n",
      "the tip per is: 20\n",
      "1200.0\n"
     ]
    }
   ],
   "source": [
    "# here non default argument: tip_per\n",
    "# assigned after default arguement:bill=1000\n",
    "# when we call the function function will assign the value \n",
    "def billing(tip_per,bill=1000):\n",
    "    print(\"the bill is:\",bill)\n",
    "    print(\"the tip per is:\",tip_per)\n",
    "    tip_amount=bill*tip_per/100\n",
    "    total=bill+tip_amount\n",
    "    print(total)  \n",
    "billing(20)"
   ]
  },
  {
   "cell_type": "code",
   "execution_count": null,
   "id": "a60dae4b-4fab-423d-840b-891f6c8c9a3b",
   "metadata": {},
   "outputs": [],
   "source": [
    "average(n1,n2,n3=10)  #c\n",
    "average(n1,n2=10,n3)  #f\n",
    "average(n1=10,n2,n3)  #f\n",
    "average(n1,n2=10,n3=10)#c\n",
    "average(n1=10,n2,n3=10) #f\n",
    "average(n1=10,n2=10,n3)#f\n",
    "average(n1=10,n2=10,n3=10)#c\n",
    "\n",
    "        "
   ]
  },
  {
   "cell_type": "markdown",
   "id": "7d6a1ff4-4b71-450b-aa74-a272a0b0fbbd",
   "metadata": {},
   "source": [
    "**case-3**:Default argument values will be override"
   ]
  },
  {
   "cell_type": "code",
   "execution_count": 53,
   "id": "9d42ac01-87d9-44fb-af23-38f3d36ad8e0",
   "metadata": {},
   "outputs": [
    {
     "name": "stdout",
     "output_type": "stream",
     "text": [
      "the bill is: 1000\n",
      "the tip per is: 40\n",
      "1400.0\n"
     ]
    }
   ],
   "source": [
    "def billing(bill,tip_per=20):\n",
    "    print(\"the bill is:\",bill)\n",
    "    print(\"the tip per is:\",tip_per)\n",
    "    tip_bill=(bill*tip_per)/100\n",
    "    total=bill+tip_bill\n",
    "    print(total)  \n",
    "billing(1000,40)"
   ]
  },
  {
   "cell_type": "code",
   "execution_count": 54,
   "id": "f9ec7631-4bcf-41be-ab72-423e670fe771",
   "metadata": {},
   "outputs": [
    {
     "name": "stdout",
     "output_type": "stream",
     "text": [
      "the bill is: 5000\n",
      "the tip per is: 40\n",
      "7000.0\n"
     ]
    }
   ],
   "source": [
    "def billing(bill=1000,tip_per=20):\n",
    "    bill=5000\n",
    "    print(\"the bill is:\",bill)\n",
    "    print(\"the tip per is:\",tip_per)\n",
    "    tip_amount=(bill*tip_per)/100\n",
    "    total=bill+tip_amount\n",
    "    print(total)\n",
    "billing(2000,40)"
   ]
  },
  {
   "cell_type": "code",
   "execution_count": 55,
   "id": "7c26aac4-a080-4008-a71f-09aa35e9673e",
   "metadata": {},
   "outputs": [
    {
     "name": "stdout",
     "output_type": "stream",
     "text": [
      "the bill is: 5000\n",
      "the tip per is: 40\n",
      "7000.0\n"
     ]
    }
   ],
   "source": [
    "def billing(bill=1000,tip_per=20):\n",
    "    bill=5000\n",
    "    print(\"the bill is:\",bill)\n",
    "    print(\"the tip per is:\",tip_per)\n",
    "    tip_amount=(bill*tip_per)/100\n",
    "    total=bill+tip_amount\n",
    "    print(total) \n",
    "bill=7000\n",
    "billing(2000,40)\n",
    "#bill=1000\n",
    "#bill=7000\n",
    "#bill=2000\n",
    "#bill=5000"
   ]
  },
  {
   "cell_type": "code",
   "execution_count": 57,
   "id": "f8e23b3d-b7d3-4a66-83fe-0979505cb903",
   "metadata": {},
   "outputs": [
    {
     "name": "stdout",
     "output_type": "stream",
     "text": [
      "the bill is: 2000\n",
      "the tip per is: 40\n",
      "2800.0\n"
     ]
    }
   ],
   "source": [
    "def billing(bill=1000,tip_per=20):\n",
    "    print(\"the bill is:\",bill)\n",
    "    print(\"the tip per is:\",tip_per)\n",
    "    tip_amount=(bill*tip_per)/100\n",
    "    total=bill+tip_amount\n",
    "    print(total) \n",
    "bill=7000\n",
    "billing(2000,40)"
   ]
  },
  {
   "cell_type": "code",
   "execution_count": null,
   "id": "fb08e63c-9a8e-4314-bd11-d208e2057895",
   "metadata": {},
   "outputs": [],
   "source": [
    "# step-1: define the function:1000\n",
    "# step-2: call the function:2000\n",
    "# step-3: run the function:5000"
   ]
  },
  {
   "cell_type": "code",
   "execution_count": 58,
   "id": "b65a7570-1fba-446a-bb6b-86b4aea19f82",
   "metadata": {},
   "outputs": [
    {
     "name": "stdout",
     "output_type": "stream",
     "text": [
      "the bill is: 7000\n",
      "the tip per is: 40\n",
      "9800.0\n"
     ]
    }
   ],
   "source": [
    "bill=8000\n",
    "def billing(tip_per=20):\n",
    "    print(\"the bill is:\",bill)\n",
    "    print(\"the tip per is:\",tip_per)\n",
    "    tip_amount=(bill*tip_per)/100\n",
    "    total=bill+tip_amount\n",
    "    print(total)\n",
    "    \n",
    "bill=7000\n",
    "billing(40)\n",
    "#bill=8k\n",
    "#1k\n",
    "#7k"
   ]
  },
  {
   "cell_type": "markdown",
   "id": "d9b25d26-1953-4737-aa8e-945c9db58020",
   "metadata": {},
   "source": [
    "**global veriable and local variable** "
   ]
  },
  {
   "cell_type": "markdown",
   "id": "0ceb6d3f-77f7-42da-8dd2-bb78e1bb9688",
   "metadata": {},
   "source": [
    "- local variable means the variable define inside the function\n",
    "\n",
    "- local variables can not access outside the function\n",
    "\n",
    "- global variable means the variables define outside the function\n",
    "\n",
    "- global variable can access anywhere anytime\n",
    "  "
   ]
  },
  {
   "cell_type": "code",
   "execution_count": 26,
   "id": "70331621-46bf-4e18-8fc9-14fbde9eecdb",
   "metadata": {},
   "outputs": [
    {
     "name": "stdout",
     "output_type": "stream",
     "text": [
      "30\n"
     ]
    }
   ],
   "source": [
    "def addition():\n",
    "    n1=10\n",
    "    n2=20\n",
    "    print(n1+n2)\n",
    "\n",
    "addition()"
   ]
  },
  {
   "cell_type": "code",
   "execution_count": 27,
   "id": "a494e8c9-0f52-48ae-93cb-61790a13f386",
   "metadata": {},
   "outputs": [
    {
     "name": "stdout",
     "output_type": "stream",
     "text": [
      "30\n"
     ]
    }
   ],
   "source": [
    "def addition():\n",
    "    number1=10\n",
    "    number2=20\n",
    "    print(number1+number2)\n",
    "\n",
    "addition()"
   ]
  },
  {
   "cell_type": "code",
   "execution_count": 30,
   "id": "dc925ea9-3043-4f8f-8618-45679f7046cc",
   "metadata": {},
   "outputs": [
    {
     "name": "stdout",
     "output_type": "stream",
     "text": [
      "300\n"
     ]
    }
   ],
   "source": [
    "NUMBER11=100\n",
    "NUMBER22=200\n",
    "def addition():\n",
    "    print(NUMBER11+NUMBER22)\n",
    "\n",
    "addition()"
   ]
  },
  {
   "cell_type": "code",
   "execution_count": 59,
   "id": "45809b7c-0ba2-49f2-ab4a-7b435075a279",
   "metadata": {},
   "outputs": [
    {
     "name": "stdout",
     "output_type": "stream",
     "text": [
      "300\n",
      "20000\n",
      "300\n"
     ]
    }
   ],
   "source": [
    "NUMBER11=100\n",
    "NUMBER22=200\n",
    "def addition():\n",
    "    print(NUMBER11+NUMBER22)\n",
    "\n",
    "addition()\n",
    "\n",
    "def mul():\n",
    "    print(NUMBER11*NUMBER22)\n",
    "mul()\n",
    "addition()   #any where we can call"
   ]
  },
  {
   "cell_type": "code",
   "execution_count": null,
   "id": "b1b8de34-0bb8-40ca-8af3-217627ea0c2c",
   "metadata": {},
   "outputs": [],
   "source": []
  },
  {
   "cell_type": "code",
   "execution_count": null,
   "id": "2a5639fa-6636-4ae1-99d2-c222a6815a4e",
   "metadata": {},
   "outputs": [],
   "source": []
  },
  {
   "cell_type": "code",
   "execution_count": 32,
   "id": "791aa78d-1e91-4d68-ad6c-1e30e004b4b2",
   "metadata": {},
   "outputs": [
    {
     "name": "stdout",
     "output_type": "stream",
     "text": [
      "300\n"
     ]
    }
   ],
   "source": [
    "addition()"
   ]
  },
  {
   "cell_type": "code",
   "execution_count": 60,
   "id": "93dc6bd7-1ae8-4dff-a988-cc51a214af3a",
   "metadata": {},
   "outputs": [
    {
     "name": "stdout",
     "output_type": "stream",
     "text": [
      "NUMBER1: 1000\n",
      "NUMBER2: 1000\n",
      "3000\n"
     ]
    }
   ],
   "source": [
    "NUMBER11=100\n",
    "NUMBER22=200\n",
    "def addition():\n",
    "    print(\"NUMBER1:\",NUMBER11)\n",
    "    print(\"NUMBER2:\",NUMBER11)\n",
    "    add=NUMBER11+NUMBER22\n",
    "    print(add)\n",
    "NUMBER11=1000\n",
    "NUMBER22=2000\n",
    "addition()\n"
   ]
  },
  {
   "cell_type": "code",
   "execution_count": 63,
   "id": "803c8698-a858-4c1a-a5d6-a67b57dcba61",
   "metadata": {},
   "outputs": [
    {
     "name": "stdout",
     "output_type": "stream",
     "text": [
      "NUMBER1: 1000\n",
      "NUMBER2: 1000\n",
      "1500\n"
     ]
    }
   ],
   "source": [
    "NUMBER11=100\n",
    "NUMBER22=200\n",
    "def addition(NUMBER22):\n",
    "    NUMBER11=1000\n",
    "    print(\"NUMBER1:\",NUMBER11)\n",
    "    print(\"NUMBER2:\",NUMBER11)\n",
    "    add=NUMBER11+NUMBER22\n",
    "    print(add)\n",
    "NUMBER11=1000\n",
    "NUMBER22=2000\n",
    "addition(500)\n"
   ]
  },
  {
   "cell_type": "markdown",
   "id": "9363e0f9-1e62-4e41-80b2-12884c379e23",
   "metadata": {},
   "source": [
    "**spl case**\n",
    "\n",
    "  - we want to use the local variable out side function also"
   ]
  },
  {
   "cell_type": "code",
   "execution_count": 70,
   "id": "8459f99f-e3c5-41c9-9990-319fe50b061a",
   "metadata": {},
   "outputs": [
    {
     "ename": "NameError",
     "evalue": "name 'number_one1' is not defined",
     "output_type": "error",
     "traceback": [
      "\u001b[1;31m---------------------------------------------------------------------------\u001b[0m",
      "\u001b[1;31mNameError\u001b[0m                                 Traceback (most recent call last)",
      "Cell \u001b[1;32mIn[70], line 6\u001b[0m\n\u001b[0;32m      4\u001b[0m     number_two\u001b[38;5;241m=\u001b[39m\u001b[38;5;241m20\u001b[39m\n\u001b[0;32m      5\u001b[0m     \u001b[38;5;28mprint\u001b[39m(number_one1\u001b[38;5;241m+\u001b[39mnumber_two)\n\u001b[1;32m----> 6\u001b[0m \u001b[38;5;28mprint\u001b[39m(number_one1)\n\u001b[0;32m      7\u001b[0m addition()\n",
      "\u001b[1;31mNameError\u001b[0m: name 'number_one1' is not defined"
     ]
    }
   ],
   "source": [
    "def addition():\n",
    "    global number_one1\n",
    "    number_one1=10\n",
    "    number_two=20\n",
    "    print(number_one1+number_two)\n",
    "print(number_one1)\n",
    "addition()\n",
    "\n",
    "# i defined variable as global inside function\n",
    "#  with out call the function also\n",
    "# i can use that variable anywhere  "
   ]
  },
  {
   "cell_type": "code",
   "execution_count": 73,
   "id": "d22792b6-bf94-4da0-86d0-f336fd8add22",
   "metadata": {},
   "outputs": [
    {
     "data": {
      "text/plain": [
       "10"
      ]
     },
     "execution_count": 73,
     "metadata": {},
     "output_type": "execute_result"
    }
   ],
   "source": [
    "number_one"
   ]
  },
  {
   "cell_type": "code",
   "execution_count": null,
   "id": "6d09952d-7e4d-412b-8ef1-5cd234ca7633",
   "metadata": {},
   "outputs": [],
   "source": []
  },
  {
   "cell_type": "code",
   "execution_count": 71,
   "id": "a504c5e5-efbb-450c-a5a4-35640d772ab3",
   "metadata": {},
   "outputs": [
    {
     "name": "stdout",
     "output_type": "stream",
     "text": [
      "30\n",
      "10\n"
     ]
    }
   ],
   "source": [
    "def addition():\n",
    "    global number_one1\n",
    "    number_one1=10\n",
    "    number_two=20\n",
    "    print(number_one1+number_two)\n",
    "addition()\n",
    "print(number_one1)"
   ]
  },
  {
   "cell_type": "code",
   "execution_count": null,
   "id": "fd3903b1-9a5e-4214-a2ef-d90ced039e91",
   "metadata": {},
   "outputs": [],
   "source": []
  },
  {
   "cell_type": "code",
   "execution_count": null,
   "id": "85b67372-79a3-474d-a330-e80e32e1c5ed",
   "metadata": {},
   "outputs": [],
   "source": []
  },
  {
   "cell_type": "code",
   "execution_count": null,
   "id": "7d86443a-4885-4cea-b00b-b8974d829f99",
   "metadata": {},
   "outputs": [],
   "source": []
  },
  {
   "cell_type": "code",
   "execution_count": 72,
   "id": "0d38114f-a1c2-4c5c-aa9c-20411e48ec00",
   "metadata": {},
   "outputs": [
    {
     "name": "stdout",
     "output_type": "stream",
     "text": [
      "30\n"
     ]
    }
   ],
   "source": [
    "addition()"
   ]
  },
  {
   "cell_type": "code",
   "execution_count": null,
   "id": "ba6cb30c-f5e0-493e-9dc6-50a6120ec5be",
   "metadata": {},
   "outputs": [],
   "source": []
  }
 ],
 "metadata": {
  "kernelspec": {
   "display_name": "Python 3 (ipykernel)",
   "language": "python",
   "name": "python3"
  },
  "language_info": {
   "codemirror_mode": {
    "name": "ipython",
    "version": 3
   },
   "file_extension": ".py",
   "mimetype": "text/x-python",
   "name": "python",
   "nbconvert_exporter": "python",
   "pygments_lexer": "ipython3",
   "version": "3.11.7"
  }
 },
 "nbformat": 4,
 "nbformat_minor": 5
}
