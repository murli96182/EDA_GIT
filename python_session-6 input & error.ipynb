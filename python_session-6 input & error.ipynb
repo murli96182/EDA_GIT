{
 "cells": [
  {
   "cell_type": "markdown",
   "id": "12ec47bb-7143-4069-b92d-29e003effa32",
   "metadata": {},
   "source": [
    "## Input"
   ]
  },
  {
   "cell_type": "markdown",
   "id": "4516092e-3149-41ba-a52f-a7f78b68c78a",
   "metadata": {},
   "source": [
    "- input is a keyword ,we can provide values from keyword\n",
    "\n",
    "- which mean user can give the own values\n",
    "\n",
    "- the kernal will be busy untill unless you need to provide values inside the box\n",
    "\n",
    "- provide the value and hit enter\n",
    "\n",
    "- make sure that *should gone\n",
    "\n",
    "- the default data type is **string data type**\n"
   ]
  },
  {
   "cell_type": "code",
   "execution_count": 5,
   "id": "4d0b7fff-e8c6-4500-8c9c-1b3e9473b521",
   "metadata": {},
   "outputs": [
    {
     "name": "stdin",
     "output_type": "stream",
     "text": [
      " hello\n"
     ]
    },
    {
     "data": {
      "text/plain": [
       "'hello'"
      ]
     },
     "execution_count": 5,
     "metadata": {},
     "output_type": "execute_result"
    }
   ],
   "source": [
    "input()"
   ]
  },
  {
   "cell_type": "code",
   "execution_count": 6,
   "id": "ef8ea470-6fb2-4815-bdba-4c31af363ecf",
   "metadata": {},
   "outputs": [
    {
     "name": "stdin",
     "output_type": "stream",
     "text": [
      " 100\n",
      " 200\n"
     ]
    },
    {
     "data": {
      "text/plain": [
       "'100200'"
      ]
     },
     "execution_count": 6,
     "metadata": {},
     "output_type": "execute_result"
    }
   ],
   "source": [
    "a=input()\n",
    "b=input()\n",
    "a+b"
   ]
  },
  {
   "cell_type": "code",
   "execution_count": 7,
   "id": "15026d59-c001-44d2-a961-95c9498e6869",
   "metadata": {},
   "outputs": [
    {
     "data": {
      "text/plain": [
       "str"
      ]
     },
     "execution_count": 7,
     "metadata": {},
     "output_type": "execute_result"
    }
   ],
   "source": [
    "type(a)"
   ]
  },
  {
   "cell_type": "code",
   "execution_count": 12,
   "id": "1f7a28ae-11aa-401b-a6ba-19d51ab9ecaf",
   "metadata": {},
   "outputs": [
    {
     "data": {
      "text/plain": [
       "str"
      ]
     },
     "execution_count": 12,
     "metadata": {},
     "output_type": "execute_result"
    }
   ],
   "source": [
    "type(a)"
   ]
  },
  {
   "cell_type": "code",
   "execution_count": 14,
   "id": "5e138401-9dac-417b-9651-4681f137f871",
   "metadata": {},
   "outputs": [
    {
     "name": "stdin",
     "output_type": "stream",
     "text": [
      " 100\n",
      " 200\n"
     ]
    },
    {
     "data": {
      "text/plain": [
       "300"
      ]
     },
     "execution_count": 14,
     "metadata": {},
     "output_type": "execute_result"
    }
   ],
   "source": [
    "a=int(input())   #int('100')\n",
    "b=int(input())   #int('200')\n",
    "a+b"
   ]
  },
  {
   "cell_type": "code",
   "execution_count": 1,
   "id": "d4efad63-3987-486d-a791-9f2f44b12cd2",
   "metadata": {},
   "outputs": [
    {
     "name": "stdin",
     "output_type": "stream",
     "text": [
      "enter the num1: 100\n",
      "enter the num2: 200\n"
     ]
    },
    {
     "name": "stdout",
     "output_type": "stream",
     "text": [
      "the addition of 100and200is300\n"
     ]
    }
   ],
   "source": [
    "a=int(input(\"enter the num1:\"))\n",
    "b=int(input(\"enter the num2:\"))\n",
    "c=a+b\n",
    "print(f\"the addition of {a}and{b}is{c}\")"
   ]
  },
  {
   "cell_type": "code",
   "execution_count": 6,
   "id": "01ebca66-3d5d-4827-8acc-3562fdb6c5e5",
   "metadata": {},
   "outputs": [
    {
     "name": "stdin",
     "output_type": "stream",
     "text": [
      " naresh it\n"
     ]
    },
    {
     "data": {
      "text/plain": [
       "'naresh it'"
      ]
     },
     "execution_count": 6,
     "metadata": {},
     "output_type": "execute_result"
    }
   ],
   "source": [
    "input()"
   ]
  },
  {
   "cell_type": "code",
   "execution_count": 3,
   "id": "de6c142a-6de9-44e1-bf72-7a3349d530a2",
   "metadata": {},
   "outputs": [
    {
     "name": "stdin",
     "output_type": "stream",
     "text": [
      " 100\n"
     ]
    },
    {
     "data": {
      "text/plain": [
       "'100'"
      ]
     },
     "execution_count": 3,
     "metadata": {},
     "output_type": "execute_result"
    }
   ],
   "source": [
    "input()"
   ]
  },
  {
   "cell_type": "code",
   "execution_count": 4,
   "id": "ed9e93ca-967a-47c7-9e7f-47252185b2ea",
   "metadata": {},
   "outputs": [
    {
     "name": "stdin",
     "output_type": "stream",
     "text": [
      "enter the name: naresh it\n"
     ]
    },
    {
     "data": {
      "text/plain": [
       "'naresh it'"
      ]
     },
     "execution_count": 4,
     "metadata": {},
     "output_type": "execute_result"
    }
   ],
   "source": [
    "input(\"enter the name:\")"
   ]
  },
  {
   "cell_type": "code",
   "execution_count": 5,
   "id": "3a437356-9e3d-48de-ad44-e88d95b6524b",
   "metadata": {},
   "outputs": [
    {
     "name": "stdin",
     "output_type": "stream",
     "text": [
      "enter the number1: 100\n"
     ]
    },
    {
     "data": {
      "text/plain": [
       "'100'"
      ]
     },
     "execution_count": 5,
     "metadata": {},
     "output_type": "execute_result"
    }
   ],
   "source": [
    "input(\"enter the number1:\")"
   ]
  },
  {
   "cell_type": "code",
   "execution_count": 9,
   "id": "84b2577d-4ffe-492a-b67c-392070327c30",
   "metadata": {},
   "outputs": [
    {
     "name": "stdin",
     "output_type": "stream",
     "text": [
      " 100\n",
      "enter the nname: murli\n",
      "enter the number1: 100\n"
     ]
    },
    {
     "data": {
      "text/plain": [
       "'100'"
      ]
     },
     "execution_count": 9,
     "metadata": {},
     "output_type": "execute_result"
    }
   ],
   "source": [
    "input()\n",
    "input(\"enter the nname:\")\n",
    "input(\"enter the number1:\")"
   ]
  },
  {
   "cell_type": "code",
   "execution_count": 8,
   "id": "dce6f4fe-7d38-46f6-b083-32b3e23943ca",
   "metadata": {},
   "outputs": [
    {
     "name": "stdin",
     "output_type": "stream",
     "text": [
      " murli\n"
     ]
    },
    {
     "data": {
      "text/plain": [
       "'murli'"
      ]
     },
     "execution_count": 8,
     "metadata": {},
     "output_type": "execute_result"
    }
   ],
   "source": [
    "input()"
   ]
  },
  {
   "cell_type": "code",
   "execution_count": 11,
   "id": "461c690d-a637-42c9-9c82-ad6a407ee88b",
   "metadata": {},
   "outputs": [
    {
     "name": "stdin",
     "output_type": "stream",
     "text": [
      " murli\n",
      "enter the nname: krishna\n",
      "enter the number1: 100\n"
     ]
    },
    {
     "name": "stdout",
     "output_type": "stream",
     "text": [
      "murli\n",
      "krishna\n",
      "100\n"
     ]
    }
   ],
   "source": [
    "name1=input()\n",
    "name2=input(\"enter the nname:\")\n",
    "num=input(\"enter the number1:\")\n",
    "print(name1)\n",
    "print(name2)\n",
    "print(num)"
   ]
  },
  {
   "cell_type": "code",
   "execution_count": 16,
   "id": "cd888674-5366-42c0-8025-d15c46675eac",
   "metadata": {},
   "outputs": [
    {
     "name": "stdin",
     "output_type": "stream",
     "text": [
      "enter the num1: 100\n",
      "enter the num2: 200\n"
     ]
    },
    {
     "name": "stdout",
     "output_type": "stream",
     "text": [
      "300\n"
     ]
    }
   ],
   "source": [
    "n1=input(\"enter the num1:\") #int('100')    #n1='100'\n",
    "n2=input(\"enter the num2:\") #int('200\")    #n2='200'\n",
    "add=int(n1)+int(n2)          #add=100+200    #add=int('100')+int('200')\n",
    "print(add)                   #print(300)"
   ]
  },
  {
   "cell_type": "code",
   "execution_count": 14,
   "id": "24abc5aa-515f-472c-8e0d-83a548e819c6",
   "metadata": {},
   "outputs": [
    {
     "data": {
      "text/plain": [
       "'100200'"
      ]
     },
     "execution_count": 14,
     "metadata": {},
     "output_type": "execute_result"
    }
   ],
   "source": [
    "'100'+'200'"
   ]
  },
  {
   "cell_type": "code",
   "execution_count": 15,
   "id": "5df4bd19-3e69-42a6-9ad1-b9b923d8a3b7",
   "metadata": {},
   "outputs": [
    {
     "data": {
      "text/plain": [
       "300"
      ]
     },
     "execution_count": 15,
     "metadata": {},
     "output_type": "execute_result"
    }
   ],
   "source": [
    "100+200"
   ]
  },
  {
   "cell_type": "code",
   "execution_count": 19,
   "id": "621052bc-b7eb-40bd-88fc-1197886b4a95",
   "metadata": {},
   "outputs": [
    {
     "name": "stdin",
     "output_type": "stream",
     "text": [
      "enter the num1: 100.5\n",
      "enter the num2: 100\n"
     ]
    },
    {
     "name": "stdout",
     "output_type": "stream",
     "text": [
      "200.5\n"
     ]
    }
   ],
   "source": [
    "n1=float(input(\"enter the num1:\"))\n",
    "n2=int(input(\"enter the num2:\"))\n",
    "add=n1+n2         \n",
    "print(add)\n",
    "\n",
    "# whenever int is there dont give the float values\n",
    "# if uyou want to give float values then apply float conversion\n",
    "# if you want to give int values then apply int conversion"
   ]
  },
  {
   "cell_type": "markdown",
   "id": "365092f5-a747-4cdf-adbb-2e7587ed64b9",
   "metadata": {},
   "source": [
    "**eval**\n",
    "\n",
    "- eval meaning **evaluate**\n",
    "\n",
    "- evaluate will use for numbers only,not for english\n",
    "\n",
    "- evaluate will convert integer number to integer\n",
    "\n",
    "- evaluate will convert float numbers to float"
   ]
  },
  {
   "cell_type": "code",
   "execution_count": 23,
   "id": "8a1abc77-496b-4493-94de-4f50a67d53a4",
   "metadata": {},
   "outputs": [
    {
     "name": "stdin",
     "output_type": "stream",
     "text": [
      "enter the number: 100\n",
      "enter the number: 200.5\n"
     ]
    },
    {
     "name": "stdout",
     "output_type": "stream",
     "text": [
      "300.5\n"
     ]
    }
   ],
   "source": [
    "n1=eval(input(\"enter the number:\"))\n",
    "n2=eval(input(\"enter the number:\"))\n",
    "add=n1+n2\n",
    "print(add)"
   ]
  },
  {
   "cell_type": "code",
   "execution_count": null,
   "id": "26a5ea80-6751-4e48-9755-77f6209ade4e",
   "metadata": {},
   "outputs": [],
   "source": []
  }
 ],
 "metadata": {
  "kernelspec": {
   "display_name": "Python 3 (ipykernel)",
   "language": "python",
   "name": "python3"
  },
  "language_info": {
   "codemirror_mode": {
    "name": "ipython",
    "version": 3
   },
   "file_extension": ".py",
   "mimetype": "text/x-python",
   "name": "python",
   "nbconvert_exporter": "python",
   "pygments_lexer": "ipython3",
   "version": "3.11.7"
  }
 },
 "nbformat": 4,
 "nbformat_minor": 5
}
