{
 "cells": [
  {
   "cell_type": "code",
   "execution_count": 1,
   "id": "6817c657-ccc3-4337-8a0d-ee643d8b6a83",
   "metadata": {},
   "outputs": [],
   "source": [
    "# Read the packages\n",
    "# Read the data\n",
    "# cat and numerical"
   ]
  },
  {
   "cell_type": "code",
   "execution_count": 2,
   "id": "be1db02d-0b0d-4291-a68a-950bd55fb028",
   "metadata": {},
   "outputs": [],
   "source": [
    "import pandas as pd\n",
    "import numpy as np\n",
    "import matplotlib.pyplot as plt\n",
    "import seaborn as sns"
   ]
  },
  {
   "cell_type": "code",
   "execution_count": 3,
   "id": "88bca68f-3c3b-4870-8983-9f4d2ec0c9e8",
   "metadata": {},
   "outputs": [
    {
     "data": {
      "text/html": [
       "<div>\n",
       "<style scoped>\n",
       "    .dataframe tbody tr th:only-of-type {\n",
       "        vertical-align: middle;\n",
       "    }\n",
       "\n",
       "    .dataframe tbody tr th {\n",
       "        vertical-align: top;\n",
       "    }\n",
       "\n",
       "    .dataframe thead th {\n",
       "        text-align: right;\n",
       "    }\n",
       "</style>\n",
       "<table border=\"1\" class=\"dataframe\">\n",
       "  <thead>\n",
       "    <tr style=\"text-align: right;\">\n",
       "      <th></th>\n",
       "      <th>case_id</th>\n",
       "      <th>continent</th>\n",
       "      <th>education_of_employee</th>\n",
       "      <th>has_job_experience</th>\n",
       "      <th>requires_job_training</th>\n",
       "      <th>no_of_employees</th>\n",
       "      <th>yr_of_estab</th>\n",
       "      <th>region_of_employment</th>\n",
       "      <th>prevailing_wage</th>\n",
       "      <th>unit_of_wage</th>\n",
       "      <th>full_time_position</th>\n",
       "      <th>case_status</th>\n",
       "    </tr>\n",
       "  </thead>\n",
       "  <tbody>\n",
       "    <tr>\n",
       "      <th>0</th>\n",
       "      <td>EZYV01</td>\n",
       "      <td>Asia</td>\n",
       "      <td>High School</td>\n",
       "      <td>N</td>\n",
       "      <td>N</td>\n",
       "      <td>14513</td>\n",
       "      <td>2007</td>\n",
       "      <td>West</td>\n",
       "      <td>592.2029</td>\n",
       "      <td>Hour</td>\n",
       "      <td>Y</td>\n",
       "      <td>Denied</td>\n",
       "    </tr>\n",
       "    <tr>\n",
       "      <th>1</th>\n",
       "      <td>EZYV02</td>\n",
       "      <td>Asia</td>\n",
       "      <td>Master's</td>\n",
       "      <td>Y</td>\n",
       "      <td>N</td>\n",
       "      <td>2412</td>\n",
       "      <td>2002</td>\n",
       "      <td>Northeast</td>\n",
       "      <td>83425.6500</td>\n",
       "      <td>Year</td>\n",
       "      <td>Y</td>\n",
       "      <td>Certified</td>\n",
       "    </tr>\n",
       "    <tr>\n",
       "      <th>2</th>\n",
       "      <td>EZYV03</td>\n",
       "      <td>Asia</td>\n",
       "      <td>Bachelor's</td>\n",
       "      <td>N</td>\n",
       "      <td>Y</td>\n",
       "      <td>44444</td>\n",
       "      <td>2008</td>\n",
       "      <td>West</td>\n",
       "      <td>122996.8600</td>\n",
       "      <td>Year</td>\n",
       "      <td>Y</td>\n",
       "      <td>Denied</td>\n",
       "    </tr>\n",
       "    <tr>\n",
       "      <th>3</th>\n",
       "      <td>EZYV04</td>\n",
       "      <td>Asia</td>\n",
       "      <td>Bachelor's</td>\n",
       "      <td>N</td>\n",
       "      <td>N</td>\n",
       "      <td>98</td>\n",
       "      <td>1897</td>\n",
       "      <td>West</td>\n",
       "      <td>83434.0300</td>\n",
       "      <td>Year</td>\n",
       "      <td>Y</td>\n",
       "      <td>Denied</td>\n",
       "    </tr>\n",
       "    <tr>\n",
       "      <th>4</th>\n",
       "      <td>EZYV05</td>\n",
       "      <td>Africa</td>\n",
       "      <td>Master's</td>\n",
       "      <td>Y</td>\n",
       "      <td>N</td>\n",
       "      <td>1082</td>\n",
       "      <td>2005</td>\n",
       "      <td>South</td>\n",
       "      <td>149907.3900</td>\n",
       "      <td>Year</td>\n",
       "      <td>Y</td>\n",
       "      <td>Certified</td>\n",
       "    </tr>\n",
       "  </tbody>\n",
       "</table>\n",
       "</div>"
      ],
      "text/plain": [
       "  case_id continent education_of_employee has_job_experience  \\\n",
       "0  EZYV01      Asia           High School                  N   \n",
       "1  EZYV02      Asia              Master's                  Y   \n",
       "2  EZYV03      Asia            Bachelor's                  N   \n",
       "3  EZYV04      Asia            Bachelor's                  N   \n",
       "4  EZYV05    Africa              Master's                  Y   \n",
       "\n",
       "  requires_job_training  no_of_employees  yr_of_estab region_of_employment  \\\n",
       "0                     N            14513         2007                 West   \n",
       "1                     N             2412         2002            Northeast   \n",
       "2                     Y            44444         2008                 West   \n",
       "3                     N               98         1897                 West   \n",
       "4                     N             1082         2005                South   \n",
       "\n",
       "   prevailing_wage unit_of_wage full_time_position case_status  \n",
       "0         592.2029         Hour                  Y      Denied  \n",
       "1       83425.6500         Year                  Y   Certified  \n",
       "2      122996.8600         Year                  Y      Denied  \n",
       "3       83434.0300         Year                  Y      Denied  \n",
       "4      149907.3900         Year                  Y   Certified  "
      ]
     },
     "execution_count": 3,
     "metadata": {},
     "output_type": "execute_result"
    }
   ],
   "source": [
    "visa_df=pd.read_csv(r\"C:\\Users\\samud\\OneDrive\\Documents\\Naresh it\\datasets\\Visadataset.csv\")\n",
    "visa_df.head()"
   ]
  },
  {
   "cell_type": "markdown",
   "id": "6b12ed2b-594b-4541-a870-8cf49d2fdfb8",
   "metadata": {},
   "source": [
    "**Divide into categorical and numerical columns**\n"
   ]
  },
  {
   "cell_type": "code",
   "execution_count": 4,
   "id": "f67dd6c9-262a-4380-8876-97b32cb32f4a",
   "metadata": {},
   "outputs": [],
   "source": [
    "types=dict(visa_df.dtypes)\n",
    "cat_columns=[key for key,value in types.items() if value=='object']\n",
    "num_columns=[key for key,value in types.items() if value!='object']"
   ]
  },
  {
   "cell_type": "code",
   "execution_count": 5,
   "id": "ffe92b58-f420-4eb8-bcd4-68da916a6f08",
   "metadata": {},
   "outputs": [
    {
     "data": {
      "text/plain": [
       "['case_id',\n",
       " 'continent',\n",
       " 'education_of_employee',\n",
       " 'has_job_experience',\n",
       " 'requires_job_training',\n",
       " 'region_of_employment',\n",
       " 'unit_of_wage',\n",
       " 'full_time_position',\n",
       " 'case_status']"
      ]
     },
     "execution_count": 5,
     "metadata": {},
     "output_type": "execute_result"
    }
   ],
   "source": [
    "cat_column=visa_df.select_dtypes(include='object').columns\n",
    "num_column=visa_df.select_dtypes(exclude='object').columns\n",
    "cat_columns"
   ]
  },
  {
   "cell_type": "markdown",
   "id": "5ef0838c-a1fb-4763-8eab-dab0fc8f8a6c",
   "metadata": {},
   "source": [
    "**How to select specific column**"
   ]
  },
  {
   "cell_type": "code",
   "execution_count": 6,
   "id": "bf736b37-bb74-4c9f-a96c-464ed2cba0e4",
   "metadata": {},
   "outputs": [
    {
     "data": {
      "text/plain": [
       "0          Asia\n",
       "1          Asia\n",
       "2          Asia\n",
       "3          Asia\n",
       "4        Africa\n",
       "          ...  \n",
       "25475      Asia\n",
       "25476      Asia\n",
       "25477      Asia\n",
       "25478      Asia\n",
       "25479      Asia\n",
       "Name: continent, Length: 25480, dtype: object"
      ]
     },
     "execution_count": 6,
     "metadata": {},
     "output_type": "execute_result"
    }
   ],
   "source": [
    "visa_df['continent']  # series metod"
   ]
  },
  {
   "cell_type": "code",
   "execution_count": 7,
   "id": "3e51d7e7-79c5-48a7-b538-5273baf1ae8a",
   "metadata": {},
   "outputs": [
    {
     "data": {
      "text/plain": [
       "0          Asia\n",
       "1          Asia\n",
       "2          Asia\n",
       "3          Asia\n",
       "4        Africa\n",
       "          ...  \n",
       "25475      Asia\n",
       "25476      Asia\n",
       "25477      Asia\n",
       "25478      Asia\n",
       "25479      Asia\n",
       "Name: continent, Length: 25480, dtype: object"
      ]
     },
     "execution_count": 7,
     "metadata": {},
     "output_type": "execute_result"
    }
   ],
   "source": [
    "visa_df.continent"
   ]
  },
  {
   "cell_type": "code",
   "execution_count": 8,
   "id": "98c2dd55-96cd-4606-a845-839877115ba4",
   "metadata": {},
   "outputs": [
    {
     "data": {
      "text/html": [
       "<div>\n",
       "<style scoped>\n",
       "    .dataframe tbody tr th:only-of-type {\n",
       "        vertical-align: middle;\n",
       "    }\n",
       "\n",
       "    .dataframe tbody tr th {\n",
       "        vertical-align: top;\n",
       "    }\n",
       "\n",
       "    .dataframe thead th {\n",
       "        text-align: right;\n",
       "    }\n",
       "</style>\n",
       "<table border=\"1\" class=\"dataframe\">\n",
       "  <thead>\n",
       "    <tr style=\"text-align: right;\">\n",
       "      <th></th>\n",
       "      <th>continent</th>\n",
       "    </tr>\n",
       "  </thead>\n",
       "  <tbody>\n",
       "    <tr>\n",
       "      <th>0</th>\n",
       "      <td>Asia</td>\n",
       "    </tr>\n",
       "    <tr>\n",
       "      <th>1</th>\n",
       "      <td>Asia</td>\n",
       "    </tr>\n",
       "    <tr>\n",
       "      <th>2</th>\n",
       "      <td>Asia</td>\n",
       "    </tr>\n",
       "    <tr>\n",
       "      <th>3</th>\n",
       "      <td>Asia</td>\n",
       "    </tr>\n",
       "    <tr>\n",
       "      <th>4</th>\n",
       "      <td>Africa</td>\n",
       "    </tr>\n",
       "    <tr>\n",
       "      <th>...</th>\n",
       "      <td>...</td>\n",
       "    </tr>\n",
       "    <tr>\n",
       "      <th>25475</th>\n",
       "      <td>Asia</td>\n",
       "    </tr>\n",
       "    <tr>\n",
       "      <th>25476</th>\n",
       "      <td>Asia</td>\n",
       "    </tr>\n",
       "    <tr>\n",
       "      <th>25477</th>\n",
       "      <td>Asia</td>\n",
       "    </tr>\n",
       "    <tr>\n",
       "      <th>25478</th>\n",
       "      <td>Asia</td>\n",
       "    </tr>\n",
       "    <tr>\n",
       "      <th>25479</th>\n",
       "      <td>Asia</td>\n",
       "    </tr>\n",
       "  </tbody>\n",
       "</table>\n",
       "<p>25480 rows × 1 columns</p>\n",
       "</div>"
      ],
      "text/plain": [
       "      continent\n",
       "0          Asia\n",
       "1          Asia\n",
       "2          Asia\n",
       "3          Asia\n",
       "4        Africa\n",
       "...         ...\n",
       "25475      Asia\n",
       "25476      Asia\n",
       "25477      Asia\n",
       "25478      Asia\n",
       "25479      Asia\n",
       "\n",
       "[25480 rows x 1 columns]"
      ]
     },
     "execution_count": 8,
     "metadata": {},
     "output_type": "execute_result"
    }
   ],
   "source": [
    "visa_df.loc[:,['continent']]"
   ]
  },
  {
   "cell_type": "markdown",
   "id": "d9b22d78-479d-46d5-bce0-3c3850b4b7ed",
   "metadata": {},
   "source": [
    "**Read the multiple column**\n",
    "\n",
    "- whenever we see multiple means recall the first \n",
    "\n",
    "- keep the column in list\n",
    "\n",
    "- pass that list"
   ]
  },
  {
   "cell_type": "code",
   "execution_count": 9,
   "id": "df31bf6b-fb02-498b-8252-a7c7780bfc1a",
   "metadata": {},
   "outputs": [
    {
     "data": {
      "text/html": [
       "<div>\n",
       "<style scoped>\n",
       "    .dataframe tbody tr th:only-of-type {\n",
       "        vertical-align: middle;\n",
       "    }\n",
       "\n",
       "    .dataframe tbody tr th {\n",
       "        vertical-align: top;\n",
       "    }\n",
       "\n",
       "    .dataframe thead th {\n",
       "        text-align: right;\n",
       "    }\n",
       "</style>\n",
       "<table border=\"1\" class=\"dataframe\">\n",
       "  <thead>\n",
       "    <tr style=\"text-align: right;\">\n",
       "      <th></th>\n",
       "      <th>continent</th>\n",
       "      <th>case_status</th>\n",
       "    </tr>\n",
       "  </thead>\n",
       "  <tbody>\n",
       "    <tr>\n",
       "      <th>0</th>\n",
       "      <td>Asia</td>\n",
       "      <td>Denied</td>\n",
       "    </tr>\n",
       "    <tr>\n",
       "      <th>1</th>\n",
       "      <td>Asia</td>\n",
       "      <td>Certified</td>\n",
       "    </tr>\n",
       "    <tr>\n",
       "      <th>2</th>\n",
       "      <td>Asia</td>\n",
       "      <td>Denied</td>\n",
       "    </tr>\n",
       "    <tr>\n",
       "      <th>3</th>\n",
       "      <td>Asia</td>\n",
       "      <td>Denied</td>\n",
       "    </tr>\n",
       "    <tr>\n",
       "      <th>4</th>\n",
       "      <td>Africa</td>\n",
       "      <td>Certified</td>\n",
       "    </tr>\n",
       "    <tr>\n",
       "      <th>...</th>\n",
       "      <td>...</td>\n",
       "      <td>...</td>\n",
       "    </tr>\n",
       "    <tr>\n",
       "      <th>25475</th>\n",
       "      <td>Asia</td>\n",
       "      <td>Certified</td>\n",
       "    </tr>\n",
       "    <tr>\n",
       "      <th>25476</th>\n",
       "      <td>Asia</td>\n",
       "      <td>Certified</td>\n",
       "    </tr>\n",
       "    <tr>\n",
       "      <th>25477</th>\n",
       "      <td>Asia</td>\n",
       "      <td>Certified</td>\n",
       "    </tr>\n",
       "    <tr>\n",
       "      <th>25478</th>\n",
       "      <td>Asia</td>\n",
       "      <td>Certified</td>\n",
       "    </tr>\n",
       "    <tr>\n",
       "      <th>25479</th>\n",
       "      <td>Asia</td>\n",
       "      <td>Certified</td>\n",
       "    </tr>\n",
       "  </tbody>\n",
       "</table>\n",
       "<p>25480 rows × 2 columns</p>\n",
       "</div>"
      ],
      "text/plain": [
       "      continent case_status\n",
       "0          Asia      Denied\n",
       "1          Asia   Certified\n",
       "2          Asia      Denied\n",
       "3          Asia      Denied\n",
       "4        Africa   Certified\n",
       "...         ...         ...\n",
       "25475      Asia   Certified\n",
       "25476      Asia   Certified\n",
       "25477      Asia   Certified\n",
       "25478      Asia   Certified\n",
       "25479      Asia   Certified\n",
       "\n",
       "[25480 rows x 2 columns]"
      ]
     },
     "execution_count": 9,
     "metadata": {},
     "output_type": "execute_result"
    }
   ],
   "source": [
    "cols=['continent','case_status']\n",
    "visa_df[cols]"
   ]
  },
  {
   "cell_type": "markdown",
   "id": "6e4e60a5-6f94-4dca-9539-17d1f6feed38",
   "metadata": {},
   "source": [
    "$task-1$\n",
    "\n",
    "**we want to find the number of applicants continent wise**\n",
    "\n",
    "- there is an Asia continent is there\n",
    "\n",
    "- How many applicants are from asis out of 25480"
   ]
  },
  {
   "cell_type": "markdown",
   "id": "e75b3eb7-7c38-4d6d-a5f2-9bd1c3fb6fb6",
   "metadata": {},
   "source": [
    "**Unique**\n",
    "\n",
    "- unique will provide how many unique items are there in a particular column"
   ]
  },
  {
   "cell_type": "code",
   "execution_count": 10,
   "id": "c943d1e5-368c-4395-9b06-97a2cee01d8d",
   "metadata": {},
   "outputs": [
    {
     "data": {
      "text/plain": [
       "array(['Asia', 'Africa', 'North America', 'Europe', 'South America',\n",
       "       'Oceania'], dtype=object)"
      ]
     },
     "execution_count": 10,
     "metadata": {},
     "output_type": "execute_result"
    }
   ],
   "source": [
    "visa_df['continent'].unique()"
   ]
  },
  {
   "cell_type": "code",
   "execution_count": 11,
   "id": "6f2fa333-55bd-4983-ba36-417c2d94047d",
   "metadata": {},
   "outputs": [
    {
     "data": {
      "text/plain": [
       "6"
      ]
     },
     "execution_count": 11,
     "metadata": {},
     "output_type": "execute_result"
    }
   ],
   "source": [
    "len(visa_df['continent'].unique())"
   ]
  },
  {
   "cell_type": "markdown",
   "id": "3aaefd11-aa02-40b9-bd01-004e6e3e8034",
   "metadata": {},
   "source": [
    "**nunique**\n",
    "\n",
    "- gives count of unique items"
   ]
  },
  {
   "cell_type": "code",
   "execution_count": 12,
   "id": "6aca7949-db3d-4def-adb4-180ddf969db9",
   "metadata": {},
   "outputs": [
    {
     "data": {
      "text/plain": [
       "6"
      ]
     },
     "execution_count": 12,
     "metadata": {},
     "output_type": "execute_result"
    }
   ],
   "source": [
    "visa_df['continent'].nunique()"
   ]
  },
  {
   "cell_type": "code",
   "execution_count": 13,
   "id": "b8a714e9-bdc4-4401-b713-4f84f8c0b00f",
   "metadata": {},
   "outputs": [
    {
     "data": {
      "text/plain": [
       "0        False\n",
       "1        False\n",
       "2        False\n",
       "3        False\n",
       "4         True\n",
       "         ...  \n",
       "25475    False\n",
       "25476    False\n",
       "25477    False\n",
       "25478    False\n",
       "25479    False\n",
       "Name: continent, Length: 25480, dtype: bool"
      ]
     },
     "execution_count": 13,
     "metadata": {},
     "output_type": "execute_result"
    }
   ],
   "source": [
    "con=visa_df['continent']=='Africa'\n",
    "con\n",
    "\n",
    "# dataframename[con]\n"
   ]
  },
  {
   "cell_type": "code",
   "execution_count": 14,
   "id": "5ab1ebe4-6a8c-42db-96ff-5629fe8baaca",
   "metadata": {},
   "outputs": [
    {
     "data": {
      "text/plain": [
       "True"
      ]
     },
     "execution_count": 14,
     "metadata": {},
     "output_type": "execute_result"
    }
   ],
   "source": [
    "10==10"
   ]
  },
  {
   "cell_type": "code",
   "execution_count": 15,
   "id": "bd178392-f194-44d3-b739-7102572b91bd",
   "metadata": {},
   "outputs": [
    {
     "data": {
      "text/html": [
       "<div>\n",
       "<style scoped>\n",
       "    .dataframe tbody tr th:only-of-type {\n",
       "        vertical-align: middle;\n",
       "    }\n",
       "\n",
       "    .dataframe tbody tr th {\n",
       "        vertical-align: top;\n",
       "    }\n",
       "\n",
       "    .dataframe thead th {\n",
       "        text-align: right;\n",
       "    }\n",
       "</style>\n",
       "<table border=\"1\" class=\"dataframe\">\n",
       "  <thead>\n",
       "    <tr style=\"text-align: right;\">\n",
       "      <th></th>\n",
       "      <th>case_id</th>\n",
       "      <th>continent</th>\n",
       "      <th>education_of_employee</th>\n",
       "      <th>has_job_experience</th>\n",
       "      <th>requires_job_training</th>\n",
       "      <th>no_of_employees</th>\n",
       "      <th>yr_of_estab</th>\n",
       "      <th>region_of_employment</th>\n",
       "      <th>prevailing_wage</th>\n",
       "      <th>unit_of_wage</th>\n",
       "      <th>full_time_position</th>\n",
       "      <th>case_status</th>\n",
       "    </tr>\n",
       "  </thead>\n",
       "  <tbody>\n",
       "    <tr>\n",
       "      <th>4</th>\n",
       "      <td>EZYV05</td>\n",
       "      <td>Africa</td>\n",
       "      <td>Master's</td>\n",
       "      <td>Y</td>\n",
       "      <td>N</td>\n",
       "      <td>1082</td>\n",
       "      <td>2005</td>\n",
       "      <td>South</td>\n",
       "      <td>149907.39</td>\n",
       "      <td>Year</td>\n",
       "      <td>Y</td>\n",
       "      <td>Certified</td>\n",
       "    </tr>\n",
       "    <tr>\n",
       "      <th>18</th>\n",
       "      <td>EZYV19</td>\n",
       "      <td>Africa</td>\n",
       "      <td>Master's</td>\n",
       "      <td>Y</td>\n",
       "      <td>N</td>\n",
       "      <td>4743</td>\n",
       "      <td>2004</td>\n",
       "      <td>Midwest</td>\n",
       "      <td>150441.13</td>\n",
       "      <td>Year</td>\n",
       "      <td>Y</td>\n",
       "      <td>Certified</td>\n",
       "    </tr>\n",
       "    <tr>\n",
       "      <th>74</th>\n",
       "      <td>EZYV75</td>\n",
       "      <td>Africa</td>\n",
       "      <td>Master's</td>\n",
       "      <td>Y</td>\n",
       "      <td>N</td>\n",
       "      <td>3705</td>\n",
       "      <td>2001</td>\n",
       "      <td>South</td>\n",
       "      <td>47170.76</td>\n",
       "      <td>Year</td>\n",
       "      <td>Y</td>\n",
       "      <td>Certified</td>\n",
       "    </tr>\n",
       "    <tr>\n",
       "      <th>194</th>\n",
       "      <td>EZYV195</td>\n",
       "      <td>Africa</td>\n",
       "      <td>Master's</td>\n",
       "      <td>Y</td>\n",
       "      <td>N</td>\n",
       "      <td>2180</td>\n",
       "      <td>1992</td>\n",
       "      <td>Midwest</td>\n",
       "      <td>113637.40</td>\n",
       "      <td>Year</td>\n",
       "      <td>Y</td>\n",
       "      <td>Certified</td>\n",
       "    </tr>\n",
       "    <tr>\n",
       "      <th>242</th>\n",
       "      <td>EZYV243</td>\n",
       "      <td>Africa</td>\n",
       "      <td>Bachelor's</td>\n",
       "      <td>N</td>\n",
       "      <td>Y</td>\n",
       "      <td>2509</td>\n",
       "      <td>2003</td>\n",
       "      <td>West</td>\n",
       "      <td>51886.04</td>\n",
       "      <td>Year</td>\n",
       "      <td>Y</td>\n",
       "      <td>Denied</td>\n",
       "    </tr>\n",
       "    <tr>\n",
       "      <th>...</th>\n",
       "      <td>...</td>\n",
       "      <td>...</td>\n",
       "      <td>...</td>\n",
       "      <td>...</td>\n",
       "      <td>...</td>\n",
       "      <td>...</td>\n",
       "      <td>...</td>\n",
       "      <td>...</td>\n",
       "      <td>...</td>\n",
       "      <td>...</td>\n",
       "      <td>...</td>\n",
       "      <td>...</td>\n",
       "    </tr>\n",
       "    <tr>\n",
       "      <th>25385</th>\n",
       "      <td>EZYV25386</td>\n",
       "      <td>Africa</td>\n",
       "      <td>Doctorate</td>\n",
       "      <td>Y</td>\n",
       "      <td>N</td>\n",
       "      <td>2513</td>\n",
       "      <td>1975</td>\n",
       "      <td>West</td>\n",
       "      <td>76348.20</td>\n",
       "      <td>Year</td>\n",
       "      <td>Y</td>\n",
       "      <td>Certified</td>\n",
       "    </tr>\n",
       "    <tr>\n",
       "      <th>25408</th>\n",
       "      <td>EZYV25409</td>\n",
       "      <td>Africa</td>\n",
       "      <td>Master's</td>\n",
       "      <td>Y</td>\n",
       "      <td>Y</td>\n",
       "      <td>1671</td>\n",
       "      <td>1992</td>\n",
       "      <td>Midwest</td>\n",
       "      <td>55756.35</td>\n",
       "      <td>Year</td>\n",
       "      <td>Y</td>\n",
       "      <td>Certified</td>\n",
       "    </tr>\n",
       "    <tr>\n",
       "      <th>25443</th>\n",
       "      <td>EZYV25444</td>\n",
       "      <td>Africa</td>\n",
       "      <td>Bachelor's</td>\n",
       "      <td>N</td>\n",
       "      <td>N</td>\n",
       "      <td>72892</td>\n",
       "      <td>2007</td>\n",
       "      <td>Northeast</td>\n",
       "      <td>215.10</td>\n",
       "      <td>Hour</td>\n",
       "      <td>Y</td>\n",
       "      <td>Certified</td>\n",
       "    </tr>\n",
       "    <tr>\n",
       "      <th>25446</th>\n",
       "      <td>EZYV25447</td>\n",
       "      <td>Africa</td>\n",
       "      <td>Master's</td>\n",
       "      <td>N</td>\n",
       "      <td>Y</td>\n",
       "      <td>2024</td>\n",
       "      <td>1971</td>\n",
       "      <td>South</td>\n",
       "      <td>42353.45</td>\n",
       "      <td>Year</td>\n",
       "      <td>Y</td>\n",
       "      <td>Certified</td>\n",
       "    </tr>\n",
       "    <tr>\n",
       "      <th>25474</th>\n",
       "      <td>EZYV25475</td>\n",
       "      <td>Africa</td>\n",
       "      <td>Doctorate</td>\n",
       "      <td>N</td>\n",
       "      <td>N</td>\n",
       "      <td>2594</td>\n",
       "      <td>1979</td>\n",
       "      <td>Northeast</td>\n",
       "      <td>51104.78</td>\n",
       "      <td>Year</td>\n",
       "      <td>Y</td>\n",
       "      <td>Certified</td>\n",
       "    </tr>\n",
       "  </tbody>\n",
       "</table>\n",
       "<p>551 rows × 12 columns</p>\n",
       "</div>"
      ],
      "text/plain": [
       "         case_id continent education_of_employee has_job_experience  \\\n",
       "4         EZYV05    Africa              Master's                  Y   \n",
       "18        EZYV19    Africa              Master's                  Y   \n",
       "74        EZYV75    Africa              Master's                  Y   \n",
       "194      EZYV195    Africa              Master's                  Y   \n",
       "242      EZYV243    Africa            Bachelor's                  N   \n",
       "...          ...       ...                   ...                ...   \n",
       "25385  EZYV25386    Africa             Doctorate                  Y   \n",
       "25408  EZYV25409    Africa              Master's                  Y   \n",
       "25443  EZYV25444    Africa            Bachelor's                  N   \n",
       "25446  EZYV25447    Africa              Master's                  N   \n",
       "25474  EZYV25475    Africa             Doctorate                  N   \n",
       "\n",
       "      requires_job_training  no_of_employees  yr_of_estab  \\\n",
       "4                         N             1082         2005   \n",
       "18                        N             4743         2004   \n",
       "74                        N             3705         2001   \n",
       "194                       N             2180         1992   \n",
       "242                       Y             2509         2003   \n",
       "...                     ...              ...          ...   \n",
       "25385                     N             2513         1975   \n",
       "25408                     Y             1671         1992   \n",
       "25443                     N            72892         2007   \n",
       "25446                     Y             2024         1971   \n",
       "25474                     N             2594         1979   \n",
       "\n",
       "      region_of_employment  prevailing_wage unit_of_wage full_time_position  \\\n",
       "4                    South        149907.39         Year                  Y   \n",
       "18                 Midwest        150441.13         Year                  Y   \n",
       "74                   South         47170.76         Year                  Y   \n",
       "194                Midwest        113637.40         Year                  Y   \n",
       "242                   West         51886.04         Year                  Y   \n",
       "...                    ...              ...          ...                ...   \n",
       "25385                 West         76348.20         Year                  Y   \n",
       "25408              Midwest         55756.35         Year                  Y   \n",
       "25443            Northeast           215.10         Hour                  Y   \n",
       "25446                South         42353.45         Year                  Y   \n",
       "25474            Northeast         51104.78         Year                  Y   \n",
       "\n",
       "      case_status  \n",
       "4       Certified  \n",
       "18      Certified  \n",
       "74      Certified  \n",
       "194     Certified  \n",
       "242        Denied  \n",
       "...           ...  \n",
       "25385   Certified  \n",
       "25408   Certified  \n",
       "25443   Certified  \n",
       "25446   Certified  \n",
       "25474   Certified  \n",
       "\n",
       "[551 rows x 12 columns]"
      ]
     },
     "execution_count": 15,
     "metadata": {},
     "output_type": "execute_result"
    }
   ],
   "source": [
    "con=visa_df['continent']=='Africa'\n",
    "\n",
    "# dataframename[con]\n",
    "visa_df[con]"
   ]
  },
  {
   "cell_type": "code",
   "execution_count": 16,
   "id": "06bcc4e1-97fb-4db6-b6cb-670477811328",
   "metadata": {},
   "outputs": [
    {
     "data": {
      "text/plain": [
       "16861"
      ]
     },
     "execution_count": 16,
     "metadata": {},
     "output_type": "execute_result"
    }
   ],
   "source": [
    "con=visa_df['continent']=='Asia'\n",
    "\n",
    "# dataframename[con]\n",
    "len(visa_df[con])"
   ]
  },
  {
   "cell_type": "code",
   "execution_count": 17,
   "id": "5ad6d5fb-13ba-42e2-b56a-3c155859d0c1",
   "metadata": {},
   "outputs": [],
   "source": [
    "# step-1  read the data with specific column\n",
    "\n",
    "# step-2: Apply the condition\n",
    "#          when we apply the condition pythonwill give True\n",
    "\n",
    "# step-3: In order to retrive the True data\n",
    "#         dataframe_name[con]"
   ]
  },
  {
   "cell_type": "code",
   "execution_count": 18,
   "id": "bf379721-f126-4576-bb85-915bfac5034a",
   "metadata": {},
   "outputs": [
    {
     "data": {
      "text/plain": [
       "16861"
      ]
     },
     "execution_count": 18,
     "metadata": {},
     "output_type": "execute_result"
    }
   ],
   "source": [
    "con=visa_df['continent']=='Asia'\n",
    "len(visa_df[con])"
   ]
  },
  {
   "cell_type": "code",
   "execution_count": 19,
   "id": "61998bbf-d62a-4630-8e43-ecfb374e6e9f",
   "metadata": {},
   "outputs": [
    {
     "ename": "NameError",
     "evalue": "name 'i' is not defined",
     "output_type": "error",
     "traceback": [
      "\u001b[1;31m---------------------------------------------------------------------------\u001b[0m",
      "\u001b[1;31mNameError\u001b[0m                                 Traceback (most recent call last)",
      "Cell \u001b[1;32mIn[19], line 19\u001b[0m\n\u001b[0;32m     16\u001b[0m con\u001b[38;5;241m=\u001b[39mvisa_df[\u001b[38;5;124m'\u001b[39m\u001b[38;5;124mcontinent\u001b[39m\u001b[38;5;124m'\u001b[39m]\u001b[38;5;241m==\u001b[39m\u001b[38;5;124m'\u001b[39m\u001b[38;5;124mOceania\u001b[39m\u001b[38;5;124m'\u001b[39m\n\u001b[0;32m     17\u001b[0m \u001b[38;5;28mlen\u001b[39m(visa_df[con])\n\u001b[1;32m---> 19\u001b[0m con\u001b[38;5;241m=\u001b[39mvisa_df[\u001b[38;5;124m'\u001b[39m\u001b[38;5;124mcontinent\u001b[39m\u001b[38;5;124m'\u001b[39m]\u001b[38;5;241m==\u001b[39mi\n\u001b[0;32m     20\u001b[0m \u001b[38;5;28mlen\u001b[39m(visa_df[con])\n",
      "\u001b[1;31mNameError\u001b[0m: name 'i' is not defined"
     ]
    }
   ],
   "source": [
    "con=visa_df['continent']=='Asia'\n",
    "len(visa_df[con])\n",
    "\n",
    "con=visa_df['continent']=='Africa'\n",
    "len(visa_df[con])\n",
    "\n",
    "con=visa_df['continent']=='North America'\n",
    "len(visa_df[con])\n",
    "\n",
    "con=visa_df['continent']=='Europe'\n",
    "len(visa_df[con])\n",
    "\n",
    "con=visa_df['continent']=='South America'\n",
    "len(visa_df[con])\n",
    "\n",
    "con=visa_df['continent']=='Oceania'\n",
    "len(visa_df[con])\n",
    "\n",
    "con=visa_df['continent']==i\n",
    "len(visa_df[con])"
   ]
  },
  {
   "cell_type": "code",
   "execution_count": 20,
   "id": "0a5a9e98-1a35-422f-bbbd-560839f8b159",
   "metadata": {},
   "outputs": [
    {
     "data": {
      "text/plain": [
       "16861"
      ]
     },
     "execution_count": 20,
     "metadata": {},
     "output_type": "execute_result"
    }
   ],
   "source": [
    "con=visa_df['continent']=='Asia'\n",
    "len(visa_df[con])"
   ]
  },
  {
   "cell_type": "code",
   "execution_count": 21,
   "id": "5839066e-88d3-4316-a5dd-68f8d75f4e5a",
   "metadata": {},
   "outputs": [
    {
     "data": {
      "text/plain": [
       "551"
      ]
     },
     "execution_count": 21,
     "metadata": {},
     "output_type": "execute_result"
    }
   ],
   "source": [
    "con=visa_df['continent']=='Africa'\n",
    "len(visa_df[con])"
   ]
  },
  {
   "cell_type": "code",
   "execution_count": 22,
   "id": "706dc025-98b5-4071-9ea8-efeca77271c4",
   "metadata": {},
   "outputs": [
    {
     "data": {
      "text/plain": [
       "3292"
      ]
     },
     "execution_count": 22,
     "metadata": {},
     "output_type": "execute_result"
    }
   ],
   "source": [
    "con=visa_df['continent']=='North America'\n",
    "len(visa_df[con])"
   ]
  },
  {
   "cell_type": "code",
   "execution_count": 23,
   "id": "51a78d63-c55a-4370-bc05-83dedc5a748e",
   "metadata": {},
   "outputs": [
    {
     "data": {
      "text/plain": [
       "3732"
      ]
     },
     "execution_count": 23,
     "metadata": {},
     "output_type": "execute_result"
    }
   ],
   "source": [
    "con=visa_df['continent']=='Europe'\n",
    "len(visa_df[con])"
   ]
  },
  {
   "cell_type": "code",
   "execution_count": 24,
   "id": "c306107c-31cf-4a42-8533-6a3f556c5b2c",
   "metadata": {},
   "outputs": [
    {
     "data": {
      "text/plain": [
       "852"
      ]
     },
     "execution_count": 24,
     "metadata": {},
     "output_type": "execute_result"
    }
   ],
   "source": [
    "con=visa_df['continent']=='South America'\n",
    "len(visa_df[con])"
   ]
  },
  {
   "cell_type": "code",
   "execution_count": 25,
   "id": "9945ea8f-c975-4a8e-ad9d-574914b88806",
   "metadata": {},
   "outputs": [
    {
     "data": {
      "text/plain": [
       "0"
      ]
     },
     "execution_count": 25,
     "metadata": {},
     "output_type": "execute_result"
    }
   ],
   "source": [
    "con=visa_df['continent']=='oceania'\n",
    "len(visa_df[con])"
   ]
  },
  {
   "cell_type": "code",
   "execution_count": 26,
   "id": "233bf6f7-f966-4a8c-8b06-e62ce56ad17b",
   "metadata": {},
   "outputs": [
    {
     "ename": "NameError",
     "evalue": "name 'i' is not defined",
     "output_type": "error",
     "traceback": [
      "\u001b[1;31m---------------------------------------------------------------------------\u001b[0m",
      "\u001b[1;31mNameError\u001b[0m                                 Traceback (most recent call last)",
      "Cell \u001b[1;32mIn[26], line 1\u001b[0m\n\u001b[1;32m----> 1\u001b[0m con\u001b[38;5;241m=\u001b[39mvisa_df[\u001b[38;5;124m'\u001b[39m\u001b[38;5;124mcontinent\u001b[39m\u001b[38;5;124m'\u001b[39m]\u001b[38;5;241m==\u001b[39mi\n\u001b[0;32m      2\u001b[0m \u001b[38;5;28mlen\u001b[39m(visa_df[con])\n",
      "\u001b[1;31mNameError\u001b[0m: name 'i' is not defined"
     ]
    }
   ],
   "source": [
    "con=visa_df['continent']==i\n",
    "len(visa_df[con])"
   ]
  },
  {
   "cell_type": "code",
   "execution_count": 27,
   "id": "fa015997-c2b9-4f29-847b-fd9631cdeb35",
   "metadata": {},
   "outputs": [
    {
     "name": "stdout",
     "output_type": "stream",
     "text": [
      "the number of applicants from Asia is: 16861\n",
      "the number of applicants from Africa is: 551\n",
      "the number of applicants from North America is: 3292\n",
      "the number of applicants from Europe is: 3732\n",
      "the number of applicants from South America is: 852\n",
      "the number of applicants from Oceania is: 192\n"
     ]
    }
   ],
   "source": [
    "for i in visa_df['continent'].unique():\n",
    "    con=visa_df['continent']==i\n",
    "    count=len(visa_df[con])\n",
    "    print(f'the number of applicants from {i} is: {count}')"
   ]
  },
  {
   "cell_type": "markdown",
   "id": "62a3e1b3-88df-492b-812c-dda7d08821b5",
   "metadata": {},
   "source": [
    "$task-2$\n",
    "\n",
    "-  Now instead of print count , take empty list\n",
    "\n",
    "-  save the values in a empty list\n",
    "\n",
    "-  we already has unique continent list\n",
    "\n",
    "-  we also having count list\n",
    "\n",
    "-  create a dataframe\n",
    " \n"
   ]
  },
  {
   "cell_type": "code",
   "execution_count": 28,
   "id": "8d71d84d-c789-4771-a349-3d3f55b3f5f1",
   "metadata": {},
   "outputs": [],
   "source": [
    "continents=visa_df['continent'].unique()\n",
    "\n",
    "count=[]\n",
    "for i in visa_df['continent'].unique():\n",
    "    con=visa_df['continent']==i\n",
    "    count.append(len(visa_df[con]))\n",
    "cols=['continents', 'Number of Applicants']\n",
    "continents_df=pd.DataFrame(zip(continents,count),\n",
    "            columns=cols)\n",
    "continents_df.to_csv('continents_df.csv',index=False)"
   ]
  },
  {
   "cell_type": "markdown",
   "id": "97991ef9-1541-4f5a-a417-8daa861b010b",
   "metadata": {},
   "source": [
    "**Value counts**"
   ]
  },
  {
   "cell_type": "code",
   "execution_count": 29,
   "id": "5e99089e-cded-4c3d-a3fe-2348754c146a",
   "metadata": {},
   "outputs": [
    {
     "data": {
      "text/plain": [
       "continent\n",
       "Asia             16861\n",
       "Europe            3732\n",
       "North America     3292\n",
       "South America      852\n",
       "Africa             551\n",
       "Oceania            192\n",
       "Name: count, dtype: int64"
      ]
     },
     "execution_count": 29,
     "metadata": {},
     "output_type": "execute_result"
    }
   ],
   "source": [
    "visa_df['continent'].value_counts()"
   ]
  },
  {
   "cell_type": "markdown",
   "id": "c62a89b7-793f-4051-bc13-da6bf73921c4",
   "metadata": {},
   "source": [
    "- we created a dataframe of unique value of a columns and its count\n",
    "\n",
    "- we created by our own way, by using for loop\n",
    "\n",
    "- The same operation we can get using value_countsm"
   ]
  },
  {
   "cell_type": "code",
   "execution_count": 30,
   "id": "56de49eb-0c1a-4d8a-a2b3-22aabc87ce52",
   "metadata": {},
   "outputs": [
    {
     "data": {
      "text/plain": [
       "continent\n",
       "Asia             16861\n",
       "Europe            3732\n",
       "North America     3292\n",
       "South America      852\n",
       "Africa             551\n",
       "Oceania            192\n",
       "Name: count, dtype: int64"
      ]
     },
     "execution_count": 30,
     "metadata": {},
     "output_type": "execute_result"
    }
   ],
   "source": [
    "cdf=visa_df['continent'].value_counts()\n",
    "cdf"
   ]
  },
  {
   "cell_type": "code",
   "execution_count": 31,
   "id": "19d980eb-185f-41a6-a1e6-9fbe707d05bd",
   "metadata": {},
   "outputs": [
    {
     "data": {
      "text/plain": [
       "['Africa',\n",
       " 'Asia',\n",
       " 'Europe',\n",
       " 'Oceania',\n",
       " 'T',\n",
       " '_AXIS_LEN',\n",
       " '_AXIS_ORDERS',\n",
       " '_AXIS_TO_AXIS_NUMBER',\n",
       " '_HANDLED_TYPES',\n",
       " '__abs__',\n",
       " '__add__',\n",
       " '__and__',\n",
       " '__annotations__',\n",
       " '__array__',\n",
       " '__array_priority__',\n",
       " '__array_ufunc__',\n",
       " '__bool__',\n",
       " '__class__',\n",
       " '__column_consortium_standard__',\n",
       " '__contains__',\n",
       " '__copy__',\n",
       " '__deepcopy__',\n",
       " '__delattr__',\n",
       " '__delitem__',\n",
       " '__dict__',\n",
       " '__dir__',\n",
       " '__divmod__',\n",
       " '__doc__',\n",
       " '__eq__',\n",
       " '__finalize__',\n",
       " '__float__',\n",
       " '__floordiv__',\n",
       " '__format__',\n",
       " '__ge__',\n",
       " '__getattr__',\n",
       " '__getattribute__',\n",
       " '__getitem__',\n",
       " '__getstate__',\n",
       " '__gt__',\n",
       " '__hash__',\n",
       " '__iadd__',\n",
       " '__iand__',\n",
       " '__ifloordiv__',\n",
       " '__imod__',\n",
       " '__imul__',\n",
       " '__init__',\n",
       " '__init_subclass__',\n",
       " '__int__',\n",
       " '__invert__',\n",
       " '__ior__',\n",
       " '__ipow__',\n",
       " '__isub__',\n",
       " '__iter__',\n",
       " '__itruediv__',\n",
       " '__ixor__',\n",
       " '__le__',\n",
       " '__len__',\n",
       " '__lt__',\n",
       " '__matmul__',\n",
       " '__mod__',\n",
       " '__module__',\n",
       " '__mul__',\n",
       " '__ne__',\n",
       " '__neg__',\n",
       " '__new__',\n",
       " '__nonzero__',\n",
       " '__or__',\n",
       " '__pandas_priority__',\n",
       " '__pos__',\n",
       " '__pow__',\n",
       " '__radd__',\n",
       " '__rand__',\n",
       " '__rdivmod__',\n",
       " '__reduce__',\n",
       " '__reduce_ex__',\n",
       " '__repr__',\n",
       " '__rfloordiv__',\n",
       " '__rmatmul__',\n",
       " '__rmod__',\n",
       " '__rmul__',\n",
       " '__ror__',\n",
       " '__round__',\n",
       " '__rpow__',\n",
       " '__rsub__',\n",
       " '__rtruediv__',\n",
       " '__rxor__',\n",
       " '__setattr__',\n",
       " '__setitem__',\n",
       " '__setstate__',\n",
       " '__sizeof__',\n",
       " '__str__',\n",
       " '__sub__',\n",
       " '__subclasshook__',\n",
       " '__truediv__',\n",
       " '__weakref__',\n",
       " '__xor__',\n",
       " '_accessors',\n",
       " '_accum_func',\n",
       " '_agg_examples_doc',\n",
       " '_agg_see_also_doc',\n",
       " '_align_for_op',\n",
       " '_align_frame',\n",
       " '_align_series',\n",
       " '_append',\n",
       " '_arith_method',\n",
       " '_as_manager',\n",
       " '_attrs',\n",
       " '_binop',\n",
       " '_can_hold_na',\n",
       " '_check_inplace_and_allows_duplicate_labels',\n",
       " '_check_is_chained_assignment_possible',\n",
       " '_check_label_or_level_ambiguity',\n",
       " '_check_setitem_copy',\n",
       " '_clear_item_cache',\n",
       " '_clip_with_one_bound',\n",
       " '_clip_with_scalar',\n",
       " '_cmp_method',\n",
       " '_consolidate',\n",
       " '_consolidate_inplace',\n",
       " '_construct_axes_dict',\n",
       " '_construct_result',\n",
       " '_constructor',\n",
       " '_constructor_expanddim',\n",
       " '_constructor_expanddim_from_mgr',\n",
       " '_constructor_from_mgr',\n",
       " '_convert_dtypes',\n",
       " '_data',\n",
       " '_deprecate_downcast',\n",
       " '_dir_additions',\n",
       " '_dir_deletions',\n",
       " '_drop_axis',\n",
       " '_drop_labels_or_levels',\n",
       " '_duplicated',\n",
       " '_expanddim_from_mgr',\n",
       " '_find_valid_index',\n",
       " '_flags',\n",
       " '_flex_method',\n",
       " '_from_mgr',\n",
       " '_get_axis',\n",
       " '_get_axis_name',\n",
       " '_get_axis_number',\n",
       " '_get_axis_resolvers',\n",
       " '_get_block_manager_axis',\n",
       " '_get_bool_data',\n",
       " '_get_cacher',\n",
       " '_get_cleaned_column_resolvers',\n",
       " '_get_index_resolvers',\n",
       " '_get_label_or_level_values',\n",
       " '_get_numeric_data',\n",
       " '_get_rows_with_mask',\n",
       " '_get_value',\n",
       " '_get_values_tuple',\n",
       " '_get_with',\n",
       " '_getitem_slice',\n",
       " '_gotitem',\n",
       " '_hidden_attrs',\n",
       " '_indexed_same',\n",
       " '_info_axis',\n",
       " '_info_axis_name',\n",
       " '_info_axis_number',\n",
       " '_init_dict',\n",
       " '_init_mgr',\n",
       " '_inplace_method',\n",
       " '_internal_names',\n",
       " '_internal_names_set',\n",
       " '_is_cached',\n",
       " '_is_copy',\n",
       " '_is_label_or_level_reference',\n",
       " '_is_label_reference',\n",
       " '_is_level_reference',\n",
       " '_is_mixed_type',\n",
       " '_is_view',\n",
       " '_item_cache',\n",
       " '_ixs',\n",
       " '_logical_func',\n",
       " '_logical_method',\n",
       " '_map_values',\n",
       " '_maybe_update_cacher',\n",
       " '_memory_usage',\n",
       " '_metadata',\n",
       " '_mgr',\n",
       " '_min_count_stat_function',\n",
       " '_name',\n",
       " '_needs_reindex_multi',\n",
       " '_pad_or_backfill',\n",
       " '_protect_consolidate',\n",
       " '_reduce',\n",
       " '_references',\n",
       " '_reindex_axes',\n",
       " '_reindex_indexer',\n",
       " '_reindex_multi',\n",
       " '_reindex_with_indexers',\n",
       " '_rename',\n",
       " '_replace_single',\n",
       " '_repr_data_resource_',\n",
       " '_repr_latex_',\n",
       " '_reset_cache',\n",
       " '_reset_cacher',\n",
       " '_set_as_cached',\n",
       " '_set_axis',\n",
       " '_set_axis_name',\n",
       " '_set_axis_nocheck',\n",
       " '_set_is_copy',\n",
       " '_set_labels',\n",
       " '_set_name',\n",
       " '_set_value',\n",
       " '_set_values',\n",
       " '_set_with',\n",
       " '_set_with_engine',\n",
       " '_shift_with_freq',\n",
       " '_slice',\n",
       " '_stat_function',\n",
       " '_stat_function_ddof',\n",
       " '_take_with_is_copy',\n",
       " '_to_latex_via_styler',\n",
       " '_typ',\n",
       " '_update_inplace',\n",
       " '_validate_dtype',\n",
       " '_values',\n",
       " '_where',\n",
       " 'abs',\n",
       " 'add',\n",
       " 'add_prefix',\n",
       " 'add_suffix',\n",
       " 'agg',\n",
       " 'aggregate',\n",
       " 'align',\n",
       " 'all',\n",
       " 'any',\n",
       " 'apply',\n",
       " 'argmax',\n",
       " 'argmin',\n",
       " 'argsort',\n",
       " 'array',\n",
       " 'asfreq',\n",
       " 'asof',\n",
       " 'astype',\n",
       " 'at',\n",
       " 'at_time',\n",
       " 'attrs',\n",
       " 'autocorr',\n",
       " 'axes',\n",
       " 'backfill',\n",
       " 'between',\n",
       " 'between_time',\n",
       " 'bfill',\n",
       " 'bool',\n",
       " 'clip',\n",
       " 'combine',\n",
       " 'combine_first',\n",
       " 'compare',\n",
       " 'convert_dtypes',\n",
       " 'copy',\n",
       " 'corr',\n",
       " 'count',\n",
       " 'cov',\n",
       " 'cummax',\n",
       " 'cummin',\n",
       " 'cumprod',\n",
       " 'cumsum',\n",
       " 'describe',\n",
       " 'diff',\n",
       " 'div',\n",
       " 'divide',\n",
       " 'divmod',\n",
       " 'dot',\n",
       " 'drop',\n",
       " 'drop_duplicates',\n",
       " 'droplevel',\n",
       " 'dropna',\n",
       " 'dtype',\n",
       " 'dtypes',\n",
       " 'duplicated',\n",
       " 'empty',\n",
       " 'eq',\n",
       " 'equals',\n",
       " 'ewm',\n",
       " 'expanding',\n",
       " 'explode',\n",
       " 'factorize',\n",
       " 'ffill',\n",
       " 'fillna',\n",
       " 'filter',\n",
       " 'first',\n",
       " 'first_valid_index',\n",
       " 'flags',\n",
       " 'floordiv',\n",
       " 'ge',\n",
       " 'get',\n",
       " 'groupby',\n",
       " 'gt',\n",
       " 'hasnans',\n",
       " 'head',\n",
       " 'hist',\n",
       " 'iat',\n",
       " 'idxmax',\n",
       " 'idxmin',\n",
       " 'iloc',\n",
       " 'index',\n",
       " 'infer_objects',\n",
       " 'info',\n",
       " 'interpolate',\n",
       " 'is_monotonic_decreasing',\n",
       " 'is_monotonic_increasing',\n",
       " 'is_unique',\n",
       " 'isin',\n",
       " 'isna',\n",
       " 'isnull',\n",
       " 'item',\n",
       " 'items',\n",
       " 'keys',\n",
       " 'kurt',\n",
       " 'kurtosis',\n",
       " 'last',\n",
       " 'last_valid_index',\n",
       " 'le',\n",
       " 'loc',\n",
       " 'lt',\n",
       " 'map',\n",
       " 'mask',\n",
       " 'max',\n",
       " 'mean',\n",
       " 'median',\n",
       " 'memory_usage',\n",
       " 'min',\n",
       " 'mod',\n",
       " 'mode',\n",
       " 'mul',\n",
       " 'multiply',\n",
       " 'name',\n",
       " 'nbytes',\n",
       " 'ndim',\n",
       " 'ne',\n",
       " 'nlargest',\n",
       " 'notna',\n",
       " 'notnull',\n",
       " 'nsmallest',\n",
       " 'nunique',\n",
       " 'pad',\n",
       " 'pct_change',\n",
       " 'pipe',\n",
       " 'plot',\n",
       " 'pop',\n",
       " 'pow',\n",
       " 'prod',\n",
       " 'product',\n",
       " 'quantile',\n",
       " 'radd',\n",
       " 'rank',\n",
       " 'ravel',\n",
       " 'rdiv',\n",
       " 'rdivmod',\n",
       " 'reindex',\n",
       " 'reindex_like',\n",
       " 'rename',\n",
       " 'rename_axis',\n",
       " 'reorder_levels',\n",
       " 'repeat',\n",
       " 'replace',\n",
       " 'resample',\n",
       " 'reset_index',\n",
       " 'rfloordiv',\n",
       " 'rmod',\n",
       " 'rmul',\n",
       " 'rolling',\n",
       " 'round',\n",
       " 'rpow',\n",
       " 'rsub',\n",
       " 'rtruediv',\n",
       " 'sample',\n",
       " 'searchsorted',\n",
       " 'sem',\n",
       " 'set_axis',\n",
       " 'set_flags',\n",
       " 'shape',\n",
       " 'shift',\n",
       " 'size',\n",
       " 'skew',\n",
       " 'sort_index',\n",
       " 'sort_values',\n",
       " 'squeeze',\n",
       " 'std',\n",
       " 'sub',\n",
       " 'subtract',\n",
       " 'sum',\n",
       " 'swapaxes',\n",
       " 'swaplevel',\n",
       " 'tail',\n",
       " 'take',\n",
       " 'to_clipboard',\n",
       " 'to_csv',\n",
       " 'to_dict',\n",
       " 'to_excel',\n",
       " 'to_frame',\n",
       " 'to_hdf',\n",
       " 'to_json',\n",
       " 'to_latex',\n",
       " 'to_list',\n",
       " 'to_markdown',\n",
       " 'to_numpy',\n",
       " 'to_period',\n",
       " 'to_pickle',\n",
       " 'to_sql',\n",
       " 'to_string',\n",
       " 'to_timestamp',\n",
       " 'to_xarray',\n",
       " 'transform',\n",
       " 'transpose',\n",
       " 'truediv',\n",
       " 'truncate',\n",
       " 'tz_convert',\n",
       " 'tz_localize',\n",
       " 'unique',\n",
       " 'unstack',\n",
       " 'update',\n",
       " 'value_counts',\n",
       " 'values',\n",
       " 'var',\n",
       " 'view',\n",
       " 'where',\n",
       " 'xs']"
      ]
     },
     "execution_count": 31,
     "metadata": {},
     "output_type": "execute_result"
    }
   ],
   "source": [
    "dir(cdf)"
   ]
  },
  {
   "cell_type": "code",
   "execution_count": 32,
   "id": "23f31077-bd4f-4ac7-9b46-7c084cb62c61",
   "metadata": {},
   "outputs": [
    {
     "data": {
      "text/plain": [
       "pandas.core.series.Series"
      ]
     },
     "execution_count": 32,
     "metadata": {},
     "output_type": "execute_result"
    }
   ],
   "source": [
    "type(cdf)"
   ]
  },
  {
   "cell_type": "code",
   "execution_count": 33,
   "id": "e943108c-11ed-44e5-8754-f391707562f4",
   "metadata": {},
   "outputs": [],
   "source": [
    "keys=cdf.keys()"
   ]
  },
  {
   "cell_type": "code",
   "execution_count": 34,
   "id": "3a531f2f-65e7-49d7-8abd-e30abcf58e9f",
   "metadata": {},
   "outputs": [],
   "source": [
    "values=cdf.values"
   ]
  },
  {
   "cell_type": "code",
   "execution_count": 35,
   "id": "e5a1a9c4-5637-4044-b444-30d4473736bf",
   "metadata": {},
   "outputs": [
    {
     "data": {
      "text/html": [
       "<div>\n",
       "<style scoped>\n",
       "    .dataframe tbody tr th:only-of-type {\n",
       "        vertical-align: middle;\n",
       "    }\n",
       "\n",
       "    .dataframe tbody tr th {\n",
       "        vertical-align: top;\n",
       "    }\n",
       "\n",
       "    .dataframe thead th {\n",
       "        text-align: right;\n",
       "    }\n",
       "</style>\n",
       "<table border=\"1\" class=\"dataframe\">\n",
       "  <thead>\n",
       "    <tr style=\"text-align: right;\">\n",
       "      <th></th>\n",
       "      <th>0</th>\n",
       "      <th>1</th>\n",
       "    </tr>\n",
       "  </thead>\n",
       "  <tbody>\n",
       "    <tr>\n",
       "      <th>0</th>\n",
       "      <td>Asia</td>\n",
       "      <td>16861</td>\n",
       "    </tr>\n",
       "    <tr>\n",
       "      <th>1</th>\n",
       "      <td>Europe</td>\n",
       "      <td>3732</td>\n",
       "    </tr>\n",
       "    <tr>\n",
       "      <th>2</th>\n",
       "      <td>North America</td>\n",
       "      <td>3292</td>\n",
       "    </tr>\n",
       "    <tr>\n",
       "      <th>3</th>\n",
       "      <td>South America</td>\n",
       "      <td>852</td>\n",
       "    </tr>\n",
       "    <tr>\n",
       "      <th>4</th>\n",
       "      <td>Africa</td>\n",
       "      <td>551</td>\n",
       "    </tr>\n",
       "    <tr>\n",
       "      <th>5</th>\n",
       "      <td>Oceania</td>\n",
       "      <td>192</td>\n",
       "    </tr>\n",
       "  </tbody>\n",
       "</table>\n",
       "</div>"
      ],
      "text/plain": [
       "               0      1\n",
       "0           Asia  16861\n",
       "1         Europe   3732\n",
       "2  North America   3292\n",
       "3  South America    852\n",
       "4         Africa    551\n",
       "5        Oceania    192"
      ]
     },
     "execution_count": 35,
     "metadata": {},
     "output_type": "execute_result"
    }
   ],
   "source": [
    "pd.DataFrame(zip(keys,values))"
   ]
  },
  {
   "cell_type": "code",
   "execution_count": 36,
   "id": "ac5cdeb1-e2ca-4d08-bbe3-47be78baaa32",
   "metadata": {},
   "outputs": [],
   "source": [
    "cdf=visa_df['continent'].value_counts()\n",
    "keys=cdf.keys()\n",
    "values=cdf.values\n",
    "cols=['Labels','Count']\n",
    "df=pd.DataFrame(zip(keys,values),\n",
    "                columns=cols)\n",
    "\n",
    "df.to_csv('continent.csv',index=False)"
   ]
  },
  {
   "cell_type": "code",
   "execution_count": 37,
   "id": "08c2d02d-5756-452e-8f82-be0420198c34",
   "metadata": {},
   "outputs": [
    {
     "data": {
      "text/plain": [
       "['continent',\n",
       " 'education_of_employee',\n",
       " 'has_job_experience',\n",
       " 'requires_job_training',\n",
       " 'region_of_employment',\n",
       " 'unit_of_wage',\n",
       " 'full_time_position',\n",
       " 'case_status']"
      ]
     },
     "execution_count": 37,
     "metadata": {},
     "output_type": "execute_result"
    }
   ],
   "source": [
    "cat_columns[1:]"
   ]
  },
  {
   "cell_type": "code",
   "execution_count": 38,
   "id": "37002fed-7c27-418f-8ceb-7da3d5248b93",
   "metadata": {},
   "outputs": [],
   "source": [
    "cdf=visa_df['education_of_employee'].value_counts()\n",
    "keys=cdf.keys()\n",
    "values=cdf.values\n",
    "cols=['Labels','Count']\n",
    "df=pd.DataFrame(zip(keys,values),\n",
    "                columns=cols)\n",
    "\n",
    "df.to_csv(f'{i}.csv',index=False)"
   ]
  },
  {
   "cell_type": "markdown",
   "id": "e27c9907-92fc-47f0-89d8-c22ca6c1d754",
   "metadata": {},
   "source": [
    "- we need to change that column name \n",
    "\n",
    "- we need to change save the file name as column name"
   ]
  },
  {
   "cell_type": "code",
   "execution_count": 39,
   "id": "ff96a404-b328-4a5d-a963-8a865b0506cc",
   "metadata": {},
   "outputs": [],
   "source": [
    "for i in cat_column[1:]:\n",
    "    cdf=visa_df[i].value_counts()\n",
    "    keys=cdf.keys() \n",
    "    values=cdf.values\n",
    "    cols=['Labels','Count']\n",
    "    df=pd.DataFrame(zip(keys,values),\n",
    "                columns=cols)\n",
    "    path=r\"C:\\Users\\samud\\OneDrive\\Documents\\Naresh it\\datasets\\Visadataset.csv\"\n",
    "\n",
    "df.to_csv(f'{i}.csv',index=False)"
   ]
  },
  {
   "cell_type": "code",
   "execution_count": 40,
   "id": "e821b6c9-ed95-4e4b-aad2-53342c91e33c",
   "metadata": {},
   "outputs": [],
   "source": [
    "def valuecount(i):\n",
    "    cdf=visa_df[i].value_counts()\n",
    "    keys=cdf.keys()\n",
    "    values=cdf.values\n",
    "    cols=['Labels','Count']\n",
    "    df=pd.DataFrame(zip(keys,values),\n",
    "                columns=cols)\n",
    "    path=r\"C:\\Users\\samud\\OneDrive\\Documents\\Naresh it\\datasets\\Visadataset.csv\"\n",
    "    df.to_csv(f'{i}.csv',index=False)"
   ]
  },
  {
   "cell_type": "code",
   "execution_count": null,
   "id": "acebac1f-f4f1-4835-9a78-955a1052e3cb",
   "metadata": {},
   "outputs": [],
   "source": [
    "# visa_df[cat_column[1:]].applymap(valuecounts)"
   ]
  },
  {
   "cell_type": "markdown",
   "id": "eba24dcd-2849-4894-91ad-5756c48ec064",
   "metadata": {},
   "source": [
    "**Normalize**\n",
    "\n",
    "- Relative frequency table\n",
    "\n",
    "- will give percentage of lables in the columnm"
   ]
  },
  {
   "cell_type": "code",
   "execution_count": 41,
   "id": "1ec55d72-861f-40ba-97f8-8c2be3b8103d",
   "metadata": {},
   "outputs": [
    {
     "data": {
      "text/plain": [
       "continent\n",
       "Asia             66.17\n",
       "Europe           14.65\n",
       "North America    12.92\n",
       "South America     3.34\n",
       "Africa            2.16\n",
       "Oceania           0.75\n",
       "Name: proportion, dtype: float64"
      ]
     },
     "execution_count": 41,
     "metadata": {},
     "output_type": "execute_result"
    }
   ],
   "source": [
    "cdf=visa_df['continent'].value_counts(normalize=True)\n",
    "round(cdf*100,2)"
   ]
  },
  {
   "cell_type": "markdown",
   "id": "c11d360c-aacd-42e5-bb12-98460d30e7e5",
   "metadata": {},
   "source": [
    "**Bar chart**\n",
    "\n",
    "- Bar chart is the Graphical representation of frequency table\n",
    "\n",
    "- Bar graph is a plot between count and class\n",
    "\n",
    "- In order to plot bar chart we required two columns\n",
    "    - categorical column\n",
    "    - Numerical columns\n",
    "\n",
    "- we already created a frequency table for *continents_df*\n",
    "    - Here we have cols=['continents','Number of applicants']\n",
    "\n",
    "    - categorical column is: **continents**\n",
    "                       \n",
    "    - Numerical column is: **Number of Applicants**\n",
    "\n",
    "- package: **matplotlib**\n",
    "\n",
    "- we required a dataframe"
   ]
  },
  {
   "cell_type": "code",
   "execution_count": 42,
   "id": "6ec01271-305e-4015-859e-64b74c198b1c",
   "metadata": {},
   "outputs": [
    {
     "data": {
      "image/png": "[encoded data removed]",
      "text/plain": [
       "<Figure size 640x480 with 1 Axes>"
      ]
     },
     "metadata": {},
     "output_type": "display_data"
    }
   ],
   "source": [
    "import matplotlib.pyplot as plt\n",
    "plt.bar('continents','Number of Applicants',\n",
    "        data=continents_df)\n",
    "\n",
    "plt.title('Bar chart') # title name\n",
    "plt.xlabel('continents') # x-axis name\n",
    "plt.ylabel('Number of Applicants') # y-axis name\n",
    "plt.show() # show will avoid the write up and it should be at last"
   ]
  },
  {
   "cell_type": "code",
   "execution_count": 43,
   "id": "4fa906c6-73a7-46f1-a5db-0c29d3565ab5",
   "metadata": {},
   "outputs": [
    {
     "data": {
      "text/plain": [
       "<BarContainer object of 1 artists>"
      ]
     },
     "execution_count": 43,
     "metadata": {},
     "output_type": "execute_result"
    },
    {
     "data": {
      "image/png": "[encoded data removed]",
      "text/plain": [
       "<Figure size 640x480 with 1 Axes>"
      ]
     },
     "metadata": {},
     "output_type": "display_data"
    }
   ],
   "source": [
    "import matplotlib.pyplot as plt\n",
    "plt.bar('continents','Number of Applicants')"
   ]
  },
  {
   "cell_type": "code",
   "execution_count": 44,
   "id": "e363c2ba-8dcb-47b9-90e0-97f27685b299",
   "metadata": {},
   "outputs": [
    {
     "data": {
      "text/plain": [
       "continent\n",
       "Asia             0.661735\n",
       "Europe           0.146468\n",
       "North America    0.129199\n",
       "South America    0.033438\n",
       "Africa           0.021625\n",
       "Oceania          0.007535\n",
       "Name: proportion, dtype: float64"
      ]
     },
     "execution_count": 44,
     "metadata": {},
     "output_type": "execute_result"
    }
   ],
   "source": [
    "cdf=visa_df['continent'].value_counts(normalize=True)\n",
    "cdf"
   ]
  },
  {
   "cell_type": "code",
   "execution_count": 45,
   "id": "396ab431-766e-469c-92c0-4d67e8cf17fb",
   "metadata": {},
   "outputs": [
    {
     "data": {
      "text/plain": [
       "0          Asia\n",
       "1          Asia\n",
       "2          Asia\n",
       "3          Asia\n",
       "4        Africa\n",
       "          ...  \n",
       "25475      Asia\n",
       "25476      Asia\n",
       "25477      Asia\n",
       "25478      Asia\n",
       "25479      Asia\n",
       "Name: continent, Length: 25480, dtype: object"
      ]
     },
     "execution_count": 45,
     "metadata": {},
     "output_type": "execute_result"
    }
   ],
   "source": [
    "visa_df['continent'] #raw data\n",
    "\n",
    "#continents_df\n",
    "#  for loop\n",
    "#  value_counts\n",
    "\n",
    "# plot the bar chart"
   ]
  },
  {
   "cell_type": "markdown",
   "id": "8e1aef73-93d0-4125-9726-fa3fcb7db8a2",
   "metadata": {},
   "source": [
    "####################Task-1################\n",
    "\n",
    "- Take a fresh notebook\n",
    "- read the visa dataset\n",
    "- create a case_status frequency table\n",
    "- save the in your laptop\n",
    "\n",
    "- Take another notebook\n",
    "- perform the bar polt on case_status dataframe\n",
    "\n",
    "\n",
    "###################Task-2#################\n",
    "- Take a fresh Notebook\n",
    "-read the visa dataset\n",
    "- create a case_status frequency table\n",
    "- perform the bar pot on case_status dataframe"
   ]
  },
  {
   "cell_type": "markdown",
   "id": "69d13b68-968b-478d-9c6b-41cc7704a76a",
   "metadata": {},
   "source": [
    "**Bar chart using seaborn**\n",
    "\n",
    "- we can bar charts using with many packages\n",
    "\n",
    "- one package is matpllotlib\n",
    "\n",
    "- another package is seaborn\n",
    "\n",
    "- In matplotlib the method is **plt.bar**\n",
    "\n",
    "- In seaborn the method is **countplot**\n",
    "\n",
    "- In matplotlib,\n",
    "     - we will take the raw data\n",
    "\n",
    "     - we will create our frequency table i.e. dataframe\n",
    "\n",
    "     - we will pass the column1,column2 and dataframe name\n",
    "\n",
    "- In seaborn count plot\n",
    "\n",
    "     - It takes direct raw data\n",
    "\n",
    "     - we will provide direct column name\n",
    "\n",
    "     - we will provide main dataframe name"
   ]
  },
  {
   "cell_type": "code",
   "execution_count": 46,
   "id": "af3a6a78-d601-4e0a-8edb-5a61de057186",
   "metadata": {},
   "outputs": [
    {
     "data": {
      "image/png": "[encoded data removed]",
      "text/plain": [
       "<Figure size 800x400 with 1 Axes>"
      ]
     },
     "metadata": {},
     "output_type": "display_data"
    }
   ],
   "source": [
    "# continent column==== continent_df ====plt.bar\n",
    "\n",
    "# continent column directly === visadf\n",
    "import seaborn as sns\n",
    "plt.figure(figsize=(8,4))\n",
    "order_continents=['Asia','Europe','North America','South America','Africa','Oceania']\n",
    "sns.countplot(data=visa_df,\n",
    "              x='continent',\n",
    "              order=order_continents)\n",
    "plt.title('Bar chart')\n",
    "plt.savefig('continents_bar_chart_using_seaborn.jpg')\n",
    "plt.show()"
   ]
  },
  {
   "cell_type": "code",
   "execution_count": 47,
   "id": "8e104974-7fb8-4e99-b1ef-7412f6103bd4",
   "metadata": {},
   "outputs": [
    {
     "data": {
      "text/plain": [
       "Index(['Asia', 'Europe', 'North America', 'South America', 'Africa',\n",
       "       'Oceania'],\n",
       "      dtype='object', name='continent')"
      ]
     },
     "execution_count": 47,
     "metadata": {},
     "output_type": "execute_result"
    }
   ],
   "source": [
    "visa_df['continent'].value_counts().keys()"
   ]
  },
  {
   "cell_type": "code",
   "execution_count": 48,
   "id": "c2c8064f-d61b-44ea-83e7-a3b85fd6cdc9",
   "metadata": {},
   "outputs": [
    {
     "data": {
      "image/png": "[encoded data removed]",
      "text/plain": [
       "<Figure size 800x400 with 1 Axes>"
      ]
     },
     "metadata": {},
     "output_type": "display_data"
    }
   ],
   "source": [
    "import seaborn as sns\n",
    "plt.figure(figsize=(8,4))\n",
    "order_continents=visa_df['continent'].value_counts().keys()\n",
    "sns.countplot(data=visa_df,\n",
    "              x='continent',\n",
    "              order=order_continents)\n",
    "plt.title('Bar chart')\n",
    "plt.savefig('continents_bar_chart_using_seaborn.jpg')\n",
    "plt.show()"
   ]
  },
  {
   "cell_type": "markdown",
   "id": "a582833f-8889-471f-aada-e0e948c1bfb7",
   "metadata": {},
   "source": [
    "$Task-3$\n",
    "\n",
    "**Using For loop plots the bar charts of all the cat column**\n",
    "\n",
    "- we can use seaborn and matplotlib\n",
    "- seaborn: countplot requires only raw data, direct column name and main data\n",
    "- matplotlib: Requires frequency table\n",
    "    - from raw data,will make value counts\n",
    "    - From value counts we are making keys and values sepertly\n",
    "    - then we are creating a dataframe\n",
    "\n",
    "- start with seaborn\n",
    "    - then we require cat column names\n",
    "    - and main dataframe\n",
    "- start with matplotlib\n",
    "    - we already created a folder :Value_count_df\n"
   ]
  },
  {
   "cell_type": "code",
   "execution_count": 49,
   "id": "a661a263-a6be-4702-9628-efc6390a12c9",
   "metadata": {},
   "outputs": [
    {
     "data": {
      "image/png": "[encoded data removed]",
      "text/plain": [
       "<Figure size 800x500 with 1 Axes>"
      ]
     },
     "metadata": {},
     "output_type": "display_data"
    }
   ],
   "source": [
    "import seaborn as sns\n",
    "plt.figure(figsize=(8,5))\n",
    "order_continents=visa_df[i].value_counts().keys()\n",
    "sns.countplot(data=visa_df,\n",
    "              x=i,\n",
    "              order=order_continents)\n",
    "plt.title('Bar chart')\n",
    "plt.savefig(f'{i}_seaborn.jpg')\n",
    "plt.show()"
   ]
  },
  {
   "cell_type": "code",
   "execution_count": 50,
   "id": "65b53fc6-ecdc-489a-aa28-9d8f3c5b92b3",
   "metadata": {},
   "outputs": [
    {
     "data": {
      "text/plain": [
       "['case_id',\n",
       " 'continent',\n",
       " 'education_of_employee',\n",
       " 'has_job_experience',\n",
       " 'requires_job_training',\n",
       " 'region_of_employment',\n",
       " 'unit_of_wage',\n",
       " 'full_time_position',\n",
       " 'case_status']"
      ]
     },
     "execution_count": 50,
     "metadata": {},
     "output_type": "execute_result"
    }
   ],
   "source": [
    "cat_columns"
   ]
  },
  {
   "cell_type": "code",
   "execution_count": null,
   "id": "4a79b50b-5256-4cc4-8d09-cc8a6c79b67f",
   "metadata": {},
   "outputs": [],
   "source": [
    "# where you want to save\n",
    "# graph_seaborn folder"
   ]
  },
  {
   "cell_type": "markdown",
   "id": "6d20e02a-5621-4267-b6ec-1efcc4e6ae4f",
   "metadata": {},
   "source": [
    "**How to create  a folder**"
   ]
  },
  {
   "cell_type": "code",
   "execution_count": 52,
   "id": "7c20a6ae-583c-4f52-aad3-9701380f4dfb",
   "metadata": {},
   "outputs": [
    {
     "data": {
      "text/plain": [
       "'C:\\\\Users\\\\samud\\\\OneDrive\\\\Documents\\\\Naresh it\\\\Naresh it'"
      ]
     },
     "execution_count": 52,
     "metadata": {},
     "output_type": "execute_result"
    }
   ],
   "source": [
    "import os\n",
    "os.getcwd()\n",
    "\n",
    "C:\\Users\\samud\\OneDrive\\Documents\\Naresh it\\Naresh it\\graphs_seaborn"
   ]
  },
  {
   "cell_type": "markdown",
   "id": "0172e536-0ae9-4180-bca5-00b7b20ee6c8",
   "metadata": {},
   "source": [
    "**os.makedirs()**\n",
    "\n",
    "- makedirs create a leaf directory\n",
    "\n",
    "-  means it will take the current working dictionary and create one     extra folder\n",
    "\n",
    "-  Here my python file in **EDA** folder\n",
    "\n",
    "-  Now I want to create a new folder**graphs_seaborn**\n",
    "\n",
    "-  which is one step ahead of EDA folder : EDA/graphs_seaborn\n",
    "\n",
    "-  Pass the full path inside the makedirs()\n",
    "\n",
    "-  C:\\Users\\samud\\OneDrive\\Documents\\Naresh it\\Naresh        it\\graphs_seaborn\n"
   ]
  },
  {
   "cell_type": "code",
   "execution_count": 77,
   "id": "62876924-1c09-40e9-ad22-8983c417370d",
   "metadata": {},
   "outputs": [
    {
     "ename": "FileExistsError",
     "evalue": "[WinError 183] Cannot create a file when that file already exists: 'C:\\\\Users\\\\samud\\\\OneDrive\\\\Documents\\\\Naresh it\\\\Naresh it\\\\graphs_seaborn'",
     "output_type": "error",
     "traceback": [
      "\u001b[1;31m---------------------------------------------------------------------------\u001b[0m",
      "\u001b[1;31mFileExistsError\u001b[0m                           Traceback (most recent call last)",
      "Cell \u001b[1;32mIn[77], line 13\u001b[0m\n\u001b[0;32m     10\u001b[0m new_dir\n\u001b[0;32m     12\u001b[0m \u001b[38;5;66;03m# step-4;make a dir\u001b[39;00m\n\u001b[1;32m---> 13\u001b[0m os\u001b[38;5;241m.\u001b[39mmakedirs(new_dir)\n",
      "File \u001b[1;32m<frozen os>:225\u001b[0m, in \u001b[0;36mmakedirs\u001b[1;34m(name, mode, exist_ok)\u001b[0m\n",
      "\u001b[1;31mFileExistsError\u001b[0m: [WinError 183] Cannot create a file when that file already exists: 'C:\\\\Users\\\\samud\\\\OneDrive\\\\Documents\\\\Naresh it\\\\Naresh it\\\\graphs_seaborn'"
     ]
    }
   ],
   "source": [
    "#step-1:\n",
    "root_directory=os.getcwd()\n",
    "root_directory\n",
    "\n",
    "# step-2 \n",
    "new_folder='graphs_seaborn'\n",
    "\n",
    "# step-3\n",
    "new_dir=os.path.join(root_directory,new_folder)\n",
    "new_dir\n",
    "\n",
    "# step-4;make a dir\n",
    "os.makedirs(new_dir)"
   ]
  },
  {
   "cell_type": "code",
   "execution_count": 78,
   "id": "86ed57c5-2453-44ef-96dd-59960c21d4e1",
   "metadata": {},
   "outputs": [
    {
     "name": "stdout",
     "output_type": "stream",
     "text": [
      "[WinError 183] Cannot create a file when that file already exists: 'C:\\\\Users\\\\samud\\\\OneDrive\\\\Documents\\\\Naresh it\\\\Naresh it\\\\graphs_seaborn'\n"
     ]
    }
   ],
   "source": [
    "try:\n",
    "    root_directory=os.getcwd()\n",
    "    new_folder='graphs_seaborn'\n",
    "    new_dir=os.path.join(root_directory,new_folder)\n",
    "    os.makedirs(new_dir)\n",
    "\n",
    "except Exception as e:\n",
    "    print(e)"
   ]
  },
  {
   "cell_type": "code",
   "execution_count": 70,
   "id": "c1449e05-c579-4f83-a53c-da072b7282fa",
   "metadata": {},
   "outputs": [
    {
     "data": {
      "image/png": "[encoded data removed]",
      "text/plain": [
       "<Figure size 800x500 with 1 Axes>"
      ]
     },
     "metadata": {},
     "output_type": "display_data"
    },
    {
     "data": {
      "image/png": "[encoded data removed]",
      "text/plain": [
       "<Figure size 800x500 with 1 Axes>"
      ]
     },
     "metadata": {},
     "output_type": "display_data"
    },
    {
     "data": {
      "image/png": "[encoded data removed]",
      "text/plain": [
       "<Figure size 800x500 with 1 Axes>"
      ]
     },
     "metadata": {},
     "output_type": "display_data"
    },
    {
     "data": {
      "image/png": "[encoded data removed]",
      "text/plain": [
       "<Figure size 800x500 with 1 Axes>"
      ]
     },
     "metadata": {},
     "output_type": "display_data"
    },
    {
     "data": {
      "image/png": "[encoded data removed]",
      "text/plain": [
       "<Figure size 800x500 with 1 Axes>"
      ]
     },
     "metadata": {},
     "output_type": "display_data"
    },
    {
     "data": {
      "image/png": "[encoded data removed]",
      "text/plain": [
       "<Figure size 800x500 with 1 Axes>"
      ]
     },
     "metadata": {},
     "output_type": "display_data"
    },
    {
     "data": {
      "image/png": "[encoded data removed]",
      "text/plain": [
       "<Figure size 800x500 with 1 Axes>"
      ]
     },
     "metadata": {},
     "output_type": "display_data"
    },
    {
     "data": {
      "image/png": "[encoded data removed]",
      "text/plain": [
       "<Figure size 800x500 with 1 Axes>"
      ]
     },
     "metadata": {},
     "output_type": "display_data"
    }
   ],
   "source": [
    "import seaborn as sns\n",
    "for i in cat_column[1:]:\n",
    "    plt.figure(figsize=(8,5))\n",
    "    order_continents=visa_df[i].value_counts().keys()\n",
    "    sns.countplot(data=visa_df,\n",
    "                  x=i,\n",
    "                  order=order_continents)\n",
    "    plt.title('Bar chart')\n",
    "    plt.savefig(f'{new_dir}\\\\{i}_seaborn.jpg')\n",
    "    plt.show()"
   ]
  },
  {
   "cell_type": "code",
   "execution_count": 85,
   "id": "68e0d0ef-11d6-461d-a194-4a52863d9163",
   "metadata": {},
   "outputs": [
    {
     "data": {
      "text/plain": [
       "array([16861,  3732,  3292,   852,   551,   192], dtype=int64)"
      ]
     },
     "execution_count": 85,
     "metadata": {},
     "output_type": "execute_result"
    }
   ],
   "source": [
    "visa_df['continent'].value_counts().values"
   ]
  },
  {
   "cell_type": "code",
   "execution_count": 83,
   "id": "5029622d-2df0-4b5f-8fbf-77499c34c66d",
   "metadata": {},
   "outputs": [
    {
     "data": {
      "text/plain": [
       "\"C:\\\\Users\\\\samud\\\\OneDrive\\\\Documents\\\\Naresh it\\\\Naresh it\\\\graphs_seaborn'\\\\'case_status.jpg\""
      ]
     },
     "execution_count": 83,
     "metadata": {},
     "output_type": "execute_result"
    }
   ],
   "source": [
    "# suppose if i save my file:graph_seaborn\n",
    "# file path\n",
    "f\"{new_dir}'\\\\'{i}.jpg\""
   ]
  },
  {
   "cell_type": "markdown",
   "id": "96be0d78-2937-45ed-bad1-924dc5170d59",
   "metadata": {},
   "source": [
    "**Task-4**\n",
    "\n",
    "**using Matplotlib**"
   ]
  },
  {
   "cell_type": "code",
   "execution_count": 105,
   "id": "03429a2e-8bbe-41ee-8d4f-678643cf1990",
   "metadata": {},
   "outputs": [
    {
     "data": {
      "text/plain": [
       "'C:\\\\Users\\\\samud\\\\OneDrive\\\\Documents\\\\Naresh it\\\\Naresh it\\\\graphs_matplotlib'"
      ]
     },
     "execution_count": 105,
     "metadata": {},
     "output_type": "execute_result"
    }
   ],
   "source": [
    "#step-1:\n",
    "root_directory=os.getcwd()\n",
    "root_directory\n",
    "\n",
    "# step-2 \n",
    "new_folder='graphs_matplotlib'\n",
    "\n",
    "# step-3\n",
    "new_dir=os.path.join(root_directory,new_folder)\n",
    "new_dir\n",
    "\n",
    "# step-4;make a dir\n",
    "#os.makedirs(new_dir)"
   ]
  },
  {
   "cell_type": "code",
   "execution_count": 106,
   "id": "d175eb76-415a-47a9-8e53-3576fb27a568",
   "metadata": {},
   "outputs": [
    {
     "name": "stdout",
     "output_type": "stream",
     "text": [
      "[WinError 183] Cannot create a file when that file already exists: 'C:\\\\Users\\\\samud\\\\OneDrive\\\\Documents\\\\Naresh it\\\\Naresh it\\\\graphs_matplotlib'\n"
     ]
    }
   ],
   "source": [
    "import os\n",
    "try:\n",
    "    root_directory=os.getcwd()\n",
    "    new_folder='graphs_matplotlib'\n",
    "    new_dir=os.path.join(root_directory,new_folder)\n",
    "    os.makedirs(new_dir)\n",
    "\n",
    "except Exception as e:\n",
    "    print(e)"
   ]
  },
  {
   "cell_type": "code",
   "execution_count": 107,
   "id": "f3144d1e-7062-47a4-b18a-08ea19e379e3",
   "metadata": {},
   "outputs": [
    {
     "data": {
      "text/plain": [
       "'C:\\\\Users\\\\samud\\\\OneDrive\\\\Documents\\\\Naresh it\\\\Naresh it\\\\value_counts_df'"
      ]
     },
     "execution_count": 107,
     "metadata": {},
     "output_type": "execute_result"
    }
   ],
   "source": [
    "root_directory=os.getcwd()\n",
    "new_folder='value_counts_df'\n",
    "dir=os.path.join(root_directory,new_folder)\n",
    "dir"
   ]
  },
  {
   "cell_type": "code",
   "execution_count": 104,
   "id": "616b9092-9e23-4544-9d2e-7145dff36d9e",
   "metadata": {},
   "outputs": [
    {
     "data": {
      "text/plain": [
       "[]"
      ]
     },
     "execution_count": 104,
     "metadata": {},
     "output_type": "execute_result"
    }
   ],
   "source": [
    "dfs=os.listdir(r'C:\\\\Users\\\\samud\\\\OneDrive\\\\Documents\\\\Naresh it\\\\Naresh it\\\\value_counts_df')\n",
    "dfs"
   ]
  },
  {
   "cell_type": "code",
   "execution_count": 69,
   "id": "c9db78e2-7afb-4b2d-8858-600bd8fed18a",
   "metadata": {},
   "outputs": [
    {
     "ename": "SyntaxError",
     "evalue": "unterminated string literal (detected at line 6) (3736386947.py, line 6)",
     "output_type": "error",
     "traceback": [
      "\u001b[1;36m  Cell \u001b[1;32mIn[69], line 6\u001b[1;36m\u001b[0m\n\u001b[1;33m    data=\"Visadataset)\u001b[0m\n\u001b[1;37m         ^\u001b[0m\n\u001b[1;31mSyntaxError\u001b[0m\u001b[1;31m:\u001b[0m unterminated string literal (detected at line 6)\n"
     ]
    }
   ],
   "source": [
    "import matplotlib.pyplot as plt\n",
    "for i in \n",
    "df=pd.read_csv(i)\n",
    "plt.bar('Label',\n",
    "        'Count',\n",
    "        data=\"Visadataset)\n",
    "\n",
    "plt.title('Bar chart') # title name\n",
    "plt.xlabel('Label') # x-axis name\n",
    "plt.ylabel('Count')# y-axis name\n",
    "plt.savefig(f'{new_dir}\\\\{i}_matplotlib.jpg')\n",
    "plt.show() # show will avoid the write up and it should be at last"
   ]
  },
  {
   "cell_type": "code",
   "execution_count": 108,
   "id": "0896c76a-0d48-42c4-96c5-db93d5d9cd6a",
   "metadata": {},
   "outputs": [
    {
     "data": {
      "image/png": "[encoded data removed]",
      "text/plain": [
       "<Figure size 800x500 with 1 Axes>"
      ]
     },
     "metadata": {},
     "output_type": "display_data"
    },
    {
     "data": {
      "image/png": "[encoded data removed]",
      "text/plain": [
       "<Figure size 800x500 with 1 Axes>"
      ]
     },
     "metadata": {},
     "output_type": "display_data"
    },
    {
     "data": {
      "image/png": "[encoded data removed]",
      "text/plain": [
       "<Figure size 800x500 with 1 Axes>"
      ]
     },
     "metadata": {},
     "output_type": "display_data"
    },
    {
     "data": {
      "image/png": "[encoded data removed]",
      "text/plain": [
       "<Figure size 800x500 with 1 Axes>"
      ]
     },
     "metadata": {},
     "output_type": "display_data"
    },
    {
     "data": {
      "image/png": "[encoded data removed]",
      "text/plain": [
       "<Figure size 800x500 with 1 Axes>"
      ]
     },
     "metadata": {},
     "output_type": "display_data"
    },
    {
     "data": {
      "image/png": "[encoded data removed]",
      "text/plain": [
       "<Figure size 800x500 with 1 Axes>"
      ]
     },
     "metadata": {},
     "output_type": "display_data"
    },
    {
     "data": {
      "image/png": "[encoded data removed]",
      "text/plain": [
       "<Figure size 800x500 with 1 Axes>"
      ]
     },
     "metadata": {},
     "output_type": "display_data"
    },
    {
     "data": {
      "image/png": "[encoded data removed]",
      "text/plain": [
       "<Figure size 800x500 with 1 Axes>"
      ]
     },
     "metadata": {},
     "output_type": "display_data"
    }
   ],
   "source": [
    "import seaborn as sns\n",
    "for i in cat_column[1:]:\n",
    "    plt.figure(figsize=(8,5))\n",
    "    order_continents=visa_df[i].value_counts().keys()\n",
    "    sns.countplot(data=visa_df,\n",
    "                  x=i,\n",
    "                  order=order_continents)\n",
    "    plt.title('Bar chart')\n",
    "    plt.savefig(f'{new_dir}\\\\{i}_matplotlib.jpg')\n",
    "    plt.show()"
   ]
  },
  {
   "cell_type": "code",
   "execution_count": null,
   "id": "066cc27a-7e12-4b1d-8475-774be70ed2d0",
   "metadata": {},
   "outputs": [],
   "source": []
  }
 ],
 "metadata": {
  "kernelspec": {
   "display_name": "Python 3 (ipykernel)",
   "language": "python",
   "name": "python3"
  },
  "language_info": {
   "codemirror_mode": {
    "name": "ipython",
    "version": 3
   },
   "file_extension": ".py",
   "mimetype": "text/x-python",
   "name": "python",
   "nbconvert_exporter": "python",
   "pygments_lexer": "ipython3",
   "version": "3.11.7"
  }
 },
 "nbformat": 4,
 "nbformat_minor": 5
}
