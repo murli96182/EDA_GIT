{
 "cells": [
  {
   "cell_type": "markdown",
   "id": "dea6467a-32c7-4904-8bb5-ec3228ce513b",
   "metadata": {},
   "source": [
    "**while loop**\n",
    "\n",
    "- If you  want to apply unlimited iterations then we choose while loop\n",
    "- any loop we required 3 things\n",
    "    - intial point or start point\n",
    "    - conditional to stop\n",
    "    - increment or decrement\n",
    "- in for loop we are using all these 3 in a single line\n",
    "- in while loop we will use all these 3 tn 3 lines"
   ]
  },
  {
   "cell_type": "code",
   "execution_count": null,
   "id": "0077a174-bd26-4fcd-b7c1-926a96f9edf7",
   "metadata": {},
   "outputs": [],
   "source": [
    "# intial point\n",
    "# while <condition>:\n",
    "#      <statements>\n",
    "#      <increment or decrement>"
   ]
  },
  {
   "cell_type": "code",
   "execution_count": null,
   "id": "a21689f9-197a-4791-9212-20852659e5bb",
   "metadata": {},
   "outputs": [],
   "source": [
    "for i in range(1,6):\n",
    "    print(i,end='')\n",
    "# i=1\n",
    "# when i reaches 5 then should stop\n",
    "# i=i+1"
   ]
  },
  {
   "cell_type": "code",
   "execution_count": null,
   "id": "1ec48544-5dee-4616-8b79-ab1abdf68c57",
   "metadata": {},
   "outputs": [],
   "source": [
    "i=1\n",
    "while <condition>:\n",
    "    print(i,end='')\n",
    "    i=i+1\n",
    "\n",
    "# condition anything that should be true\n",
    "# "
   ]
  },
  {
   "cell_type": "code",
   "execution_count": null,
   "id": "4e1127cb-d0b1-4076-bd40-8899c78de655",
   "metadata": {},
   "outputs": [],
   "source": [
    "#case-1\n",
    "i=1    # start point\n",
    "while i<3:    # condition\n",
    "    print(i,end='')\n",
    "    i=i+1              # increment or decrement\n",
    "\n",
    "# step-1: i=1  while 1<3  True  print(1) i=1+1=2\n",
    "#  step-2: i=2  while 2<3  True  print(1) i=1+2=3\n",
    "#  step-3: i=3  while 3<3  False  \n"
   ]
  },
  {
   "cell_type": "code",
   "execution_count": null,
   "id": "11413f0a-1339-40fd-a75c-5bb31672879a",
   "metadata": {},
   "outputs": [],
   "source": [
    "**Infinite loop**\n",
    "\n",
    "- whenever infinite loop occures\n",
    "- apply the condition and the apply"
   ]
  },
  {
   "cell_type": "code",
   "execution_count": null,
   "id": "8e0968d2-2154-43a2-a180-84dbe1d01ae3",
   "metadata": {},
   "outputs": [],
   "source": [
    "i=1    # start point\n",
    "while i!=0:    # condition\n",
    "    print(i,end=' ')\n",
    "    i=i+1 \n",
    "    if i==10:\n",
    "        break\n"
   ]
  },
  {
   "cell_type": "code",
   "execution_count": null,
   "id": "14212e1a-9947-4d51-a2df-0a812d5f3838",
   "metadata": {},
   "outputs": [],
   "source": [
    "i=1\n",
    "while i<20:\n",
    "    print(i)\n",
    "    i=i/2\n",
    "\n",
    "# i=1   1,20 T   print"
   ]
  },
  {
   "cell_type": "code",
   "execution_count": null,
   "id": "6a1c2547-f126-4380-a429-663ccd75eaea",
   "metadata": {},
   "outputs": [],
   "source": [
    "**True**\n",
    "\n",
    "- when we wangt to use infinite interation \n",
    "- if we want "
   ]
  },
  {
   "cell_type": "code",
   "execution_count": null,
   "id": "0cf51af1-4b5b-4cba-a3e6-870a1d4a3b83",
   "metadata": {},
   "outputs": [],
   "source": [
    "i=1\n",
    "while i!=0:\n",
    "    print(i,end=' ')\n",
    "    i=i+1\n",
    "    if 1==10:\n",
    "        break\n",
    "    "
   ]
  },
  {
   "cell_type": "code",
   "execution_count": null,
   "id": "59dbe771-4107-42be-bd1a-0a1fafb0798b",
   "metadata": {},
   "outputs": [],
   "source": [
    "#wap to print -10 t0 -1\n",
    "# using for loop and while loop\n",
    "for i in range(-10,-1):\n",
    "    print(i,end=' ')\n",
    "\n",
    "i=-10\n",
    "while i<0:\n",
    "    print(i,end=' ')\n",
    "    i=i+1\n",
    "\n",
    "# wap to print -1 to -10\n",
    "# using for loop and while loop\n",
    "for i in range(-1,-10,-1):\n",
    "    print(i,end=' ')\n",
    "\n",
    "i=-1\n",
    "while i<0:\n",
    "    print(i,end=' ')\n",
    "    i=i-1\n",
    "\n",
    "# wsp to to print 10 to 1\n",
    "# using for loop and while loop"
   ]
  },
  {
   "cell_type": "code",
   "execution_count": 1,
   "id": "15fe559a-d037-4518-aa57-224bc260ad36",
   "metadata": {},
   "outputs": [
    {
     "name": "stdout",
     "output_type": "stream",
     "text": [
      "-10 -9 -8 -7 -6 -5 -4 -3 -2 -10 -9 -8 -7 -6 -5 -4 -3 -2 -1 "
     ]
    }
   ],
   "source": [
    "for i in range(-10,-1):\n",
    "    print(i,end=' ')\n",
    "\n",
    "i=-10\n",
    "while i<0:\n",
    "    print(i,end=' ')\n",
    "    i=i+1"
   ]
  },
  {
   "cell_type": "code",
   "execution_count": null,
   "id": "40ec1588-3be9-4c75-9192-506078ca4a93",
   "metadata": {},
   "outputs": [],
   "source": [
    "for i in range(10,1):\n",
    "    print(i,end=' ')\n",
    "\n",
    "i=10\n",
    "while i>=1:\n",
    "    print(i,end=' ')\n",
    "    i=i-1\n"
   ]
  },
  {
   "cell_type": "code",
   "execution_count": null,
   "id": "f038d132-1c52-4581-b4a9-33f3ed31cac9",
   "metadata": {},
   "outputs": [],
   "source": [
    "# for loop assignment\n",
    "# All for loop class room"
   ]
  }
 ],
 "metadata": {
  "kernelspec": {
   "display_name": "Python 3 (ipykernel)",
   "language": "python",
   "name": "python3"
  },
  "language_info": {
   "codemirror_mode": {
    "name": "ipython",
    "version": 3
   },
   "file_extension": ".py",
   "mimetype": "text/x-python",
   "name": "python",
   "nbconvert_exporter": "python",
   "pygments_lexer": "ipython3",
   "version": "3.11.7"
  }
 },
 "nbformat": 4,
 "nbformat_minor": 5
}
