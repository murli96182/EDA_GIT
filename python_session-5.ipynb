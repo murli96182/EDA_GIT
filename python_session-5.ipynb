{
 "cells": [
  {
   "cell_type": "markdown",
   "id": "b34c54a6-ca21-4bc1-b151-2ffb11b9c042",
   "metadata": {},
   "source": [
    "- print is used to see some answers\n",
    "\n",
    "- In jupyter notebook we no need to provide print statement in order \n",
    "\n",
    "- If more than two answer  are there we can check all answers using print statment"
   ]
  },
  {
   "cell_type": "code",
   "execution_count": 1,
   "id": "c79118ba-e7a7-4f57-ad12-763a4a12b4c2",
   "metadata": {},
   "outputs": [
    {
     "data": {
      "text/plain": [
       "10"
      ]
     },
     "execution_count": 1,
     "metadata": {},
     "output_type": "execute_result"
    }
   ],
   "source": [
    "a=10\n",
    "a"
   ]
  },
  {
   "cell_type": "code",
   "execution_count": 2,
   "id": "252a9dbe-3bda-44ab-9c37-94fb0a299bec",
   "metadata": {},
   "outputs": [
    {
     "name": "stdout",
     "output_type": "stream",
     "text": [
      "10\n"
     ]
    }
   ],
   "source": [
    "print(a)"
   ]
  },
  {
   "cell_type": "code",
   "execution_count": 3,
   "id": "34308e65-a3e4-4326-a4ab-e6699fd1eaea",
   "metadata": {},
   "outputs": [
    {
     "name": "stdout",
     "output_type": "stream",
     "text": [
      "10\n",
      "20\n"
     ]
    }
   ],
   "source": [
    "a=10\n",
    "b=20\n",
    "print(a)\n",
    "print(b)"
   ]
  },
  {
   "cell_type": "code",
   "execution_count": 4,
   "id": "03d90664-cc57-480f-83c9-263e3df9db49",
   "metadata": {},
   "outputs": [
    {
     "name": "stdout",
     "output_type": "stream",
     "text": [
      "10\n",
      "10 20\n",
      "python\n",
      "10 20 python\n"
     ]
    }
   ],
   "source": [
    "print(10)\n",
    "print(10,20)\n",
    "print('python')\n",
    "print(10,20,'python')"
   ]
  },
  {
   "cell_type": "code",
   "execution_count": 5,
   "id": "cb470b60-024c-47fa-a3b9-8e0a47dc6513",
   "metadata": {},
   "outputs": [
    {
     "name": "stdout",
     "output_type": "stream",
     "text": [
      "50\n"
     ]
    }
   ],
   "source": [
    "num1=20\n",
    "num2=30\n",
    "add=num1+num2\n",
    "print(add)"
   ]
  },
  {
   "cell_type": "code",
   "execution_count": null,
   "id": "a20ea419-e003-43cb-8bd8-5baf9efa3d2a",
   "metadata": {},
   "outputs": [],
   "source": [
    "# the addition of 20+30 is 50"
   ]
  },
  {
   "cell_type": "code",
   "execution_count": 8,
   "id": "fa8d06bf-86a2-4994-8c0f-d7d09a6eb2ba",
   "metadata": {},
   "outputs": [
    {
     "name": "stdout",
     "output_type": "stream",
     "text": [
      "the addition of 20 and 30 is 50\n"
     ]
    }
   ],
   "source": [
    "num1=20\n",
    "num2=30\n",
    "add=num1+num2\n",
    "print(\"the addition of\",num1,'and',num2,'is',add)"
   ]
  },
  {
   "cell_type": "code",
   "execution_count": 12,
   "id": "f1ae0fc9-a86a-4768-9466-400f30780021",
   "metadata": {},
   "outputs": [
    {
     "name": "stdout",
     "output_type": "stream",
     "text": [
      "230\n"
     ]
    }
   ],
   "source": [
    "num1=200\n",
    "num2=30\n",
    "add=num1+num2\n",
    "print(add)\n",
    "\n",
    "# print(\"the addition of\",num1,'and',num2,'is',add)"
   ]
  },
  {
   "cell_type": "code",
   "execution_count": null,
   "id": "c5c33893-6038-440e-9d0c-8d808abf4fbb",
   "metadata": {},
   "outputs": [],
   "source": [
    "# the addition of 200 and 30 is 230"
   ]
  },
  {
   "cell_type": "code",
   "execution_count": 13,
   "id": "e490fe2d-eeed-4546-80fc-571c1d7324f5",
   "metadata": {},
   "outputs": [
    {
     "name": "stdout",
     "output_type": "stream",
     "text": [
      "hello my name is  python in 10 years old from hyd\n"
     ]
    }
   ],
   "source": [
    "name='python'\n",
    "age=10\n",
    "city='hyd'\n",
    "# hello my name is python,in 10years old from hyd\n",
    "print(\"hello my name is \",name,'in',age,'years old from',city)"
   ]
  },
  {
   "cell_type": "code",
   "execution_count": 17,
   "id": "74f09440-2125-4866-9aa1-cb6f241a9011",
   "metadata": {},
   "outputs": [
    {
     "name": "stdout",
     "output_type": "stream",
     "text": [
      " hello my name is murli in 25 years old from warangal\n"
     ]
    }
   ],
   "source": [
    "name=\"murli\"\n",
    "age=25\n",
    "city='warangal'\n",
    "print(\" hello my name is\",name,'in',age,'years old from',city)"
   ]
  },
  {
   "cell_type": "code",
   "execution_count": 19,
   "id": "460344cf-937e-49a3-92af-442a9e16c779",
   "metadata": {},
   "outputs": [
    {
     "name": "stdout",
     "output_type": "stream",
     "text": [
      "the addition of 200 and 300 is 500\n",
      "the addition of 200 and 300\n"
     ]
    }
   ],
   "source": [
    "num1=200\n",
    "num2=300\n",
    "add=num1+num2\n",
    "print(\"the addition of\",num1,'and',num2,'is',add)\n",
    "print(\"the addition of {} and {}\".format (num1,num2,add))"
   ]
  },
  {
   "cell_type": "markdown",
   "id": "0b8867ea-19a3-4118-9f6c-948b280c775c",
   "metadata": {},
   "source": [
    "- first decide how the print statement should be\n",
    "\n",
    "- then replace the variables position as curly braces\n",
    "\n",
    "- then apply .format method"
   ]
  },
  {
   "cell_type": "code",
   "execution_count": 20,
   "id": "8cb3c165-0ee6-4aad-a161-5064d8525424",
   "metadata": {},
   "outputs": [
    {
     "name": "stdout",
     "output_type": "stream",
     "text": [
      "the addition of200,300is:500\n"
     ]
    }
   ],
   "source": [
    "num1=200\n",
    "num2=300\n",
    "add=num1+num2\n",
    "add=num1+num2\n",
    "print(\"the addition of{},{}is:{}\".format(num1,num2,add))"
   ]
  },
  {
   "cell_type": "code",
   "execution_count": 28,
   "id": "6cce7f26-bf06-4edb-a5e4-b51fc6d6fcb7",
   "metadata": {},
   "outputs": [
    {
     "name": "stdout",
     "output_type": "stream",
     "text": [
      "the avarage of 100 22 and 30 is 50.666666666666664\n",
      "the avarage of100,22,and,30is:50.666666666666664\n"
     ]
    }
   ],
   "source": [
    "num1=100\n",
    "num2=22\n",
    "num3=30\n",
    "avg=(num1+num2+num3)/3\n",
    "print(\"the avarage of\",num1,num2,'and',num3,'is',avg)\n",
    "print(\"the avarage of{},{},and,{}is:{}\".format(num1,num2,num3,avg))"
   ]
  },
  {
   "cell_type": "markdown",
   "id": "a62397e4-b92d-4726-b63f-40e3b73521bd",
   "metadata": {},
   "source": [
    "**Round method**"
   ]
  },
  {
   "cell_type": "code",
   "execution_count": 29,
   "id": "e12f96a8-0421-47f7-a785-46ebbdfe31bc",
   "metadata": {},
   "outputs": [
    {
     "data": {
      "text/plain": [
       "50.7"
      ]
     },
     "execution_count": 29,
     "metadata": {},
     "output_type": "execute_result"
    }
   ],
   "source": [
    "val=50.666666666666664\n",
    "round(val,1)"
   ]
  },
  {
   "cell_type": "code",
   "execution_count": 35,
   "id": "988d8d9c-5116-4f70-884d-9b3f3f54b4a1",
   "metadata": {},
   "outputs": [
    {
     "name": "stdout",
     "output_type": "stream",
     "text": [
      "the avarage of 5,10,and,15,is:10.0\n"
     ]
    }
   ],
   "source": [
    "n1=5\n",
    "n2=10\n",
    "n3=15\n",
    "avg=(n1+n2+n3)/3\n",
    "print (\"the avarage of {},{},and,{},is:{}\".format(n1,n2,n3,avg))"
   ]
  },
  {
   "cell_type": "code",
   "execution_count": 36,
   "id": "2eb6c695-fb93-4efd-b370-894a71cda147",
   "metadata": {},
   "outputs": [
    {
     "name": "stdout",
     "output_type": "stream",
     "text": [
      "the avarage of num1,num2 and num3 is :avg\n",
      "the avarage of100,22,and,30is:50.666666666666664\n"
     ]
    }
   ],
   "source": [
    "num1=100\n",
    "num2=22\n",
    "num3=30\n",
    "avg=(num1+num2+num3)/3\n",
    "avg1=round(avg)\n",
    "print(\"the avarage of num1,num2 and num3 is :avg\")\n",
    "print(\"the avarage of{},{},and,{}is:{}\".format(num1,num2,num3,avg))"
   ]
  },
  {
   "cell_type": "markdown",
   "id": "a1062bf2-7754-48dd-b51f-eb38a77d74b1",
   "metadata": {},
   "source": [
    "**F string method**\n",
    "\n",
    "  - variable should be inside curly braces\n",
    "\n",
    "  - and write everything inside quotes\n",
    "\n",
    "  - at starting simply add f"
   ]
  },
  {
   "cell_type": "code",
   "execution_count": 10,
   "id": "5b36c74a-24ff-4b98-8906-61194a828f7b",
   "metadata": {},
   "outputs": [
    {
     "name": "stdout",
     "output_type": "stream",
     "text": [
      "the addition of 200 , 300 is:500\n"
     ]
    }
   ],
   "source": [
    "num1=200\n",
    "num2=300\n",
    "add=num1+num2\n",
    "print(f\"the addition of {num1} , {num2} is:{add}\")"
   ]
  },
  {
   "cell_type": "markdown",
   "id": "27c2088a-cb3b-49e1-b8b5-170beea7c7c2",
   "metadata": {},
   "source": [
    "### f string method is the best method for realtime "
   ]
  },
  {
   "cell_type": "code",
   "execution_count": 14,
   "id": "dcb702d1-1f8e-4df2-9313-0f9dfe0fec40",
   "metadata": {},
   "outputs": [
    {
     "name": "stdout",
     "output_type": "stream",
     "text": [
      "the average of 100,200,and,300 is 200.0\n"
     ]
    }
   ],
   "source": [
    "num1=100\n",
    "num2=200\n",
    "num3=300\n",
    "avg=(num1+num2+num3)/3\n",
    "print(f\"the average of {num1},{num2},and,{num3} is {avg}\")"
   ]
  },
  {
   "cell_type": "code",
   "execution_count": 17,
   "id": "404f357e-b189-4a95-97bc-77439682f95a",
   "metadata": {},
   "outputs": [
    {
     "name": "stdout",
     "output_type": "stream",
     "text": [
      "hello my name is,python,in,10,years old from,hyd\n"
     ]
    }
   ],
   "source": [
    "name='python'\n",
    "age=10\n",
    "city='hyd'\n",
    "print (f\"hello my name is,{name},in,{age},years old from,{city}\")"
   ]
  },
  {
   "cell_type": "markdown",
   "id": "7dfae29b-c331-4bff-b038-adc97f51c1ab",
   "metadata": {},
   "source": [
    "**end**"
   ]
  },
  {
   "cell_type": "code",
   "execution_count": 21,
   "id": "205dfddd-77db-4bd3-a0a5-3ed5f9832bfc",
   "metadata": {},
   "outputs": [
    {
     "name": "stdout",
     "output_type": "stream",
     "text": [
      "hello good morning\n"
     ]
    }
   ],
   "source": [
    "print('hello',end=' ')        #1\n",
    "print('good morning') #2\n",
    "# hello good morning"
   ]
  },
  {
   "cell_type": "code",
   "execution_count": 28,
   "id": "4cb60d6b-5983-4dea-b0bd-c2fb74d7c5e2",
   "metadata": {},
   "outputs": [],
   "source": [
    "print=(1)\n",
    "print=(2)\n",
    "print=(3)\n",
    "\n",
    "# 1 2 3 "
   ]
  },
  {
   "cell_type": "markdown",
   "id": "dfdb4273-3755-427c-9394-51755d8c2268",
   "metadata": {},
   "source": [
    "**separate**"
   ]
  },
  {
   "cell_type": "markdown",
   "id": "9d84cca9-90ec-4101-887d-6a8c7b63041d",
   "metadata": {},
   "source": [
    "- one print statement only \n",
    "\n",
    "- in side one print statement we have multiple values\n",
    "\n",
    "- I want to seperate these multiple values with anything\n"
   ]
  },
  {
   "cell_type": "code",
   "execution_count": null,
   "id": "a16651fa-92d9-4ec7-8956-04a76c72b631",
   "metadata": {},
   "outputs": [],
   "source": []
  }
 ],
 "metadata": {
  "kernelspec": {
   "display_name": "Python 3 (ipykernel)",
   "language": "python",
   "name": "python3"
  },
  "language_info": {
   "codemirror_mode": {
    "name": "ipython",
    "version": 3
   },
   "file_extension": ".py",
   "mimetype": "text/x-python",
   "name": "python",
   "nbconvert_exporter": "python",
   "pygments_lexer": "ipython3",
   "version": "3.11.7"
  }
 },
 "nbformat": 4,
 "nbformat_minor": 5
}
