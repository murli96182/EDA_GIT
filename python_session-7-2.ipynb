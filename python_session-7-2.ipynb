{
 "cells": [
  {
   "cell_type": "code",
   "execution_count": null,
   "id": "b61b6d5d-6edc-48c8-881e-0a2aa652f083",
   "metadata": {},
   "outputs": [],
   "source": [
    "# wap ask the user \n",
    "# calculate the area of the circle\n",
    "# ask the user take radius from keyword\n",
    "#area of circle =pi*r*r\n",
    "# get the pi value from math package "
   ]
  },
  {
   "cell_type": "code",
   "execution_count": 4,
   "id": "b271ecea-7956-4686-a4b1-e81b6f83b850",
   "metadata": {},
   "outputs": [
    {
     "name": "stdin",
     "output_type": "stream",
     "text": [
      "enter the radius: 5\n"
     ]
    },
    {
     "name": "stdout",
     "output_type": "stream",
     "text": [
      "the area of circle is 78.54\n"
     ]
    }
   ],
   "source": [
    "import math\n",
    "pi=math.pi\n",
    "radius=eval(input(\"enter the radius:\"))\n",
    "area=round(pi*radius**2,2)\n",
    "print(f\"the area of circle is {area}\")"
   ]
  },
  {
   "cell_type": "code",
   "execution_count": null,
   "id": "25b84a2a-09fc-4227-8022-f5d8f6cb941f",
   "metadata": {},
   "outputs": [],
   "source": [
    "# WAP ask the user take the breath annd height\n",
    "# calculate area of the triangle \n",
    "# formula:0.5*b*h"
   ]
  },
  {
   "cell_type": "code",
   "execution_count": 7,
   "id": "c6e166c8-3bfa-4c9d-8183-0aabdd04a128",
   "metadata": {},
   "outputs": [
    {
     "name": "stdin",
     "output_type": "stream",
     "text": [
      "enter the breath: 10\n",
      "enter the height: 20\n"
     ]
    },
    {
     "name": "stdout",
     "output_type": "stream",
     "text": [
      "the area of triangle  is 100.0\n"
     ]
    }
   ],
   "source": [
    "breath=eval(input(\"enter the breath:\"))\n",
    "height=eval(input(\"enter the height:\"))\n",
    "area=0.5*breath*height\n",
    "print(f\"the area of triangle  is {area}\")\n",
    "            "
   ]
  },
  {
   "cell_type": "code",
   "execution_count": null,
   "id": "e3bdf5d5-1a62-497e-bc3f-4beb11d2d5df",
   "metadata": {},
   "outputs": [],
   "source": [
    "pic"
   ]
  },
  {
   "cell_type": "markdown",
   "id": "a8e89132-f7a2-4cb3-999d-564b3bc13be9",
   "metadata": {},
   "source": [
    "- how many ways we can provide the number\n",
    "- hard coded \n",
    "    - a=10\n",
    "- from keyword\n",
    "   - a=eval(input())\n",
    "- using random package\n",
    "- a=random.randint(1,100)"
   ]
  },
  {
   "cell_type": "code",
   "execution_count": 9,
   "id": "6522182f-754b-4f3c-a73d-6d88d2a6f512",
   "metadata": {},
   "outputs": [
    {
     "name": "stdout",
     "output_type": "stream",
     "text": [
      "the area of triangle is 100.0\n"
     ]
    }
   ],
   "source": [
    "breadth=10\n",
    "height=20\n",
    "area=0.5*breadth*height\n",
    "print(f\"the area of triangle is {area}\")\n"
   ]
  },
  {
   "cell_type": "code",
   "execution_count": 10,
   "id": "d89c0bd5-4b98-4c71-aa18-2c86ff85a7ea",
   "metadata": {},
   "outputs": [
    {
     "name": "stdin",
     "output_type": "stream",
     "text": [
      "enter the breadth: 10\n",
      "enter the height: 20\n"
     ]
    },
    {
     "name": "stdout",
     "output_type": "stream",
     "text": [
      "the area of triangle is 100.0:\n"
     ]
    }
   ],
   "source": [
    "breadth=eval(input(\"enter the breadth:\"))\n",
    "height=eval(input(\"enter the height:\"))\n",
    "area=0.5*breadth*height\n",
    "print(f\"the area of triangle is {area}:\")"
   ]
  },
  {
   "cell_type": "code",
   "execution_count": 12,
   "id": "78a20ba0-c55a-433b-ae81-4b422fe029e4",
   "metadata": {},
   "outputs": [
    {
     "name": "stdout",
     "output_type": "stream",
     "text": [
      "area of the triangle: 65.0\n"
     ]
    }
   ],
   "source": [
    "import random\n",
    "breadth=random.randint(10,20)\n",
    "height=random.randint(10,20)\n",
    "area=round(breadth*height/2,2)\n",
    "print(f\"area of the triangle: {area}\")"
   ]
  },
  {
   "cell_type": "code",
   "execution_count": 13,
   "id": "2d72cded-c4bf-4036-a4e2-460707b6c676",
   "metadata": {},
   "outputs": [
    {
     "name": "stdin",
     "output_type": "stream",
     "text": [
      "enter the start value: 10\n",
      "enter the end value: 100\n"
     ]
    },
    {
     "name": "stdout",
     "output_type": "stream",
     "text": [
      "area of the triangle:2187.0\n"
     ]
    }
   ],
   "source": [
    "import random\n",
    "start=eval(input(\"enter the start value:\"))     #start=10\n",
    "end=eval(input(\"enter the end value:\"))         #end=100\n",
    "breadth=random.randint(start,end)               #(10,100)\n",
    "height=random.randint(start,end)                #(10,100)\n",
    "area=round(breadth*height/2,2)\n",
    "print(f'area of the triangle:{area}')"
   ]
  },
  {
   "cell_type": "code",
   "execution_count": null,
   "id": "db44b703-1999-46f0-a07b-917be9fcf466",
   "metadata": {},
   "outputs": [],
   "source": [
    "#WAP ask the user calculate area of the rectangle\n",
    "# m-1: hard coded\n",
    "=m-2: keyword\n",
    "#m-3: random\n",
    "\n",
    "# formula=2(l+b)"
   ]
  },
  {
   "cell_type": "code",
   "execution_count": 21,
   "id": "1f7f9d69-69f1-4294-83bd-0ec17f06cbef",
   "metadata": {},
   "outputs": [
    {
     "name": "stdout",
     "output_type": "stream",
     "text": [
      "the area of rectangular is: 60:\n"
     ]
    }
   ],
   "source": [
    "# method-1 (hard coded)\n",
    "length=10\n",
    "breadth=20\n",
    "area=2*(length+breadth)\n",
    "print(f\"the area of rectangular is: {area}:\")"
   ]
  },
  {
   "cell_type": "code",
   "execution_count": 23,
   "id": "bde0a307-dafa-4016-80ee-51cb9e5f0f1f",
   "metadata": {},
   "outputs": [
    {
     "name": "stdin",
     "output_type": "stream",
     "text": [
      "enter the breadth of triangle: 10\n",
      "enter the height of triangle: 20\n"
     ]
    },
    {
     "name": "stdout",
     "output_type": "stream",
     "text": [
      "the area of triangle is 200:\n",
      "the perimeter of triangle is 60:\n"
     ]
    }
   ],
   "source": [
    "#method-2(keyboard)\n",
    "length=eval(input(\"enter the breadth of triangle:\"))\n",
    "breadth=eval(input(\"enter the height of triangle:\"))\n",
    "area=length*breadth\n",
    "perimeter=2*(length+breadth)\n",
    "print(f\"the area of triangle is {area}:\")\n",
    "print(f\"the perimeter of triangle is {perimeter}:\")"
   ]
  },
  {
   "cell_type": "code",
   "execution_count": 25,
   "id": "e9f7beee-6e61-418c-bcd8-3a1b200fb0bc",
   "metadata": {},
   "outputs": [
    {
     "name": "stdout",
     "output_type": "stream",
     "text": [
      "area of rectangle : 216:\n",
      "perimeter of rectangle : 60:\n"
     ]
    }
   ],
   "source": [
    "# method-3(random method start)\n",
    "length=random.randint(10,20)\n",
    "breadth=random.randint(10,20)\n",
    "area=length*breadth\n",
    "perimeter=2*(length+breadth)\n",
    "print(f\"area of rectangle : {area}:\")\n",
    "print(f\"perimeter of rectangle : {perimeter}:\")"
   ]
  },
  {
   "cell_type": "code",
   "execution_count": 21,
   "id": "e46b9877-5262-4548-8d66-30ad49398741",
   "metadata": {},
   "outputs": [
    {
     "name": "stdin",
     "output_type": "stream",
     "text": [
      "enter the radius of cylinder: 10\n",
      "enter the height: 5\n"
     ]
    },
    {
     "name": "stdout",
     "output_type": "stream",
     "text": [
      "volume of the cylinder: 1570.7963267948967:\n"
     ]
    }
   ],
   "source": [
    "# wap ask the user calculate volume of the cylinder\n",
    "# formula: pi*r*r*h\n",
    "\n",
    "# m-1\n",
    "\n",
    "\n",
    "radius=eval(input(\"enter the radius of cylinder:\"))\n",
    "height=eval(input(\"enter the height:\"))\n",
    "area=pi*radius*radius*height\n",
    "print(f\"volume of the cylinder: {area}:\")"
   ]
  },
  {
   "cell_type": "code",
   "execution_count": 31,
   "id": "8c277601-bf10-45c4-b4e5-e4dce2488628",
   "metadata": {},
   "outputs": [
    {
     "name": "stdout",
     "output_type": "stream",
     "text": [
      "the volume of cylinder: 1570.0:\n"
     ]
    }
   ],
   "source": [
    "radius=10\n",
    "height=5\n",
    "area=3.14*radius*radius*height\n",
    "print(f\"the volume of cylinder: {area}:\")"
   ]
  },
  {
   "cell_type": "code",
   "execution_count": null,
   "id": "272c6d28-9aeb-45e4-a0b5-62bd6bebf249",
   "metadata": {},
   "outputs": [],
   "source": [
    "**convrsation between mother daughter and condcuter**\n",
    "# daughter: hey mom\n",
    "# mom     : heloo beta\n",
    "# D       : mom do you know ts govt implmented free bus ride\n",
    "# mom     : oh wow super\n",
    "# d       : lets go to granny home\n",
    "\n",
    "# conductor : where you want to go \n",
    "# conductor  : show me ID card\n",
    "# mom       : we dont have any id card\n",
    "# conductor : then you need to pay the money\n",
    "# mom       : how much per km\n",
    "# cond       : 5rs==========v1\n",
    "# mom       :how many km\n",
    "# cond      :1000km========v2\n",
    "# mom       : how much money\n",
    "# cond      : 5*100=500==========v3\n",
    "# D         : i have id card\n",
    "#cond       :  enjoy the free ride "
   ]
  },
  {
   "cell_type": "code",
   "execution_count": 47,
   "id": "c665ec41-b42d-43eb-8dcb-db34348d1321",
   "metadata": {},
   "outputs": [
    {
     "name": "stdin",
     "output_type": "stream",
     "text": [
      "daughter: hey mom\n",
      "mom: heloo beta\n",
      "D: mom do you know ts govt implemented free bus ride\n",
      "mom: oh wow super\n",
      "d: lets go to granny home\n",
      "conductor: where you want to go\n",
      "conductor: show me ID card \n",
      "mom: we dont have any id card\n",
      "conductor: then you need to pay the money\n",
      "mom: how much per km\n",
      "cond: 5\n",
      "mom: how manykm\n",
      "cond: 1000\n",
      "mom: how much money\n",
      "cond: 5*100\n",
      "D i have id card\n",
      "cond: enjoy the free ride\n"
     ]
    },
    {
     "data": {
      "text/plain": [
       "'enjoy the free ride'"
      ]
     },
     "execution_count": 47,
     "metadata": {},
     "output_type": "execute_result"
    }
   ],
   "source": [
    "input(\"daughter:\")\n",
    "input(\"mom:\")\n",
    "input(\"D:\")\n",
    "input(\"mom:\")\n",
    "input(\"d:\")\n",
    "input(\"conductor:\")\n",
    "input(\"conductor:\")\n",
    "input(\"mom:\")\n",
    "input(\"conductor:\")\n",
    "input(\"mom:\")\n",
    "price=eval(input(\"cond:\"))\n",
    "input(\"mom:\")\n",
    "km=eval(input(\"cond:\"))\n",
    "input(\"mom:\")\n",
    "distance=eval(input(\"cond:\"))\n",
    "input(\"D\")\n",
    "input(\"cond:\")\n",
    "\n"
   ]
  },
  {
   "cell_type": "code",
   "execution_count": null,
   "id": "db5dfa54-4d38-4cff-8b05-380cca7c4c20",
   "metadata": {},
   "outputs": [],
   "source": []
  }
 ],
 "metadata": {
  "kernelspec": {
   "display_name": "Python 3 (ipykernel)",
   "language": "python",
   "name": "python3"
  },
  "language_info": {
   "codemirror_mode": {
    "name": "ipython",
    "version": 3
   },
   "file_extension": ".py",
   "mimetype": "text/x-python",
   "name": "python",
   "nbconvert_exporter": "python",
   "pygments_lexer": "ipython3",
   "version": "3.11.7"
  }
 },
 "nbformat": 4,
 "nbformat_minor": 5
}
